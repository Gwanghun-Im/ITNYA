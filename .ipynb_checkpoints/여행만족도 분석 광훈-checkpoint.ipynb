{
 "cells": [
  {
   "cell_type": "code",
   "execution_count": 1,
   "metadata": {},
   "outputs": [],
   "source": [
    "import pandas as pd\n",
    "import numpy as np\n",
    "import matplotlib.pyplot as plt\n",
    "%matplotlib inline\n",
    "import seaborn as sns"
   ]
  },
  {
   "cell_type": "markdown",
   "metadata": {},
   "source": [
    "## 1. Data collection"
   ]
  },
  {
   "cell_type": "code",
   "execution_count": 2,
   "metadata": {},
   "outputs": [],
   "source": [
    "data = pd.read_csv('tra_.csv')"
   ]
  },
  {
   "cell_type": "markdown",
   "metadata": {},
   "source": [
    "## 2. Data preparation"
   ]
  },
  {
   "cell_type": "code",
   "execution_count": 3,
   "metadata": {},
   "outputs": [],
   "source": [
    "#만족도 3개중 4,5 가 하나라도 있으면 1, 없으면 0\n",
    "\n",
    "d12 = data['A12'] >3\n",
    "d13 = data['A13'] >3\n",
    "d14 = data['A14'] >3\n",
    "data['total'] = d12 | d13 |d14\n",
    "data['total'] = data['total'].map({True:1, False:0})\n",
    "\n",
    "# 만족도 제거\n",
    "data.drop(['A12'], axis=1, inplace= True)\n",
    "data.drop(['A13'], axis=1, inplace= True)\n",
    "data.drop(['A14'], axis=1, inplace= True)\n",
    "data.drop(['total_s'], axis=1, inplace= True)"
   ]
  },
  {
   "cell_type": "code",
   "execution_count": 4,
   "metadata": {},
   "outputs": [],
   "source": [
    "# 널값인 행과 만족도가 없는 행 제거\n",
    "data=data[data['D_TRA1_1_SPOT1'].isnull()==False]\n",
    "data=data[data['total'].isnull()==False]"
   ]
  },
  {
   "cell_type": "code",
   "execution_count": 5,
   "metadata": {},
   "outputs": [
    {
     "data": {
      "text/html": [
       "<div>\n",
       "<style scoped>\n",
       "    .dataframe tbody tr th:only-of-type {\n",
       "        vertical-align: middle;\n",
       "    }\n",
       "\n",
       "    .dataframe tbody tr th {\n",
       "        vertical-align: top;\n",
       "    }\n",
       "\n",
       "    .dataframe thead th {\n",
       "        text-align: right;\n",
       "    }\n",
       "</style>\n",
       "<table border=\"1\" class=\"dataframe\">\n",
       "  <thead>\n",
       "    <tr style=\"text-align: right;\">\n",
       "      <th></th>\n",
       "      <th>ID</th>\n",
       "      <th>Q</th>\n",
       "      <th>D_TRA1_1_SPOT1</th>\n",
       "      <th>D_TRA1_SMONTH</th>\n",
       "      <th>D_TRA1_S_Day</th>\n",
       "      <th>D_TRA1_COST</th>\n",
       "      <th>D_TRA1_NUM</th>\n",
       "      <th>D_TRA1_CASE</th>\n",
       "      <th>A1</th>\n",
       "      <th>A2_1</th>\n",
       "      <th>...</th>\n",
       "      <th>A10G</th>\n",
       "      <th>A10H</th>\n",
       "      <th>A10I</th>\n",
       "      <th>A10</th>\n",
       "      <th>DQ6A</th>\n",
       "      <th>BSEX</th>\n",
       "      <th>BAGE</th>\n",
       "      <th>BJOB</th>\n",
       "      <th>BARA</th>\n",
       "      <th>total</th>\n",
       "    </tr>\n",
       "  </thead>\n",
       "  <tbody>\n",
       "    <tr>\n",
       "      <th>0</th>\n",
       "      <td>1</td>\n",
       "      <td>1</td>\n",
       "      <td>21090.0</td>\n",
       "      <td>12.0</td>\n",
       "      <td>1.0</td>\n",
       "      <td>2168800.0</td>\n",
       "      <td>4.0</td>\n",
       "      <td>1.0</td>\n",
       "      <td>2.0</td>\n",
       "      <td>1.0</td>\n",
       "      <td>...</td>\n",
       "      <td>0.0</td>\n",
       "      <td>0.0</td>\n",
       "      <td>0.0</td>\n",
       "      <td>938000.0</td>\n",
       "      <td>4</td>\n",
       "      <td>1</td>\n",
       "      <td>3</td>\n",
       "      <td>1</td>\n",
       "      <td>11</td>\n",
       "      <td>1</td>\n",
       "    </tr>\n",
       "    <tr>\n",
       "      <th>1</th>\n",
       "      <td>2</td>\n",
       "      <td>1</td>\n",
       "      <td>36460.0</td>\n",
       "      <td>1.0</td>\n",
       "      <td>2.0</td>\n",
       "      <td>280000.0</td>\n",
       "      <td>1.0</td>\n",
       "      <td>1.0</td>\n",
       "      <td>1.0</td>\n",
       "      <td>14.0</td>\n",
       "      <td>...</td>\n",
       "      <td>30000.0</td>\n",
       "      <td>0.0</td>\n",
       "      <td>0.0</td>\n",
       "      <td>250000.0</td>\n",
       "      <td>12</td>\n",
       "      <td>1</td>\n",
       "      <td>5</td>\n",
       "      <td>1</td>\n",
       "      <td>11</td>\n",
       "      <td>1</td>\n",
       "    </tr>\n",
       "    <tr>\n",
       "      <th>2</th>\n",
       "      <td>3</td>\n",
       "      <td>2</td>\n",
       "      <td>21090.0</td>\n",
       "      <td>1.0</td>\n",
       "      <td>2.0</td>\n",
       "      <td>345500.0</td>\n",
       "      <td>1.0</td>\n",
       "      <td>1.0</td>\n",
       "      <td>2.0</td>\n",
       "      <td>2.0</td>\n",
       "      <td>...</td>\n",
       "      <td>15000.0</td>\n",
       "      <td>0.0</td>\n",
       "      <td>0.0</td>\n",
       "      <td>217000.0</td>\n",
       "      <td>1</td>\n",
       "      <td>1</td>\n",
       "      <td>1</td>\n",
       "      <td>12</td>\n",
       "      <td>11</td>\n",
       "      <td>1</td>\n",
       "    </tr>\n",
       "    <tr>\n",
       "      <th>3</th>\n",
       "      <td>4</td>\n",
       "      <td>1</td>\n",
       "      <td>31370.0</td>\n",
       "      <td>1.0</td>\n",
       "      <td>2.0</td>\n",
       "      <td>300000.0</td>\n",
       "      <td>3.0</td>\n",
       "      <td>1.0</td>\n",
       "      <td>2.0</td>\n",
       "      <td>9.0</td>\n",
       "      <td>...</td>\n",
       "      <td>0.0</td>\n",
       "      <td>0.0</td>\n",
       "      <td>0.0</td>\n",
       "      <td>348000.0</td>\n",
       "      <td>8</td>\n",
       "      <td>1</td>\n",
       "      <td>4</td>\n",
       "      <td>1</td>\n",
       "      <td>11</td>\n",
       "      <td>1</td>\n",
       "    </tr>\n",
       "    <tr>\n",
       "      <th>4</th>\n",
       "      <td>5</td>\n",
       "      <td>1</td>\n",
       "      <td>39020.0</td>\n",
       "      <td>1.0</td>\n",
       "      <td>3.0</td>\n",
       "      <td>1425000.0</td>\n",
       "      <td>2.0</td>\n",
       "      <td>1.0</td>\n",
       "      <td>2.0</td>\n",
       "      <td>2.0</td>\n",
       "      <td>...</td>\n",
       "      <td>0.0</td>\n",
       "      <td>0.0</td>\n",
       "      <td>0.0</td>\n",
       "      <td>985000.0</td>\n",
       "      <td>5</td>\n",
       "      <td>1</td>\n",
       "      <td>6</td>\n",
       "      <td>13</td>\n",
       "      <td>11</td>\n",
       "      <td>1</td>\n",
       "    </tr>\n",
       "    <tr>\n",
       "      <th>5</th>\n",
       "      <td>6</td>\n",
       "      <td>1</td>\n",
       "      <td>22010.0</td>\n",
       "      <td>1.0</td>\n",
       "      <td>1.0</td>\n",
       "      <td>150000.0</td>\n",
       "      <td>1.0</td>\n",
       "      <td>5.0</td>\n",
       "      <td>NaN</td>\n",
       "      <td>NaN</td>\n",
       "      <td>...</td>\n",
       "      <td>NaN</td>\n",
       "      <td>NaN</td>\n",
       "      <td>NaN</td>\n",
       "      <td>NaN</td>\n",
       "      <td>1</td>\n",
       "      <td>2</td>\n",
       "      <td>2</td>\n",
       "      <td>12</td>\n",
       "      <td>11</td>\n",
       "      <td>0</td>\n",
       "    </tr>\n",
       "    <tr>\n",
       "      <th>6</th>\n",
       "      <td>7</td>\n",
       "      <td>1</td>\n",
       "      <td>32060.0</td>\n",
       "      <td>1.0</td>\n",
       "      <td>1.0</td>\n",
       "      <td>375000.0</td>\n",
       "      <td>1.0</td>\n",
       "      <td>1.0</td>\n",
       "      <td>2.0</td>\n",
       "      <td>2.0</td>\n",
       "      <td>...</td>\n",
       "      <td>18000.0</td>\n",
       "      <td>0.0</td>\n",
       "      <td>0.0</td>\n",
       "      <td>136000.0</td>\n",
       "      <td>4</td>\n",
       "      <td>2</td>\n",
       "      <td>6</td>\n",
       "      <td>11</td>\n",
       "      <td>11</td>\n",
       "      <td>1</td>\n",
       "    </tr>\n",
       "    <tr>\n",
       "      <th>7</th>\n",
       "      <td>8</td>\n",
       "      <td>1</td>\n",
       "      <td>37420.0</td>\n",
       "      <td>1.0</td>\n",
       "      <td>0.0</td>\n",
       "      <td>200000.0</td>\n",
       "      <td>1.0</td>\n",
       "      <td>3.0</td>\n",
       "      <td>NaN</td>\n",
       "      <td>NaN</td>\n",
       "      <td>...</td>\n",
       "      <td>NaN</td>\n",
       "      <td>NaN</td>\n",
       "      <td>NaN</td>\n",
       "      <td>NaN</td>\n",
       "      <td>7</td>\n",
       "      <td>2</td>\n",
       "      <td>5</td>\n",
       "      <td>2</td>\n",
       "      <td>11</td>\n",
       "      <td>0</td>\n",
       "    </tr>\n",
       "    <tr>\n",
       "      <th>8</th>\n",
       "      <td>9</td>\n",
       "      <td>1</td>\n",
       "      <td>36360.0</td>\n",
       "      <td>1.0</td>\n",
       "      <td>2.0</td>\n",
       "      <td>69400.0</td>\n",
       "      <td>1.0</td>\n",
       "      <td>4.0</td>\n",
       "      <td>2.0</td>\n",
       "      <td>5.0</td>\n",
       "      <td>...</td>\n",
       "      <td>0.0</td>\n",
       "      <td>0.0</td>\n",
       "      <td>0.0</td>\n",
       "      <td>43000.0</td>\n",
       "      <td>5</td>\n",
       "      <td>2</td>\n",
       "      <td>3</td>\n",
       "      <td>1</td>\n",
       "      <td>11</td>\n",
       "      <td>1</td>\n",
       "    </tr>\n",
       "    <tr>\n",
       "      <th>11</th>\n",
       "      <td>12</td>\n",
       "      <td>1</td>\n",
       "      <td>25040.0</td>\n",
       "      <td>1.0</td>\n",
       "      <td>0.0</td>\n",
       "      <td>200000.0</td>\n",
       "      <td>2.0</td>\n",
       "      <td>1.0</td>\n",
       "      <td>2.0</td>\n",
       "      <td>12.0</td>\n",
       "      <td>...</td>\n",
       "      <td>0.0</td>\n",
       "      <td>0.0</td>\n",
       "      <td>0.0</td>\n",
       "      <td>200000.0</td>\n",
       "      <td>4</td>\n",
       "      <td>2</td>\n",
       "      <td>2</td>\n",
       "      <td>1</td>\n",
       "      <td>11</td>\n",
       "      <td>1</td>\n",
       "    </tr>\n",
       "  </tbody>\n",
       "</table>\n",
       "<p>10 rows × 72 columns</p>\n",
       "</div>"
      ],
      "text/plain": [
       "    ID  Q  D_TRA1_1_SPOT1  D_TRA1_SMONTH  D_TRA1_S_Day  D_TRA1_COST  \\\n",
       "0    1  1         21090.0           12.0           1.0    2168800.0   \n",
       "1    2  1         36460.0            1.0           2.0     280000.0   \n",
       "2    3  2         21090.0            1.0           2.0     345500.0   \n",
       "3    4  1         31370.0            1.0           2.0     300000.0   \n",
       "4    5  1         39020.0            1.0           3.0    1425000.0   \n",
       "5    6  1         22010.0            1.0           1.0     150000.0   \n",
       "6    7  1         32060.0            1.0           1.0     375000.0   \n",
       "7    8  1         37420.0            1.0           0.0     200000.0   \n",
       "8    9  1         36360.0            1.0           2.0      69400.0   \n",
       "11  12  1         25040.0            1.0           0.0     200000.0   \n",
       "\n",
       "    D_TRA1_NUM  D_TRA1_CASE   A1  A2_1  ...     A10G  A10H  A10I       A10  \\\n",
       "0          4.0          1.0  2.0   1.0  ...      0.0   0.0   0.0  938000.0   \n",
       "1          1.0          1.0  1.0  14.0  ...  30000.0   0.0   0.0  250000.0   \n",
       "2          1.0          1.0  2.0   2.0  ...  15000.0   0.0   0.0  217000.0   \n",
       "3          3.0          1.0  2.0   9.0  ...      0.0   0.0   0.0  348000.0   \n",
       "4          2.0          1.0  2.0   2.0  ...      0.0   0.0   0.0  985000.0   \n",
       "5          1.0          5.0  NaN   NaN  ...      NaN   NaN   NaN       NaN   \n",
       "6          1.0          1.0  2.0   2.0  ...  18000.0   0.0   0.0  136000.0   \n",
       "7          1.0          3.0  NaN   NaN  ...      NaN   NaN   NaN       NaN   \n",
       "8          1.0          4.0  2.0   5.0  ...      0.0   0.0   0.0   43000.0   \n",
       "11         2.0          1.0  2.0  12.0  ...      0.0   0.0   0.0  200000.0   \n",
       "\n",
       "    DQ6A  BSEX  BAGE  BJOB  BARA  total  \n",
       "0      4     1     3     1    11      1  \n",
       "1     12     1     5     1    11      1  \n",
       "2      1     1     1    12    11      1  \n",
       "3      8     1     4     1    11      1  \n",
       "4      5     1     6    13    11      1  \n",
       "5      1     2     2    12    11      0  \n",
       "6      4     2     6    11    11      1  \n",
       "7      7     2     5     2    11      0  \n",
       "8      5     2     3     1    11      1  \n",
       "11     4     2     2     1    11      1  \n",
       "\n",
       "[10 rows x 72 columns]"
      ]
     },
     "execution_count": 5,
     "metadata": {},
     "output_type": "execute_result"
    }
   ],
   "source": [
    "#데이터 확인\n",
    "data.head(10)"
   ]
  },
  {
   "cell_type": "markdown",
   "metadata": {},
   "source": [
    "## 결측치 채우기"
   ]
  },
  {
   "cell_type": "code",
   "execution_count": 6,
   "metadata": {},
   "outputs": [],
   "source": [
    "#A1 예 아니요 매핑\n",
    "data['A1']=data['A1'].map({1:1,2:0})"
   ]
  },
  {
   "cell_type": "markdown",
   "metadata": {},
   "source": [
    "> 여행활동"
   ]
  },
  {
   "cell_type": "code",
   "execution_count": 7,
   "metadata": {},
   "outputs": [],
   "source": [
    "# A3 1,0 으로 변환\n",
    "for i in range(21):\n",
    "    data['A3_{}'.format(i+1)] = data['A3_{}'.format(i+1)].fillna(0)\n",
    "    data['A3_{}'.format(i+1)] = data['A3_{}'.format(i+1)].map({i+1:1,0:0})"
   ]
  },
  {
   "cell_type": "markdown",
   "metadata": {},
   "source": [
    "> 숙박시설"
   ]
  },
  {
   "cell_type": "code",
   "execution_count": 8,
   "metadata": {},
   "outputs": [],
   "source": [
    "# A6은 원핫인코딩된 컬럼 -> 결측치 모두 0으로 채움\n",
    "for i in range(1, 15) :\n",
    "    data[f'A6_{i}'] = data[f'A6_{i}'].fillna(value = 0)\n",
    "    data[f'A6_{i}'] = data[f'A6_{i}'].map({i:1,0:0})"
   ]
  },
  {
   "cell_type": "markdown",
   "metadata": {},
   "source": [
    "> 여행유형"
   ]
  },
  {
   "cell_type": "code",
   "execution_count": 9,
   "metadata": {},
   "outputs": [],
   "source": [
    "#A7 컬럼 채우기\n",
    "data['A7A']=data['A7A'].fillna(0)\n",
    "for i in range(7):\n",
    "    data['A7B_{}'.format(i+1)] = data['A7B_{}'.format(i+1)].fillna(0)\n",
    "    data['A7B_{}'.format(i+1)] = data['A7B_{}'.format(i+1)].map({i+1:1,0:0})"
   ]
  },
  {
   "cell_type": "code",
   "execution_count": 11,
   "metadata": {},
   "outputs": [],
   "source": [
    "'''\n",
    "=======나머지 결측치 채우기========= \n",
    "여행 유형이 3,5인 경우 널값이 존재하는데\n",
    "3,5인 경우의 널값들의 영향을 주지 않도록 하기 위해 0으로 채워줌\n",
    "'''\n",
    "data=data.fillna(0)"
   ]
  },
  {
   "cell_type": "markdown",
   "metadata": {},
   "source": [
    "## 결측치 확인"
   ]
  },
  {
   "cell_type": "code",
   "execution_count": 12,
   "metadata": {
    "scrolled": false
   },
   "outputs": [
    {
     "name": "stdout",
     "output_type": "stream",
     "text": [
      "<class 'pandas.core.frame.DataFrame'>\n",
      "Int64Index: 27321 entries, 0 to 48267\n",
      "Data columns (total 72 columns):\n",
      "ID                27321 non-null int64\n",
      "Q                 27321 non-null int64\n",
      "D_TRA1_1_SPOT1    27321 non-null float64\n",
      "D_TRA1_SMONTH     27321 non-null float64\n",
      "D_TRA1_S_Day      27321 non-null float64\n",
      "D_TRA1_COST       27321 non-null float64\n",
      "D_TRA1_NUM        27321 non-null float64\n",
      "D_TRA1_CASE       27321 non-null float64\n",
      "A1                27321 non-null float64\n",
      "A2_1              27321 non-null float64\n",
      "A3_1              27321 non-null int64\n",
      "A3_2              27321 non-null int64\n",
      "A3_3              27321 non-null int64\n",
      "A3_4              27321 non-null int64\n",
      "A3_5              27321 non-null int64\n",
      "A3_6              27321 non-null int64\n",
      "A3_7              27321 non-null int64\n",
      "A3_8              27321 non-null int64\n",
      "A3_9              27321 non-null int64\n",
      "A3_10             27321 non-null int64\n",
      "A3_11             27321 non-null int64\n",
      "A3_12             27321 non-null int64\n",
      "A3_13             27321 non-null int64\n",
      "A3_14             27321 non-null int64\n",
      "A3_15             27321 non-null int64\n",
      "A3_16             27321 non-null int64\n",
      "A3_17             27321 non-null int64\n",
      "A3_18             27321 non-null int64\n",
      "A3_19             27321 non-null int64\n",
      "A3_20             27321 non-null int64\n",
      "A3_21             27321 non-null int64\n",
      "A4_1              27321 non-null float64\n",
      "A5_1              27321 non-null float64\n",
      "A6_1              27321 non-null int64\n",
      "A6_2              27321 non-null int64\n",
      "A6_3              27321 non-null int64\n",
      "A6_4              27321 non-null int64\n",
      "A6_5              27321 non-null int64\n",
      "A6_6              27321 non-null int64\n",
      "A6_7              27321 non-null int64\n",
      "A6_8              27321 non-null int64\n",
      "A6_9              27321 non-null int64\n",
      "A6_10             27321 non-null int64\n",
      "A6_11             27321 non-null int64\n",
      "A6_12             27321 non-null int64\n",
      "A6_13             27321 non-null int64\n",
      "A6_14             27321 non-null int64\n",
      "A7                27321 non-null float64\n",
      "A7A               27321 non-null float64\n",
      "A7B_1             27321 non-null int64\n",
      "A7B_2             27321 non-null int64\n",
      "A7B_3             27321 non-null int64\n",
      "A7B_4             27321 non-null int64\n",
      "A7B_5             27321 non-null int64\n",
      "A7B_6             27321 non-null int64\n",
      "A7B_7             27321 non-null int64\n",
      "A10A              27321 non-null float64\n",
      "A10B              27321 non-null float64\n",
      "A10C              27321 non-null float64\n",
      "A10D              27321 non-null float64\n",
      "A10E              27321 non-null float64\n",
      "A10F              27321 non-null float64\n",
      "A10G              27321 non-null float64\n",
      "A10H              27321 non-null float64\n",
      "A10I              27321 non-null float64\n",
      "A10               27321 non-null float64\n",
      "DQ6A              27321 non-null int64\n",
      "BSEX              27321 non-null int64\n",
      "BAGE              27321 non-null int64\n",
      "BJOB              27321 non-null int64\n",
      "BARA              27321 non-null int64\n",
      "total             27321 non-null int64\n",
      "dtypes: float64(22), int64(50)\n",
      "memory usage: 15.2 MB\n"
     ]
    }
   ],
   "source": [
    "data.info()"
   ]
  },
  {
   "cell_type": "code",
   "execution_count": 13,
   "metadata": {},
   "outputs": [],
   "source": [
    "#for i in numeric_features:\n",
    "#    print('\\n','='*6,i,'='*6)\n",
    "#    print(data[i].value_counts())"
   ]
  },
  {
   "cell_type": "code",
   "execution_count": 14,
   "metadata": {},
   "outputs": [],
   "source": [
    "# for i in numeric_features:\n",
    "#     sns.scatterplot(data=data, x=i, y='total')\n",
    "#     plt.show()"
   ]
  },
  {
   "cell_type": "markdown",
   "metadata": {},
   "source": [
    "## 이상치 제거"
   ]
  },
  {
   "cell_type": "code",
   "execution_count": 15,
   "metadata": {},
   "outputs": [
    {
     "data": {
      "text/plain": [
       "(22897, 72)"
      ]
     },
     "execution_count": 15,
     "metadata": {},
     "output_type": "execute_result"
    }
   ],
   "source": [
    "data=data[(data['D_TRA1_S_Day']>4)==False]\n",
    "data=data[(data['D_TRA1_COST']>2000000)==False]\n",
    "data=data[(data['A7']>10)==False]\n",
    "data=data[(data['A10A']>500000)==False]\n",
    "data=data[(data['A10B']>200000)==False]\n",
    "data=data[(data['A10C']>200000)==False]\n",
    "data=data[(data['A10D']>500000)==False]\n",
    "data=data[(data['A10E']>250000)==False]\n",
    "data=data[(data['A10F']>100000)==False]\n",
    "data=data[(data['A10G']>100000)==False]\n",
    "data=data[(data['A10H']>20000)==False]\n",
    "data=data[(data['A10I']>20000)==False]\n",
    "data=data[(data['DQ6A']>=10)==False]\n",
    "\n",
    "data.shape"
   ]
  },
  {
   "cell_type": "markdown",
   "metadata": {},
   "source": [
    "## 새로운 특성 추가"
   ]
  },
  {
   "cell_type": "code",
   "execution_count": 16,
   "metadata": {},
   "outputs": [],
   "source": [
    "data['dosi'] = data['D_TRA1_1_SPOT1']//1000"
   ]
  },
  {
   "cell_type": "code",
   "execution_count": 17,
   "metadata": {},
   "outputs": [],
   "source": [
    "data['Ncost'] = data['D_TRA1_COST']/data['D_TRA1_NUM']"
   ]
  },
  {
   "cell_type": "code",
   "execution_count": 18,
   "metadata": {},
   "outputs": [],
   "source": [
    "data['DNcost'] = data['Ncost']/(data['D_TRA1_S_Day']+1)"
   ]
  },
  {
   "cell_type": "code",
   "execution_count": 19,
   "metadata": {},
   "outputs": [],
   "source": [
    "data['A3sum'] = data['A3_1']\n",
    "for i in range(1,21):\n",
    "    data['A3sum'] = data['A3sum'] + data['A3_{}'.format(i+1)]"
   ]
  },
  {
   "cell_type": "markdown",
   "metadata": {},
   "source": [
    "## 명목형 변수 레이블인코딩"
   ]
  },
  {
   "cell_type": "code",
   "execution_count": 20,
   "metadata": {},
   "outputs": [],
   "source": [
    "# 명목형 변수 인코딩\n",
    "lst = ['D_TRA1_1_SPOT1','D_TRA1_SMONTH','A2_1','A4_1','A5_1','BSEX','BAGE','BJOB','D_TRA1_CASE','BARA','D_TRA1_NUM','dosi']\n",
    "for col in lst:\n",
    "    data[col] = data[col].apply(str)"
   ]
  },
  {
   "cell_type": "markdown",
   "metadata": {},
   "source": [
    "## 상관관계 분석후 0.01이하의 값들 제거"
   ]
  },
  {
   "cell_type": "code",
   "execution_count": 21,
   "metadata": {},
   "outputs": [
    {
     "data": {
      "text/plain": [
       "A3sum           0.689589\n",
       "A7              0.646204\n",
       "A3_1            0.554335\n",
       "A10             0.497210\n",
       "A10E            0.460273\n",
       "A10D            0.447408\n",
       "A7B_1           0.409830\n",
       "A3_6            0.406934\n",
       "A3_2            0.384411\n",
       "A7B_3           0.288608\n",
       "A10G            0.274401\n",
       "A10F            0.225573\n",
       "A10C            0.221200\n",
       "D_TRA1_COST     0.198737\n",
       "A7A             0.176255\n",
       "DNcost          0.168195\n",
       "A3_18           0.158369\n",
       "A6_3            0.149278\n",
       "Ncost           0.133676\n",
       "A6_12           0.132008\n",
       "A3_4            0.125104\n",
       "A3_5            0.109968\n",
       "A3_8            0.101979\n",
       "A3_11           0.100290\n",
       "A6_4            0.092918\n",
       "A3_15           0.092702\n",
       "A6_1            0.087155\n",
       "A3_3            0.087005\n",
       "A6_2            0.082209\n",
       "A3_16           0.081979\n",
       "                  ...   \n",
       "A3_17           0.071615\n",
       "A3_13           0.069044\n",
       "A7B_2           0.065968\n",
       "A7B_5           0.063227\n",
       "A10B            0.058040\n",
       "A10A            0.056677\n",
       "A7B_4           0.053810\n",
       "A6_10           0.052795\n",
       "A3_21           0.051102\n",
       "A6_6            0.048520\n",
       "A6_11           0.046753\n",
       "A6_9            0.046016\n",
       "A3_12           0.040604\n",
       "A6_5            0.036175\n",
       "A6_8            0.031039\n",
       "A6_14           0.030426\n",
       "A3_20           0.026227\n",
       "A3_19           0.025857\n",
       "A6_7            0.024931\n",
       "A10I            0.023740\n",
       "A6_13           0.020139\n",
       "A3_10           0.016559\n",
       "A10H            0.011616\n",
       "A7B_7           0.010724\n",
       "A3_14           0.003262\n",
       "A7B_6           0.001313\n",
       "Q              -0.010359\n",
       "DQ6A           -0.011789\n",
       "ID             -0.017886\n",
       "D_TRA1_S_Day   -0.052517\n",
       "Name: total, Length: 63, dtype: float64"
      ]
     },
     "execution_count": 21,
     "metadata": {},
     "output_type": "execute_result"
    }
   ],
   "source": [
    "i='total'\n",
    "corr = data.corr().drop([i]).sort_values(i, ascending=False)[i]\n",
    "corr"
   ]
  },
  {
   "cell_type": "code",
   "execution_count": 22,
   "metadata": {},
   "outputs": [],
   "source": [
    "drop_features = corr.index[(corr)<=0.1]\n",
    "drop_features\n",
    "\n",
    "for drop_col in drop_features:\n",
    "    data.drop([drop_col], axis=1, inplace= True)"
   ]
  },
  {
   "cell_type": "markdown",
   "metadata": {},
   "source": [
    "## 종속변수 갯수"
   ]
  },
  {
   "cell_type": "code",
   "execution_count": 23,
   "metadata": {},
   "outputs": [
    {
     "data": {
      "text/plain": [
       "1    17716\n",
       "0     5181\n",
       "Name: total, dtype: int64"
      ]
     },
     "execution_count": 23,
     "metadata": {},
     "output_type": "execute_result"
    }
   ],
   "source": [
    "data['total'].value_counts()"
   ]
  },
  {
   "cell_type": "markdown",
   "metadata": {},
   "source": [
    "## 더미"
   ]
  },
  {
   "cell_type": "code",
   "execution_count": 24,
   "metadata": {},
   "outputs": [],
   "source": [
    "data = pd.get_dummies(data)"
   ]
  },
  {
   "cell_type": "code",
   "execution_count": 25,
   "metadata": {
    "scrolled": true
   },
   "outputs": [
    {
     "data": {
      "text/plain": [
       "(22897, 376)"
      ]
     },
     "execution_count": 25,
     "metadata": {},
     "output_type": "execute_result"
    }
   ],
   "source": [
    "data.shape"
   ]
  },
  {
   "cell_type": "code",
   "execution_count": 26,
   "metadata": {},
   "outputs": [],
   "source": [
    "X_train = data.drop('total',axis = 1)\n",
    "y_train = data.total"
   ]
  },
  {
   "cell_type": "markdown",
   "metadata": {},
   "source": [
    "## 3. Choose & Train a model"
   ]
  },
  {
   "cell_type": "markdown",
   "metadata": {},
   "source": [
    "### - XGBRegressor"
   ]
  },
  {
   "cell_type": "code",
   "execution_count": null,
   "metadata": {},
   "outputs": [],
   "source": [
    "from xgboost import XGBRegressor\n",
    "\n",
    "xg = XGBRegressor(colsample_bytree=0.4603, gamma=0.0468,\n",
    "                  learning_rate=0.05, max_depth=3, \n",
    "                  min_child_weight=1.7817, n_estimators=2200,\n",
    "                  reg_alpha=0.4640, reg_lambda=0.8571,\n",
    "                  subsample=0.5213, verbosity=0,\n",
    "                  random_state =0, nthread = -1)\n",
    "xg.fit(X_train, y_train)"
   ]
  },
  {
   "cell_type": "markdown",
   "metadata": {},
   "source": [
    "### - XGBClassifier"
   ]
  },
  {
   "cell_type": "code",
   "execution_count": null,
   "metadata": {},
   "outputs": [],
   "source": [
    "from xgboost import XGBClassifier\n",
    "\n",
    "model=XGBClassifier()\n",
    "model.fit(X_train,y_train) # 학습"
   ]
  },
  {
   "cell_type": "code",
   "execution_count": null,
   "metadata": {
    "scrolled": false
   },
   "outputs": [],
   "source": [
    "from sklearn.model_selection import cross_val_score\n",
    "\n",
    "print(f'score : {cross_val_score(xg, X_train, y_train, cv=5).mean()}')\n",
    "print('='*20)\n",
    "print(f'score : {cross_val_score(model, X_train, y_train, cv=5).mean()}')"
   ]
  },
  {
   "cell_type": "code",
   "execution_count": null,
   "metadata": {},
   "outputs": [],
   "source": [
    "xg.predict(X_train)[0:20]"
   ]
  },
  {
   "cell_type": "code",
   "execution_count": null,
   "metadata": {},
   "outputs": [],
   "source": [
    "y_train[0:20]"
   ]
  },
  {
   "cell_type": "markdown",
   "metadata": {},
   "source": [
    "### - 랜덤 포레스트"
   ]
  },
  {
   "cell_type": "code",
   "execution_count": 27,
   "metadata": {},
   "outputs": [],
   "source": [
    "from sklearn.ensemble import RandomForestClassifier\n",
    "#from tqdm.notebook import tqdm # 밑에 프로그래스바?를 출력\n",
    "from sklearn.model_selection import cross_val_score # 교차검증"
   ]
  },
  {
   "cell_type": "code",
   "execution_count": 28,
   "metadata": {},
   "outputs": [
    {
     "data": {
      "text/plain": [
       "RandomForestClassifier(bootstrap=True, class_weight=None, criterion='gini',\n",
       "                       max_depth=15, max_features=0.8, max_leaf_nodes=None,\n",
       "                       min_impurity_decrease=0.0, min_impurity_split=None,\n",
       "                       min_samples_leaf=1, min_samples_split=2,\n",
       "                       min_weight_fraction_leaf=0.0, n_estimators=200,\n",
       "                       n_jobs=-1, oob_score=False, random_state=0, verbose=0,\n",
       "                       warm_start=False)"
      ]
     },
     "execution_count": 28,
     "metadata": {},
     "output_type": "execute_result"
    }
   ],
   "source": [
    "rf = RandomForestClassifier(n_estimators = 200,\n",
    "                          max_features = 0.8,\n",
    "                          max_depth = 15,\n",
    "                          n_jobs = -1,\n",
    "                          random_state = 0)\n",
    "rf.fit(X_train, y_train)"
   ]
  },
  {
   "cell_type": "code",
   "execution_count": 29,
   "metadata": {},
   "outputs": [
    {
     "name": "stdout",
     "output_type": "stream",
     "text": [
      "score : 0.8863536110273265\n"
     ]
    }
   ],
   "source": [
    "print(f'score : {cross_val_score(rf, X_train, y_train, cv=5).mean()}')"
   ]
  },
  {
   "cell_type": "code",
   "execution_count": null,
   "metadata": {},
   "outputs": [],
   "source": []
  }
 ],
 "metadata": {
  "kernelspec": {
   "display_name": "Python 3",
   "language": "python",
   "name": "python3"
  },
  "language_info": {
   "codemirror_mode": {
    "name": "ipython",
    "version": 3
   },
   "file_extension": ".py",
   "mimetype": "text/x-python",
   "name": "python",
   "nbconvert_exporter": "python",
   "pygments_lexer": "ipython3",
   "version": "3.7.3"
  }
 },
 "nbformat": 4,
 "nbformat_minor": 2
}
