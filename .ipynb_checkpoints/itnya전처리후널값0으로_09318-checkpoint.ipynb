{
 "cells": [
  {
   "cell_type": "code",
   "execution_count": 1,
   "metadata": {},
   "outputs": [],
   "source": [
    "import pandas as pd\n",
    "import numpy as np\n",
    "import matplotlib.pyplot as plt\n",
    "%matplotlib inline\n",
    "import seaborn as sns"
   ]
  },
  {
   "cell_type": "code",
   "execution_count": 2,
   "metadata": {},
   "outputs": [],
   "source": [
    "data = pd.read_csv('tra_.csv',index_col='ID')"
   ]
  },
  {
   "cell_type": "code",
   "execution_count": 3,
   "metadata": {},
   "outputs": [],
   "source": [
    "#data['A12_13_14'] = data['A12']*data['A13']*data['A14']\n",
    "\n",
    "d12 = data['A12'] >3\n",
    "d13 = data['A13'] >3\n",
    "d14 = data['A14'] >3\n",
    "data['total'] = d12 | d13 |d14\n",
    "data['total'] = data['total'].map({True:1, False:0})\n",
    "\n",
    "data.drop(['A12'], axis=1, inplace= True)\n",
    "data.drop(['A13'], axis=1, inplace= True)\n",
    "data.drop(['A14'], axis=1, inplace= True)\n",
    "data.drop(['total_s'], axis=1, inplace= True)"
   ]
  },
  {
   "cell_type": "code",
   "execution_count": null,
   "metadata": {},
   "outputs": [],
   "source": []
  },
  {
   "cell_type": "code",
   "execution_count": null,
   "metadata": {},
   "outputs": [],
   "source": [
    "#data.info()"
   ]
  },
  {
   "cell_type": "code",
   "execution_count": 4,
   "metadata": {},
   "outputs": [],
   "source": [
    "#A1 예 아니요 매핑\n",
    "data['A1']=data['A1'].map({1:1,2:0})"
   ]
  },
  {
   "cell_type": "code",
   "execution_count": 5,
   "metadata": {},
   "outputs": [],
   "source": [
    "# A3 1,0 으로 변환\n",
    "for i in range(21):\n",
    "    data['A3_{}'.format(i+1)] = data['A3_{}'.format(i+1)].fillna(0)\n",
    "    data['A3_{}'.format(i+1)] = data['A3_{}'.format(i+1)].map({i+1:1,0:0})"
   ]
  },
  {
   "cell_type": "code",
   "execution_count": 6,
   "metadata": {},
   "outputs": [],
   "source": [
    "# A6은 원핫인코딩된 컬럼 -> 결측치 모두 0으로 채움\n",
    "for i in range(1, 15) :\n",
    "    data[f'A6_{i}'] = data[f'A6_{i}'].fillna(value = 0)\n",
    "    data[f'A6_{i}'] = data[f'A6_{i}'].map({i:1,0:0})"
   ]
  },
  {
   "cell_type": "code",
   "execution_count": 7,
   "metadata": {},
   "outputs": [],
   "source": [
    "#A7 컬럼 채우기\n",
    "data['A7A']=data['A7A'].fillna(0)\n",
    "for i in range(7):\n",
    "    data['A7B_{}'.format(i+1)] = data['A7B_{}'.format(i+1)].fillna(0)\n",
    "    data['A7B_{}'.format(i+1)] = data['A7B_{}'.format(i+1)].map({i+1:1,0:0})"
   ]
  },
  {
   "cell_type": "code",
   "execution_count": null,
   "metadata": {},
   "outputs": [],
   "source": [
    "#data=data[data['Q']==1]"
   ]
  },
  {
   "cell_type": "code",
   "execution_count": null,
   "metadata": {},
   "outputs": [],
   "source": [
    "# IQ, Q 제거\n",
    "#data.drop(['Q'], axis=1, inplace= True)\n",
    "#data.drop(['ID'], axis=1, inplace= True)"
   ]
  },
  {
   "cell_type": "code",
   "execution_count": null,
   "metadata": {},
   "outputs": [],
   "source": [
    "# data.info()"
   ]
  },
  {
   "cell_type": "code",
   "execution_count": null,
   "metadata": {},
   "outputs": [],
   "source": [
    "#지역 널값 제거\n",
    "#data=data[data['A1'].isnull()==False]"
   ]
  },
  {
   "cell_type": "code",
   "execution_count": 8,
   "metadata": {},
   "outputs": [],
   "source": [
    "data['dosi'] = data['D_TRA1_1_SPOT1']//1000"
   ]
  },
  {
   "cell_type": "code",
   "execution_count": 9,
   "metadata": {},
   "outputs": [],
   "source": [
    "# 명목형 변수 인코딩\n",
    "lst = ['D_TRA1_1_SPOT1','D_TRA1_SMONTH','A2_1','A4_1','A5_1','BSEX','BAGE','BJOB','D_TRA1_CASE','BARA','D_TRA1_NUM','dosi']\n",
    "for col in lst:\n",
    "    data[col] = data[col].apply(str)"
   ]
  },
  {
   "cell_type": "code",
   "execution_count": 11,
   "metadata": {},
   "outputs": [
    {
     "name": "stdout",
     "output_type": "stream",
     "text": [
      "<class 'pandas.core.frame.DataFrame'>\n",
      "RangeIndex: 48269 entries, 0 to 48268\n",
      "Data columns (total 73 columns):\n",
      "ID                48269 non-null int64\n",
      "Q                 48269 non-null int64\n",
      "D_TRA1_1_SPOT1    48269 non-null object\n",
      "D_TRA1_SMONTH     48269 non-null object\n",
      "D_TRA1_S_Day      48269 non-null float64\n",
      "D_TRA1_COST       48269 non-null float64\n",
      "D_TRA1_NUM        48269 non-null object\n",
      "D_TRA1_CASE       48269 non-null object\n",
      "A1                48269 non-null float64\n",
      "A2_1              48269 non-null object\n",
      "A3_1              48269 non-null int64\n",
      "A3_2              48269 non-null int64\n",
      "A3_3              48269 non-null int64\n",
      "A3_4              48269 non-null int64\n",
      "A3_5              48269 non-null int64\n",
      "A3_6              48269 non-null int64\n",
      "A3_7              48269 non-null int64\n",
      "A3_8              48269 non-null int64\n",
      "A3_9              48269 non-null int64\n",
      "A3_10             48269 non-null int64\n",
      "A3_11             48269 non-null int64\n",
      "A3_12             48269 non-null int64\n",
      "A3_13             48269 non-null int64\n",
      "A3_14             48269 non-null int64\n",
      "A3_15             48269 non-null int64\n",
      "A3_16             48269 non-null int64\n",
      "A3_17             48269 non-null int64\n",
      "A3_18             48269 non-null int64\n",
      "A3_19             48269 non-null int64\n",
      "A3_20             48269 non-null int64\n",
      "A3_21             48269 non-null int64\n",
      "A4_1              48269 non-null object\n",
      "A5_1              48269 non-null object\n",
      "A6_1              48269 non-null int64\n",
      "A6_2              48269 non-null int64\n",
      "A6_3              48269 non-null int64\n",
      "A6_4              48269 non-null int64\n",
      "A6_5              48269 non-null int64\n",
      "A6_6              48269 non-null int64\n",
      "A6_7              48269 non-null int64\n",
      "A6_8              48269 non-null int64\n",
      "A6_9              48269 non-null int64\n",
      "A6_10             48269 non-null int64\n",
      "A6_11             48269 non-null int64\n",
      "A6_12             48269 non-null int64\n",
      "A6_13             48269 non-null int64\n",
      "A6_14             48269 non-null int64\n",
      "A7                48269 non-null float64\n",
      "A7A               48269 non-null float64\n",
      "A7B_1             48269 non-null int64\n",
      "A7B_2             48269 non-null int64\n",
      "A7B_3             48269 non-null int64\n",
      "A7B_4             48269 non-null int64\n",
      "A7B_5             48269 non-null int64\n",
      "A7B_6             48269 non-null int64\n",
      "A7B_7             48269 non-null int64\n",
      "A10A              48269 non-null float64\n",
      "A10B              48269 non-null float64\n",
      "A10C              48269 non-null float64\n",
      "A10D              48269 non-null float64\n",
      "A10E              48269 non-null float64\n",
      "A10F              48269 non-null float64\n",
      "A10G              48269 non-null float64\n",
      "A10H              48269 non-null float64\n",
      "A10I              48269 non-null float64\n",
      "A10               48269 non-null float64\n",
      "DQ6A              48269 non-null int64\n",
      "BSEX              48269 non-null object\n",
      "BAGE              48269 non-null object\n",
      "BJOB              48269 non-null object\n",
      "BARA              48269 non-null object\n",
      "total             48269 non-null int64\n",
      "dosi              48269 non-null object\n",
      "dtypes: float64(15), int64(46), object(12)\n",
      "memory usage: 26.9+ MB\n"
     ]
    }
   ],
   "source": [
    "data=data.fillna(0)\n",
    "data.info()"
   ]
  },
  {
   "cell_type": "code",
   "execution_count": 12,
   "metadata": {},
   "outputs": [
    {
     "data": {
      "text/plain": [
       "Index(['ID', 'Q', 'D_TRA1_S_Day', 'D_TRA1_COST', 'A1', 'A3_1', 'A3_2', 'A3_3',\n",
       "       'A3_4', 'A3_5', 'A3_6', 'A3_7', 'A3_8', 'A3_9', 'A3_10', 'A3_11',\n",
       "       'A3_12', 'A3_13', 'A3_14', 'A3_15', 'A3_16', 'A3_17', 'A3_18', 'A3_19',\n",
       "       'A3_20', 'A3_21', 'A6_1', 'A6_2', 'A6_3', 'A6_4', 'A6_5', 'A6_6',\n",
       "       'A6_7', 'A6_8', 'A6_9', 'A6_10', 'A6_11', 'A6_12', 'A6_13', 'A6_14',\n",
       "       'A7', 'A7A', 'A7B_1', 'A7B_2', 'A7B_3', 'A7B_4', 'A7B_5', 'A7B_6',\n",
       "       'A7B_7', 'A10A', 'A10B', 'A10C', 'A10D', 'A10E', 'A10F', 'A10G', 'A10H',\n",
       "       'A10I', 'A10', 'DQ6A', 'total'],\n",
       "      dtype='object')"
      ]
     },
     "execution_count": 12,
     "metadata": {},
     "output_type": "execute_result"
    }
   ],
   "source": [
    "numeric_features = data.dtypes[data.dtypes != \"object\"].index\n",
    "numeric_features"
   ]
  },
  {
   "cell_type": "code",
   "execution_count": null,
   "metadata": {},
   "outputs": [],
   "source": [
    "#for i in numeric_features:\n",
    "#    print('\\n','='*6,i,'='*6)\n",
    "#    print(data[i].value_counts())"
   ]
  },
  {
   "cell_type": "code",
   "execution_count": null,
   "metadata": {},
   "outputs": [],
   "source": [
    "for i in numeric_features:\n",
    "    sns.scatterplot(data=data, x=i, y='total')\n",
    "    plt.show()"
   ]
  },
  {
   "cell_type": "code",
   "execution_count": 13,
   "metadata": {},
   "outputs": [
    {
     "data": {
      "text/plain": [
       "(43773, 73)"
      ]
     },
     "execution_count": 13,
     "metadata": {},
     "output_type": "execute_result"
    }
   ],
   "source": [
    "data=data[(data['D_TRA1_S_Day']>4)==False]\n",
    "data=data[(data['D_TRA1_COST']>2000000)==False]\n",
    "data=data[(data['A7']>10)==False]\n",
    "data=data[(data['A10A']>500000)==False]\n",
    "data=data[(data['A10B']>200000)==False]\n",
    "data=data[(data['A10C']>200000)==False]\n",
    "data=data[(data['A10D']>500000)==False]\n",
    "data=data[(data['A10E']>250000)==False]\n",
    "data=data[(data['A10F']>100000)==False]\n",
    "data=data[(data['A10G']>100000)==False]\n",
    "data=data[(data['A10H']>20000)==False]\n",
    "data=data[(data['A10I']>20000)==False]\n",
    "data=data[(data['DQ6A']>=10)==False]\n",
    "\n",
    "data.shape"
   ]
  },
  {
   "cell_type": "code",
   "execution_count": 14,
   "metadata": {},
   "outputs": [],
   "source": [
    "data['Ncost'] = data['A10']/data['A7']"
   ]
  },
  {
   "cell_type": "code",
   "execution_count": 15,
   "metadata": {},
   "outputs": [],
   "source": [
    "data['DNcost'] = data['Ncost']/data['D_TRA1_S_Day']"
   ]
  },
  {
   "cell_type": "code",
   "execution_count": 16,
   "metadata": {},
   "outputs": [],
   "source": [
    "data['A3sum'] = data['A3_1']\n",
    "for i in range(1,21):\n",
    "    data['A3sum'] = data['A3sum'] + data['A3_{}'.format(i+1)]"
   ]
  },
  {
   "cell_type": "code",
   "execution_count": 17,
   "metadata": {
    "scrolled": true
   },
   "outputs": [],
   "source": [
    "#data.head()"
   ]
  },
  {
   "cell_type": "code",
   "execution_count": 18,
   "metadata": {
    "scrolled": true
   },
   "outputs": [
    {
     "data": {
      "text/plain": [
       "A3sum           0.863145\n",
       "A7              0.834951\n",
       "A3_1            0.766796\n",
       "A10             0.710790\n",
       "A10E            0.682786\n",
       "A10D            0.661980\n",
       "Q               0.637902\n",
       "A7B_1           0.628829\n",
       "A3_6            0.624769\n",
       "A3_2            0.600617\n",
       "D_TRA1_COST     0.599668\n",
       "A7B_3           0.480077\n",
       "A10G            0.447382\n",
       "A10F            0.371267\n",
       "A10C            0.362861\n",
       "D_TRA1_S_Day    0.322991\n",
       "A7A             0.309455\n",
       "A3_18           0.289578\n",
       "A6_3            0.254747\n",
       "A6_12           0.236040\n",
       "A3_4            0.235472\n",
       "A3_5            0.195135\n",
       "A3_8            0.187367\n",
       "A3_11           0.173063\n",
       "A3_15           0.162569\n",
       "A6_4            0.156054\n",
       "A6_2            0.155479\n",
       "A3_9            0.150149\n",
       "A3_16           0.149620\n",
       "A6_1            0.146990\n",
       "                  ...   \n",
       "A1              0.120876\n",
       "A7B_2           0.118675\n",
       "A3_13           0.117851\n",
       "A7B_5           0.113885\n",
       "A10B            0.103085\n",
       "A7B_4           0.102434\n",
       "A3_21           0.098429\n",
       "A10A            0.095850\n",
       "A6_10           0.091981\n",
       "A3_12           0.084721\n",
       "A6_6            0.080714\n",
       "A6_11           0.077741\n",
       "A6_9            0.077680\n",
       "DQ6A            0.074271\n",
       "A3_19           0.058877\n",
       "A6_5            0.058698\n",
       "A3_20           0.057713\n",
       "A6_8            0.057489\n",
       "A6_14           0.052489\n",
       "A10I            0.046122\n",
       "A6_7            0.044194\n",
       "Ncost           0.039676\n",
       "A6_13           0.039354\n",
       "A3_10           0.031953\n",
       "DNcost          0.029229\n",
       "A10H            0.018775\n",
       "A7B_7           0.017332\n",
       "A3_14           0.014395\n",
       "A7B_6           0.012115\n",
       "ID             -0.005833\n",
       "Name: total, Length: 63, dtype: float64"
      ]
     },
     "execution_count": 18,
     "metadata": {},
     "output_type": "execute_result"
    }
   ],
   "source": [
    "i='total'\n",
    "corr = data.corr().drop([i]).sort_values(i, ascending=False)[i]\n",
    "corr"
   ]
  },
  {
   "cell_type": "code",
   "execution_count": null,
   "metadata": {},
   "outputs": [],
   "source": []
  },
  {
   "cell_type": "code",
   "execution_count": 19,
   "metadata": {},
   "outputs": [
    {
     "data": {
      "text/plain": [
       "0    25985\n",
       "1    17788\n",
       "Name: total, dtype: int64"
      ]
     },
     "execution_count": 19,
     "metadata": {},
     "output_type": "execute_result"
    }
   ],
   "source": [
    "data['total'].value_counts()"
   ]
  },
  {
   "cell_type": "code",
   "execution_count": 20,
   "metadata": {},
   "outputs": [],
   "source": [
    "data = pd.get_dummies(data)"
   ]
  },
  {
   "cell_type": "code",
   "execution_count": 21,
   "metadata": {
    "scrolled": true
   },
   "outputs": [
    {
     "data": {
      "text/plain": [
       "(43773, 420)"
      ]
     },
     "execution_count": 21,
     "metadata": {},
     "output_type": "execute_result"
    }
   ],
   "source": [
    "data.shape"
   ]
  },
  {
   "cell_type": "code",
   "execution_count": 22,
   "metadata": {},
   "outputs": [],
   "source": [
    "X_train = data.drop('total',axis = 1)\n",
    "y_train = data.total"
   ]
  },
  {
   "cell_type": "code",
   "execution_count": 23,
   "metadata": {},
   "outputs": [],
   "source": [
    "from xgboost import XGBRegressor\n",
    "\n",
    "xg = XGBRegressor(colsample_bytree=0.4603, gamma=0.0468,\n",
    "                  learning_rate=0.05, max_depth=3, \n",
    "                  min_child_weight=1.7817, n_estimators=2200,\n",
    "                  reg_alpha=0.4640, reg_lambda=0.8571,\n",
    "                  subsample=0.5213, verbosity=0,\n",
    "                  random_state =0, nthread = -1)"
   ]
  },
  {
   "cell_type": "code",
   "execution_count": 24,
   "metadata": {
    "scrolled": false
   },
   "outputs": [
    {
     "name": "stdout",
     "output_type": "stream",
     "text": [
      "score : 0.9318321097996298\n"
     ]
    }
   ],
   "source": [
    "from sklearn.model_selection import cross_val_score\n",
    "\n",
    "print(f'score : {cross_val_score(xg, X_train, y_train, cv=5).mean()}')"
   ]
  },
  {
   "cell_type": "code",
   "execution_count": 41,
   "metadata": {},
   "outputs": [
    {
     "data": {
      "text/plain": [
       "XGBRegressor(base_score=0.5, booster='gbtree', colsample_bylevel=1,\n",
       "             colsample_bynode=1, colsample_bytree=0.4603, gamma=0.0468,\n",
       "             gpu_id=-1, importance_type='gain', interaction_constraints='',\n",
       "             learning_rate=0.05, max_delta_step=0, max_depth=3,\n",
       "             min_child_weight=1.7817, missing=nan, monotone_constraints='()',\n",
       "             n_estimators=2200, n_jobs=-1, nthread=-1, num_parallel_tree=1,\n",
       "             objective='reg:squarederror', random_state=0, reg_alpha=0.464,\n",
       "             reg_lambda=0.8571, scale_pos_weight=1, subsample=0.5213,\n",
       "             tree_method='exact', validate_parameters=1, verbosity=0)"
      ]
     },
     "execution_count": 41,
     "metadata": {},
     "output_type": "execute_result"
    }
   ],
   "source": [
    "xg.fit(X_train,y_train)"
   ]
  },
  {
   "cell_type": "code",
   "execution_count": 44,
   "metadata": {
    "scrolled": true
   },
   "outputs": [
    {
     "data": {
      "text/plain": [
       "array([0.9696263], dtype=float32)"
      ]
     },
     "execution_count": 44,
     "metadata": {},
     "output_type": "execute_result"
    }
   ],
   "source": [
    "xg.predict(X_train[X_train['ID']==3])"
   ]
  },
  {
   "cell_type": "code",
   "execution_count": null,
   "metadata": {},
   "outputs": [],
   "source": []
  }
 ],
 "metadata": {
  "kernelspec": {
   "display_name": "Python 3",
   "language": "python",
   "name": "python3"
  },
  "language_info": {
   "codemirror_mode": {
    "name": "ipython",
    "version": 3
   },
   "file_extension": ".py",
   "mimetype": "text/x-python",
   "name": "python",
   "nbconvert_exporter": "python",
   "pygments_lexer": "ipython3",
   "version": "3.7.3"
  }
 },
 "nbformat": 4,
 "nbformat_minor": 2
}
