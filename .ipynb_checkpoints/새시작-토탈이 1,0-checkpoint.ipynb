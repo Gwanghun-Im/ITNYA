{
 "cells": [
  {
   "cell_type": "code",
   "execution_count": 1,
   "metadata": {},
   "outputs": [],
   "source": [
    "import pandas as pd\n",
    "import numpy as np\n",
    "import matplotlib.pyplot as plt\n",
    "%matplotlib inline\n",
    "import seaborn as sns"
   ]
  },
  {
   "cell_type": "code",
   "execution_count": 2,
   "metadata": {},
   "outputs": [],
   "source": [
    "data = pd.read_csv('tra_.csv',index_col='ID')"
   ]
  },
  {
   "cell_type": "code",
   "execution_count": 3,
   "metadata": {},
   "outputs": [],
   "source": [
    "data['total'] = data['A12']*data['A13']*data['A14']\n",
    "data.drop(['A12'], axis=1, inplace= True)\n",
    "data.drop(['A13'], axis=1, inplace= True)\n",
    "data.drop(['A14'], axis=1, inplace= True)"
   ]
  },
  {
   "cell_type": "code",
   "execution_count": 4,
   "metadata": {},
   "outputs": [],
   "source": [
    "data=data[data['D_TRA1_CASE']==1]"
   ]
  },
  {
   "cell_type": "code",
   "execution_count": 5,
   "metadata": {},
   "outputs": [
    {
     "data": {
      "text/plain": [
       "(17867, 71)"
      ]
     },
     "execution_count": 5,
     "metadata": {},
     "output_type": "execute_result"
    }
   ],
   "source": [
    "data.shape"
   ]
  },
  {
   "cell_type": "markdown",
   "metadata": {},
   "source": [
    "# 결측치 처리"
   ]
  },
  {
   "cell_type": "code",
   "execution_count": 6,
   "metadata": {},
   "outputs": [],
   "source": [
    "#A1 예 아니요 매핑\n",
    "data['A1']=data['A1'].map({1:1,2:0})"
   ]
  },
  {
   "cell_type": "code",
   "execution_count": 7,
   "metadata": {},
   "outputs": [],
   "source": [
    "# A3 1,0 으로 변환\n",
    "for i in range(21):\n",
    "    data['A3_{}'.format(i+1)] = data['A3_{}'.format(i+1)].fillna(0)\n",
    "    data['A3_{}'.format(i+1)] = data['A3_{}'.format(i+1)].map({i+1:1,0:0})"
   ]
  },
  {
   "cell_type": "code",
   "execution_count": 8,
   "metadata": {},
   "outputs": [],
   "source": [
    "# A6은 원핫인코딩된 컬럼 -> 결측치 모두 0으로 채움\n",
    "for i in range(1, 15) :\n",
    "    data[f'A6_{i}'] = data[f'A6_{i}'].fillna(value = 0)\n",
    "    data[f'A6_{i}'] = data[f'A6_{i}'].map({i:1,0:0})"
   ]
  },
  {
   "cell_type": "code",
   "execution_count": 9,
   "metadata": {},
   "outputs": [],
   "source": [
    "#A7 컬럼 채우기\n",
    "data['A7A']=data['A7A'].fillna(0)\n",
    "for i in range(7):\n",
    "    data['A7B_{}'.format(i+1)] = data['A7B_{}'.format(i+1)].fillna(0)\n",
    "    data['A7B_{}'.format(i+1)] = data['A7B_{}'.format(i+1)].map({i+1:1,0:0})"
   ]
  },
  {
   "cell_type": "markdown",
   "metadata": {},
   "source": [
    "# 결측치 확인"
   ]
  },
  {
   "cell_type": "code",
   "execution_count": 10,
   "metadata": {
    "scrolled": false
   },
   "outputs": [
    {
     "name": "stdout",
     "output_type": "stream",
     "text": [
      "<class 'pandas.core.frame.DataFrame'>\n",
      "Int64Index: 17867 entries, 1 to 48267\n",
      "Data columns (total 71 columns):\n",
      "Q                 17867 non-null int64\n",
      "D_TRA1_1_SPOT1    17867 non-null float64\n",
      "D_TRA1_SMONTH     17867 non-null float64\n",
      "D_TRA1_S_Day      17867 non-null float64\n",
      "D_TRA1_COST       17867 non-null float64\n",
      "D_TRA1_NUM        17867 non-null float64\n",
      "D_TRA1_CASE       17867 non-null float64\n",
      "A1                17867 non-null int64\n",
      "A2_1              17867 non-null float64\n",
      "A3_1              17867 non-null int64\n",
      "A3_2              17867 non-null int64\n",
      "A3_3              17867 non-null int64\n",
      "A3_4              17867 non-null int64\n",
      "A3_5              17867 non-null int64\n",
      "A3_6              17867 non-null int64\n",
      "A3_7              17867 non-null int64\n",
      "A3_8              17867 non-null int64\n",
      "A3_9              17867 non-null int64\n",
      "A3_10             17867 non-null int64\n",
      "A3_11             17867 non-null int64\n",
      "A3_12             17867 non-null int64\n",
      "A3_13             17867 non-null int64\n",
      "A3_14             17867 non-null int64\n",
      "A3_15             17867 non-null int64\n",
      "A3_16             17867 non-null int64\n",
      "A3_17             17867 non-null int64\n",
      "A3_18             17867 non-null int64\n",
      "A3_19             17867 non-null int64\n",
      "A3_20             17867 non-null int64\n",
      "A3_21             17867 non-null int64\n",
      "A4_1              17867 non-null float64\n",
      "A5_1              17867 non-null float64\n",
      "A6_1              17867 non-null int64\n",
      "A6_2              17867 non-null int64\n",
      "A6_3              17867 non-null int64\n",
      "A6_4              17867 non-null int64\n",
      "A6_5              17867 non-null int64\n",
      "A6_6              17867 non-null int64\n",
      "A6_7              17867 non-null int64\n",
      "A6_8              17867 non-null int64\n",
      "A6_9              17867 non-null int64\n",
      "A6_10             17867 non-null int64\n",
      "A6_11             17867 non-null int64\n",
      "A6_12             17867 non-null int64\n",
      "A6_13             17867 non-null int64\n",
      "A6_14             17867 non-null int64\n",
      "A7                17867 non-null float64\n",
      "A7A               17867 non-null float64\n",
      "A7B_1             17867 non-null int64\n",
      "A7B_2             17867 non-null int64\n",
      "A7B_3             17867 non-null int64\n",
      "A7B_4             17867 non-null int64\n",
      "A7B_5             17867 non-null int64\n",
      "A7B_6             17867 non-null int64\n",
      "A7B_7             17867 non-null int64\n",
      "A10A              17867 non-null float64\n",
      "A10B              17867 non-null float64\n",
      "A10C              17867 non-null float64\n",
      "A10D              17867 non-null float64\n",
      "A10E              17867 non-null float64\n",
      "A10F              17867 non-null float64\n",
      "A10G              17867 non-null float64\n",
      "A10H              17867 non-null float64\n",
      "A10I              17867 non-null float64\n",
      "A10               17867 non-null float64\n",
      "DQ6A              17867 non-null int64\n",
      "BSEX              17867 non-null int64\n",
      "BAGE              17867 non-null int64\n",
      "BJOB              17867 non-null int64\n",
      "BARA              17867 non-null int64\n",
      "total             17867 non-null float64\n",
      "dtypes: float64(22), int64(49)\n",
      "memory usage: 9.8 MB\n"
     ]
    }
   ],
   "source": [
    "data.info()"
   ]
  },
  {
   "cell_type": "markdown",
   "metadata": {},
   "source": [
    "# 이상치 처리"
   ]
  },
  {
   "cell_type": "code",
   "execution_count": 11,
   "metadata": {},
   "outputs": [
    {
     "data": {
      "text/plain": [
       "(14235, 71)"
      ]
     },
     "execution_count": 11,
     "metadata": {},
     "output_type": "execute_result"
    }
   ],
   "source": [
    "data=data[(data['D_TRA1_S_Day']>4)==False]\n",
    "data=data[(data['D_TRA1_COST']>2000000)==False]\n",
    "data=data[(data['A7']>10)==False]\n",
    "data=data[(data['A10A']>500000)==False]\n",
    "data=data[(data['A10B']>200000)==False]\n",
    "data=data[(data['A10C']>200000)==False]\n",
    "data=data[(data['A10D']>500000)==False]\n",
    "data=data[(data['A10E']>250000)==False]\n",
    "data=data[(data['A10F']>100000)==False]\n",
    "data=data[(data['A10G']>100000)==False]\n",
    "data=data[(data['A10H']>20000)==False]\n",
    "data=data[(data['A10I']>20000)==False]\n",
    "data=data[(data['DQ6A']>=10)==False]\n",
    "\n",
    "data.shape"
   ]
  },
  {
   "cell_type": "markdown",
   "metadata": {},
   "source": [
    "# 새로운 특성 추가"
   ]
  },
  {
   "cell_type": "code",
   "execution_count": 12,
   "metadata": {},
   "outputs": [],
   "source": [
    "data['Ncost'] = data['D_TRA1_COST']/data['D_TRA1_NUM']"
   ]
  },
  {
   "cell_type": "code",
   "execution_count": 13,
   "metadata": {},
   "outputs": [],
   "source": [
    "data['DNcost'] = data['Ncost']/(data['D_TRA1_S_Day']+1)"
   ]
  },
  {
   "cell_type": "code",
   "execution_count": 14,
   "metadata": {},
   "outputs": [],
   "source": [
    "data['A3sum'] = data['A3_1']\n",
    "for i in range(1,21):\n",
    "    data['A3sum'] = data['A3sum'] + data['A3_{}'.format(i+1)]"
   ]
  },
  {
   "cell_type": "code",
   "execution_count": 15,
   "metadata": {},
   "outputs": [],
   "source": [
    "# 명목형 변수 인코딩\n",
    "lst = ['D_TRA1_1_SPOT1','D_TRA1_SMONTH','A2_1','A4_1','A5_1','BSEX','BAGE','BJOB','D_TRA1_CASE','BARA','D_TRA1_NUM']\n",
    "for col in lst:\n",
    "    data[col] = data[col].apply(str)"
   ]
  },
  {
   "cell_type": "markdown",
   "metadata": {},
   "source": [
    "#  EDA"
   ]
  },
  {
   "cell_type": "code",
   "execution_count": 16,
   "metadata": {
    "scrolled": true
   },
   "outputs": [
    {
     "data": {
      "text/plain": [
       "<matplotlib.axes._subplots.AxesSubplot at 0x1f4bc330550>"
      ]
     },
     "execution_count": 16,
     "metadata": {},
     "output_type": "execute_result"
    },
    {
     "data": {
      "image/png": "[encoded data removed]",
      "text/plain": [
       "<Figure size 432x288 with 1 Axes>"
      ]
     },
     "metadata": {
      "needs_background": "light"
     },
     "output_type": "display_data"
    }
   ],
   "source": [
    "sns.boxenplot(y=data['total'])"
   ]
  },
  {
   "cell_type": "markdown",
   "metadata": {},
   "source": [
    "## 정규화"
   ]
  },
  {
   "cell_type": "code",
   "execution_count": 17,
   "metadata": {},
   "outputs": [],
   "source": [
    "from sklearn.preprocessing import MinMaxScaler\n",
    "scaler = MinMaxScaler()\n",
    "data['N_total'] = scaler.fit_transform(pd.DataFrame(data['total']))"
   ]
  },
  {
   "cell_type": "code",
   "execution_count": 18,
   "metadata": {},
   "outputs": [
    {
     "data": {
      "text/plain": [
       "(array([4.800e+01, 4.680e+02, 5.800e+02, 1.213e+03, 8.011e+03, 3.000e+00,\n",
       "        2.462e+03, 7.330e+02, 0.000e+00, 7.170e+02]),\n",
       " array([0. , 0.1, 0.2, 0.3, 0.4, 0.5, 0.6, 0.7, 0.8, 0.9, 1. ]),\n",
       " <a list of 10 Patch objects>)"
      ]
     },
     "execution_count": 18,
     "metadata": {},
     "output_type": "execute_result"
    },
    {
     "data": {
      "image/png": "[encoded data removed]",
      "text/plain": [
       "<Figure size 432x288 with 1 Axes>"
      ]
     },
     "metadata": {
      "needs_background": "light"
     },
     "output_type": "display_data"
    }
   ],
   "source": [
    "plt.hist(data['N_total'])"
   ]
  },
  {
   "cell_type": "markdown",
   "metadata": {},
   "source": [
    "## 표준화"
   ]
  },
  {
   "cell_type": "code",
   "execution_count": 19,
   "metadata": {},
   "outputs": [],
   "source": [
    "from scipy import stats\n",
    "data['z'] = stats.zscore(data['total'])"
   ]
  },
  {
   "cell_type": "code",
   "execution_count": 20,
   "metadata": {},
   "outputs": [],
   "source": [
    "data = data[data['z'].between(-2,3)]"
   ]
  },
  {
   "cell_type": "code",
   "execution_count": 21,
   "metadata": {},
   "outputs": [
    {
     "data": {
      "text/plain": [
       "0.495868    7975\n",
       "0.628099    2462\n",
       "0.363636    1204\n",
       "0.793388     733\n",
       "1.000000     717\n",
       "0.264463     567\n",
       "0.462810      36\n",
       "0.338843       9\n",
       "0.231405       9\n",
       "0.586777       3\n",
       "0.214876       2\n",
       "0.297521       2\n",
       "Name: N_total, dtype: int64"
      ]
     },
     "execution_count": 21,
     "metadata": {},
     "output_type": "execute_result"
    }
   ],
   "source": [
    "data['N_total'].value_counts()"
   ]
  },
  {
   "cell_type": "markdown",
   "metadata": {},
   "source": [
    "## 변수분석"
   ]
  },
  {
   "cell_type": "code",
   "execution_count": 22,
   "metadata": {},
   "outputs": [
    {
     "data": {
      "text/plain": [
       "3    5135\n",
       "2    4798\n",
       "1    2002\n",
       "4    1352\n",
       "5     344\n",
       "6      67\n",
       "7      19\n",
       "8       2\n",
       "Name: A3sum, dtype: int64"
      ]
     },
     "execution_count": 22,
     "metadata": {},
     "output_type": "execute_result"
    }
   ],
   "source": [
    "data['A3sum'].value_counts()"
   ]
  },
  {
   "cell_type": "code",
   "execution_count": 23,
   "metadata": {},
   "outputs": [
    {
     "data": {
      "text/plain": [
       "(array([5.780e+02, 1.215e+03, 0.000e+00, 8.011e+03, 3.000e+00, 2.462e+03,\n",
       "        0.000e+00, 7.330e+02, 0.000e+00, 7.170e+02]),\n",
       " array([0.21487603, 0.29338843, 0.37190083, 0.45041322, 0.52892562,\n",
       "        0.60743802, 0.68595041, 0.76446281, 0.84297521, 0.9214876 ,\n",
       "        1.        ]),\n",
       " <a list of 10 Patch objects>)"
      ]
     },
     "execution_count": 23,
     "metadata": {},
     "output_type": "execute_result"
    },
    {
     "data": {
      "image/png": "[encoded data removed]",
      "text/plain": [
       "<Figure size 432x288 with 1 Axes>"
      ]
     },
     "metadata": {
      "needs_background": "light"
     },
     "output_type": "display_data"
    }
   ],
   "source": [
    "plt.hist(data['N_total'],color='red')"
   ]
  },
  {
   "cell_type": "code",
   "execution_count": 24,
   "metadata": {},
   "outputs": [
    {
     "data": {
      "text/plain": [
       "<matplotlib.axes._subplots.AxesSubplot at 0x1f4bbe7a160>"
      ]
     },
     "execution_count": 24,
     "metadata": {},
     "output_type": "execute_result"
    },
    {
     "data": {
      "image/png": "[encoded data removed]",
      "text/plain": [
       "<Figure size 432x288 with 1 Axes>"
      ]
     },
     "metadata": {
      "needs_background": "light"
     },
     "output_type": "display_data"
    }
   ],
   "source": [
    "sns.boxplot(data['N_total'])"
   ]
  },
  {
   "cell_type": "code",
   "execution_count": 25,
   "metadata": {},
   "outputs": [
    {
     "data": {
      "image/png": "[encoded data removed]",
      "text/plain": [
       "<Figure size 1440x1080 with 1 Axes>"
      ]
     },
     "metadata": {
      "needs_background": "light"
     },
     "output_type": "display_data"
    }
   ],
   "source": [
    "a3df = data.groupby(['A3sum','total'])['total'].count().unstack('total')\n",
    "a3df.plot(kind='bar', figsize=(20,15))\n",
    "plt.title('A3sum')\n",
    "plt.show()"
   ]
  },
  {
   "cell_type": "code",
   "execution_count": 26,
   "metadata": {},
   "outputs": [
    {
     "data": {
      "text/html": [
       "<div>\n",
       "<style scoped>\n",
       "    .dataframe tbody tr th:only-of-type {\n",
       "        vertical-align: middle;\n",
       "    }\n",
       "\n",
       "    .dataframe tbody tr th {\n",
       "        vertical-align: top;\n",
       "    }\n",
       "\n",
       "    .dataframe thead th {\n",
       "        text-align: right;\n",
       "    }\n",
       "</style>\n",
       "<table border=\"1\" class=\"dataframe\">\n",
       "  <thead>\n",
       "    <tr style=\"text-align: right;\">\n",
       "      <th>total</th>\n",
       "      <th>30.0</th>\n",
       "      <th>32.0</th>\n",
       "      <th>36.0</th>\n",
       "      <th>40.0</th>\n",
       "      <th>45.0</th>\n",
       "      <th>48.0</th>\n",
       "      <th>60.0</th>\n",
       "      <th>64.0</th>\n",
       "      <th>75.0</th>\n",
       "      <th>80.0</th>\n",
       "      <th>100.0</th>\n",
       "      <th>125.0</th>\n",
       "    </tr>\n",
       "    <tr>\n",
       "      <th>A3sum</th>\n",
       "      <th></th>\n",
       "      <th></th>\n",
       "      <th></th>\n",
       "      <th></th>\n",
       "      <th></th>\n",
       "      <th></th>\n",
       "      <th></th>\n",
       "      <th></th>\n",
       "      <th></th>\n",
       "      <th></th>\n",
       "      <th></th>\n",
       "      <th></th>\n",
       "    </tr>\n",
       "  </thead>\n",
       "  <tbody>\n",
       "    <tr>\n",
       "      <th>1</th>\n",
       "      <td>NaN</td>\n",
       "      <td>3.0</td>\n",
       "      <td>93.0</td>\n",
       "      <td>NaN</td>\n",
       "      <td>4.0</td>\n",
       "      <td>242.0</td>\n",
       "      <td>8.0</td>\n",
       "      <td>1141.0</td>\n",
       "      <td>NaN</td>\n",
       "      <td>289.0</td>\n",
       "      <td>76.0</td>\n",
       "      <td>146.0</td>\n",
       "    </tr>\n",
       "    <tr>\n",
       "      <th>2</th>\n",
       "      <td>1.0</td>\n",
       "      <td>2.0</td>\n",
       "      <td>210.0</td>\n",
       "      <td>1.0</td>\n",
       "      <td>2.0</td>\n",
       "      <td>455.0</td>\n",
       "      <td>14.0</td>\n",
       "      <td>2859.0</td>\n",
       "      <td>NaN</td>\n",
       "      <td>753.0</td>\n",
       "      <td>238.0</td>\n",
       "      <td>263.0</td>\n",
       "    </tr>\n",
       "    <tr>\n",
       "      <th>3</th>\n",
       "      <td>1.0</td>\n",
       "      <td>4.0</td>\n",
       "      <td>195.0</td>\n",
       "      <td>1.0</td>\n",
       "      <td>2.0</td>\n",
       "      <td>386.0</td>\n",
       "      <td>9.0</td>\n",
       "      <td>3126.0</td>\n",
       "      <td>2.0</td>\n",
       "      <td>966.0</td>\n",
       "      <td>242.0</td>\n",
       "      <td>201.0</td>\n",
       "    </tr>\n",
       "    <tr>\n",
       "      <th>4</th>\n",
       "      <td>NaN</td>\n",
       "      <td>NaN</td>\n",
       "      <td>58.0</td>\n",
       "      <td>NaN</td>\n",
       "      <td>1.0</td>\n",
       "      <td>105.0</td>\n",
       "      <td>4.0</td>\n",
       "      <td>676.0</td>\n",
       "      <td>1.0</td>\n",
       "      <td>316.0</td>\n",
       "      <td>113.0</td>\n",
       "      <td>78.0</td>\n",
       "    </tr>\n",
       "    <tr>\n",
       "      <th>5</th>\n",
       "      <td>NaN</td>\n",
       "      <td>NaN</td>\n",
       "      <td>9.0</td>\n",
       "      <td>NaN</td>\n",
       "      <td>NaN</td>\n",
       "      <td>15.0</td>\n",
       "      <td>1.0</td>\n",
       "      <td>142.0</td>\n",
       "      <td>NaN</td>\n",
       "      <td>108.0</td>\n",
       "      <td>45.0</td>\n",
       "      <td>24.0</td>\n",
       "    </tr>\n",
       "    <tr>\n",
       "      <th>6</th>\n",
       "      <td>NaN</td>\n",
       "      <td>NaN</td>\n",
       "      <td>1.0</td>\n",
       "      <td>NaN</td>\n",
       "      <td>NaN</td>\n",
       "      <td>NaN</td>\n",
       "      <td>NaN</td>\n",
       "      <td>26.0</td>\n",
       "      <td>NaN</td>\n",
       "      <td>20.0</td>\n",
       "      <td>15.0</td>\n",
       "      <td>5.0</td>\n",
       "    </tr>\n",
       "    <tr>\n",
       "      <th>7</th>\n",
       "      <td>NaN</td>\n",
       "      <td>NaN</td>\n",
       "      <td>1.0</td>\n",
       "      <td>NaN</td>\n",
       "      <td>NaN</td>\n",
       "      <td>1.0</td>\n",
       "      <td>NaN</td>\n",
       "      <td>5.0</td>\n",
       "      <td>NaN</td>\n",
       "      <td>9.0</td>\n",
       "      <td>3.0</td>\n",
       "      <td>NaN</td>\n",
       "    </tr>\n",
       "    <tr>\n",
       "      <th>8</th>\n",
       "      <td>NaN</td>\n",
       "      <td>NaN</td>\n",
       "      <td>NaN</td>\n",
       "      <td>NaN</td>\n",
       "      <td>NaN</td>\n",
       "      <td>NaN</td>\n",
       "      <td>NaN</td>\n",
       "      <td>NaN</td>\n",
       "      <td>NaN</td>\n",
       "      <td>1.0</td>\n",
       "      <td>1.0</td>\n",
       "      <td>NaN</td>\n",
       "    </tr>\n",
       "  </tbody>\n",
       "</table>\n",
       "</div>"
      ],
      "text/plain": [
       "total  30.0   32.0   36.0   40.0   45.0   48.0   60.0    64.0   75.0   80.0   \\\n",
       "A3sum                                                                          \n",
       "1        NaN    3.0   93.0    NaN    4.0  242.0    8.0  1141.0    NaN  289.0   \n",
       "2        1.0    2.0  210.0    1.0    2.0  455.0   14.0  2859.0    NaN  753.0   \n",
       "3        1.0    4.0  195.0    1.0    2.0  386.0    9.0  3126.0    2.0  966.0   \n",
       "4        NaN    NaN   58.0    NaN    1.0  105.0    4.0   676.0    1.0  316.0   \n",
       "5        NaN    NaN    9.0    NaN    NaN   15.0    1.0   142.0    NaN  108.0   \n",
       "6        NaN    NaN    1.0    NaN    NaN    NaN    NaN    26.0    NaN   20.0   \n",
       "7        NaN    NaN    1.0    NaN    NaN    1.0    NaN     5.0    NaN    9.0   \n",
       "8        NaN    NaN    NaN    NaN    NaN    NaN    NaN     NaN    NaN    1.0   \n",
       "\n",
       "total  100.0  125.0  \n",
       "A3sum                \n",
       "1       76.0  146.0  \n",
       "2      238.0  263.0  \n",
       "3      242.0  201.0  \n",
       "4      113.0   78.0  \n",
       "5       45.0   24.0  \n",
       "6       15.0    5.0  \n",
       "7        3.0    NaN  \n",
       "8        1.0    NaN  "
      ]
     },
     "execution_count": 26,
     "metadata": {},
     "output_type": "execute_result"
    }
   ],
   "source": [
    "a3df"
   ]
  },
  {
   "cell_type": "markdown",
   "metadata": {},
   "source": [
    "## 변수 타입별 정리"
   ]
  },
  {
   "cell_type": "code",
   "execution_count": 27,
   "metadata": {},
   "outputs": [
    {
     "data": {
      "text/plain": [
       "Index(['Q', 'D_TRA1_S_Day', 'D_TRA1_COST', 'A1', 'A3_1', 'A3_2', 'A3_3',\n",
       "       'A3_4', 'A3_5', 'A3_6', 'A3_7', 'A3_8', 'A3_9', 'A3_10', 'A3_11',\n",
       "       'A3_12', 'A3_13', 'A3_14', 'A3_15', 'A3_16', 'A3_17', 'A3_18', 'A3_19',\n",
       "       'A3_20', 'A3_21', 'A6_1', 'A6_2', 'A6_3', 'A6_4', 'A6_5', 'A6_6',\n",
       "       'A6_7', 'A6_8', 'A6_9', 'A6_10', 'A6_11', 'A6_12', 'A6_13', 'A6_14',\n",
       "       'A7', 'A7A', 'A7B_1', 'A7B_2', 'A7B_3', 'A7B_4', 'A7B_5', 'A7B_6',\n",
       "       'A7B_7', 'A10A', 'A10B', 'A10C', 'A10D', 'A10E', 'A10F', 'A10G', 'A10H',\n",
       "       'A10I', 'A10', 'DQ6A', 'total', 'Ncost', 'DNcost', 'A3sum', 'N_total',\n",
       "       'z'],\n",
       "      dtype='object')"
      ]
     },
     "execution_count": 27,
     "metadata": {},
     "output_type": "execute_result"
    }
   ],
   "source": [
    "n_f = data.dtypes[data.dtypes != 'object'].index\n",
    "n_f"
   ]
  },
  {
   "cell_type": "code",
   "execution_count": 28,
   "metadata": {},
   "outputs": [],
   "source": [
    "n_f=['Q', 'D_TRA1_S_Day', 'D_TRA1_COST', 'A1', 'A3_1', 'A3_2', 'A3_3',\n",
    "       'A3_4', 'A3_5', 'A3_6', 'A3_7', 'A3_8', 'A3_9', 'A3_10', 'A3_11',\n",
    "       'A3_12', 'A3_13', 'A3_14', 'A3_15', 'A3_16', 'A3_17', 'A3_18', 'A3_19',\n",
    "       'A3_20', 'A3_21', 'A6_1', 'A6_2', 'A6_3', 'A6_4', 'A6_5', 'A6_6',\n",
    "       'A6_7', 'A6_8', 'A6_9', 'A6_10', 'A6_11', 'A6_12', 'A6_13', 'A6_14',\n",
    "       'A7', 'A7A', 'A7B_1', 'A7B_2', 'A7B_3', 'A7B_4', 'A7B_5', 'A7B_6',\n",
    "       'A7B_7', 'A10A', 'A10B', 'A10C', 'A10D', 'A10E', 'A10F', 'A10G', 'A10H',\n",
    "       'A10I', 'A10', 'DQ6A', 'total', 'Ncost', 'DNcost', 'A3sum', 'N_total',\n",
    "       'z']"
   ]
  },
  {
   "cell_type": "code",
   "execution_count": 29,
   "metadata": {},
   "outputs": [],
   "source": [
    "b_f = ['A1', 'A3_1', 'A3_2', 'A3_3',\n",
    "       'A3_4', 'A3_5', 'A3_6', 'A3_7', 'A3_8', 'A3_9', 'A3_10', 'A3_11',\n",
    "       'A3_12', 'A3_13', 'A3_14', 'A3_15', 'A3_16', 'A3_17', 'A3_18', 'A3_19',\n",
    "       'A3_20', 'A3_21', 'A6_1', 'A6_2', 'A6_3', 'A6_4', 'A6_5', 'A6_6',\n",
    "       'A6_7', 'A6_8', 'A6_9', 'A6_10', 'A6_11', 'A6_12', 'A6_13', 'A6_14',\n",
    "       'A7B_1', 'A7B_2', 'A7B_3', 'A7B_4', 'A7B_5', 'A7B_6','A7B_7']"
   ]
  },
  {
   "cell_type": "code",
   "execution_count": 30,
   "metadata": {
    "scrolled": false
   },
   "outputs": [
    {
     "data": {
      "text/plain": [
       "['Q',\n",
       " 'D_TRA1_S_Day',\n",
       " 'D_TRA1_COST',\n",
       " 'A7',\n",
       " 'A7A',\n",
       " 'A10A',\n",
       " 'A10B',\n",
       " 'A10C',\n",
       " 'A10D',\n",
       " 'A10E',\n",
       " 'A10F',\n",
       " 'A10G',\n",
       " 'A10H',\n",
       " 'A10I',\n",
       " 'A10',\n",
       " 'DQ6A',\n",
       " 'total',\n",
       " 'Ncost',\n",
       " 'DNcost',\n",
       " 'A3sum',\n",
       " 'N_total',\n",
       " 'z']"
      ]
     },
     "execution_count": 30,
     "metadata": {},
     "output_type": "execute_result"
    }
   ],
   "source": [
    "for i in b_f:\n",
    "    n_f.remove(i)\n",
    "n_f"
   ]
  },
  {
   "cell_type": "code",
   "execution_count": 94,
   "metadata": {},
   "outputs": [],
   "source": [
    "feature=[]"
   ]
  },
  {
   "cell_type": "markdown",
   "metadata": {},
   "source": [
    "## 이진 변수\n",
    "### - 점 양분 상관 계수\n",
    "> 한 변수는 있음/없음, 네/아니오 등으로 이분형(binary) 이고, 다른 한 변수는 연속형인 경우에도 상관계수를 구할 수 있습니다.\n",
    "\n",
    "- p-value가 0.05보다 클 경우 변수간의 상관관계가 존재하지 않음 \n",
    "\n",
    "https://mansoostat.tistory.com/115"
   ]
  },
  {
   "cell_type": "code",
   "execution_count": 95,
   "metadata": {},
   "outputs": [
    {
     "name": "stdout",
     "output_type": "stream",
     "text": [
      "A1 3.5478446113094e-05\n",
      "A3_3 2.8482401077599375e-05\n",
      "A3_4 0.0039256529034242945\n",
      "A3_7 0.03526012787080257\n",
      "A3_9 0.04964740318085772\n",
      "A3_11 3.9084818828625433e-23\n",
      "A3_15 2.7098762326600165e-19\n",
      "A3_17 0.005870630448521923\n",
      "A3_18 2.6931018350452922e-05\n",
      "A3_19 0.015427133883698239\n",
      "A3_21 3.294373771577904e-07\n",
      "A6_4 1.5710623625825906e-07\n",
      "A6_5 0.0005823771269046973\n",
      "A6_9 0.027063253507036335\n",
      "A6_13 0.027312029473549528\n",
      "A6_14 0.011077469618193161\n",
      "A7B_1 0.0007748200543853257\n",
      "A7B_3 0.007432370704945221\n",
      "A7B_5 0.02844008414042938\n"
     ]
    }
   ],
   "source": [
    "from scipy.stats import pointbiserialr\n",
    "for i in b_f:\n",
    "    corr, pval = pointbiserialr(data[i],data['total'])\n",
    "    if pval <0.05:\n",
    "        print(i,pval)\n",
    "        feature.append(i)"
   ]
  },
  {
   "cell_type": "markdown",
   "metadata": {},
   "source": [
    "## 연속형 변수\n",
    "### - 피어슨 상관 계수\n",
    "- 연속형 변수 2개의 상관 관계를 확인하기 위한 가장 기본적인 방법이다.\n",
    "\n",
    ">정확히 말해서 두개의 수치값들의 집합이 있을 때 이 두개의 수치값들은 각각의 순서쌍에 대해서 연결관계가 있다고 할 때 두 수치값이 서로 관련이 있는지를 확인하는 방법이다.\n",
    "\n",
    ">흔한 예로 있는 것이 고등학생 한 학급에 50명이 있다고 할 때 이 학생들의 수학과목의 성적과 물리과목의 성정이 관련이 있는지 확인하는 것이 있다. 즉 수학과목과 물리과목은 서로 수리적 또는 과학적 능력과 관련이 있어 두 과목은 서로 관련이 있을 것이라는 가설을 어느 정도 두고 있으며 실제로 그런지 확인한다.\n",
    "\n",
    "- p-value가 0.05보다 클 경우 변수간의 상관관계가 존재하지 않음 \n",
    "\n",
    "https://intothedata.com/02.scholar_category/statistics/correlation/\n",
    "\n",
    "https://bskyvision.com/754"
   ]
  },
  {
   "cell_type": "code",
   "execution_count": 96,
   "metadata": {},
   "outputs": [
    {
     "name": "stdout",
     "output_type": "stream",
     "text": [
      "D_TRA1_S_Day 5.544872499754971e-06\n",
      "A7A 0.005229530561729261\n",
      "A10C 0.0005428318508725604\n",
      "A10E 4.69972177766247e-05\n",
      "A10F 2.4504504244701455e-07\n",
      "A10G 0.0002675611755946126\n",
      "A10I 0.017591366559858827\n",
      "A10 4.339215126964705e-06\n",
      "total 0.0\n",
      "Ncost 4.527416030243852e-06\n",
      "DNcost 0.04925733123250197\n",
      "A3sum 4.909851707137817e-14\n",
      "N_total 0.0\n",
      "z 0.0\n"
     ]
    }
   ],
   "source": [
    "from scipy import stats\n",
    "for i in n_f:\n",
    "    corr, pval = stats.pearsonr(data[i],data['total'])\n",
    "    if pval <0.05:\n",
    "        print(i,pval)\n",
    "        feature.append(i)"
   ]
  },
  {
   "cell_type": "code",
   "execution_count": 97,
   "metadata": {},
   "outputs": [],
   "source": [
    "# 명목형 변수 인코딩\n",
    "lst = ['D_TRA1_1_SPOT1','D_TRA1_SMONTH','A2_1','A4_1','A5_1','BSEX','BAGE','BJOB','D_TRA1_CASE','BARA','D_TRA1_NUM']\n",
    "for col in lst:\n",
    "    data[col] = data[col].apply(float)"
   ]
  },
  {
   "cell_type": "code",
   "execution_count": 98,
   "metadata": {},
   "outputs": [],
   "source": [
    "# 명목형 변수 인코딩\n",
    "lst = ['D_TRA1_1_SPOT1','D_TRA1_SMONTH','A2_1','A4_1','A5_1','BSEX','BAGE','BJOB','D_TRA1_CASE','BARA','D_TRA1_NUM']\n",
    "for col in lst:\n",
    "    data[col] = data[col].apply(int)"
   ]
  },
  {
   "cell_type": "code",
   "execution_count": 99,
   "metadata": {},
   "outputs": [
    {
     "name": "stdout",
     "output_type": "stream",
     "text": [
      "A2_1 0.01859699357240451\n",
      "A4_1 1.7336285565566678e-05\n",
      "A5_1 0.027062631268294\n",
      "BARA 3.0947326521667075e-12\n",
      "D_TRA1_NUM 0.019610387889924988\n"
     ]
    },
    {
     "name": "stderr",
     "output_type": "stream",
     "text": [
      "C:\\Users\\rhkdg\\Anaconda3\\lib\\site-packages\\scipy\\stats\\stats.py:3508: PearsonRConstantInputWarning: An input array is constant; the correlation coefficent is not defined.\n",
      "  warnings.warn(PearsonRConstantInputWarning())\n"
     ]
    }
   ],
   "source": [
    "from scipy import stats\n",
    "for i in lst:\n",
    "    corr, pval = stats.pearsonr(data[i],data['total'])\n",
    "    \n",
    "    if pval <0.05:\n",
    "        print(i,pval)\n",
    "        feature.append(i)"
   ]
  },
  {
   "cell_type": "code",
   "execution_count": 100,
   "metadata": {},
   "outputs": [
    {
     "data": {
      "text/plain": [
       "['A1',\n",
       " 'A3_3',\n",
       " 'A3_4',\n",
       " 'A3_7',\n",
       " 'A3_9',\n",
       " 'A3_11',\n",
       " 'A3_15',\n",
       " 'A3_17',\n",
       " 'A3_18',\n",
       " 'A3_19',\n",
       " 'A3_21',\n",
       " 'A6_4',\n",
       " 'A6_5',\n",
       " 'A6_9',\n",
       " 'A6_13',\n",
       " 'A6_14',\n",
       " 'A7B_1',\n",
       " 'A7B_3',\n",
       " 'A7B_5',\n",
       " 'D_TRA1_S_Day',\n",
       " 'A7A',\n",
       " 'A10C',\n",
       " 'A10E',\n",
       " 'A10F',\n",
       " 'A10G',\n",
       " 'A10I',\n",
       " 'A10',\n",
       " 'Ncost',\n",
       " 'DNcost',\n",
       " 'A3sum',\n",
       " 'A2_1',\n",
       " 'A4_1',\n",
       " 'A5_1',\n",
       " 'BARA',\n",
       " 'D_TRA1_NUM']"
      ]
     },
     "execution_count": 100,
     "metadata": {},
     "output_type": "execute_result"
    }
   ],
   "source": [
    "feature.remove('total')\n",
    "feature.remove('N_total')\n",
    "feature.remove('z')\n",
    "feature"
   ]
  },
  {
   "cell_type": "markdown",
   "metadata": {},
   "source": [
    "## 모델학습"
   ]
  },
  {
   "cell_type": "code",
   "execution_count": 101,
   "metadata": {},
   "outputs": [],
   "source": [
    "X=pd.DataFrame()\n",
    "for i in feature:\n",
    "    X[i] = data[i]\n",
    "y = data['total']"
   ]
  },
  {
   "cell_type": "code",
   "execution_count": 102,
   "metadata": {},
   "outputs": [],
   "source": [
    "y = y.apply(str)"
   ]
  },
  {
   "cell_type": "code",
   "execution_count": 110,
   "metadata": {},
   "outputs": [],
   "source": [
    "from sklearn.model_selection import train_test_split\n",
    "\n",
    "X_train, X_test, y_train, y_test = train_test_split(X, y,\n",
    "                                                    random_state=1)"
   ]
  },
  {
   "cell_type": "markdown",
   "metadata": {},
   "source": [
    "### 단순 cross_val_score 하면 안댐\n",
    "https://homeproject.tistory.com/6"
   ]
  },
  {
   "cell_type": "code",
   "execution_count": 172,
   "metadata": {},
   "outputs": [
    {
     "data": {
      "image/png": "[encoded data removed]",
      "text/plain": [
       "<Figure size 1080x1080 with 1 Axes>"
      ]
     },
     "metadata": {
      "needs_background": "light"
     },
     "output_type": "display_data"
    }
   ],
   "source": [
    "plt.figure(figsize=(15,15))\n",
    "plt.scatter(x=data.index,y=data['total'],alpha=0.1)\n",
    "plt.show()"
   ]
  },
  {
   "cell_type": "code",
   "execution_count": 152,
   "metadata": {},
   "outputs": [],
   "source": [
    "from sklearn.model_selection import cross_val_score # 교차검증\n",
    "from sklearn.model_selection import StratifiedKFold"
   ]
  },
  {
   "cell_type": "code",
   "execution_count": 153,
   "metadata": {},
   "outputs": [],
   "source": [
    "skf = StratifiedKFold(n_splits= 5 , shuffle= True, random_state=0)"
   ]
  },
  {
   "cell_type": "code",
   "execution_count": 111,
   "metadata": {},
   "outputs": [],
   "source": [
    "from sklearn.ensemble import RandomForestRegressor"
   ]
  },
  {
   "cell_type": "code",
   "execution_count": 112,
   "metadata": {},
   "outputs": [],
   "source": [
    "#!pip install mglearn"
   ]
  },
  {
   "cell_type": "code",
   "execution_count": 159,
   "metadata": {
    "scrolled": true
   },
   "outputs": [
    {
     "data": {
      "image/png": "[encoded data removed]",
      "text/plain": [
       "<Figure size 864x360 with 2 Axes>"
      ]
     },
     "metadata": {
      "needs_background": "light"
     },
     "output_type": "display_data"
    }
   ],
   "source": [
    "import mglearn\n",
    "mglearn.plots.plot_stratified_cross_validation()"
   ]
  },
  {
   "cell_type": "code",
   "execution_count": 157,
   "metadata": {
    "scrolled": true
   },
   "outputs": [
    {
     "name": "stderr",
     "output_type": "stream",
     "text": [
      "C:\\Users\\rhkdg\\Anaconda3\\lib\\site-packages\\sklearn\\model_selection\\_split.py:657: Warning: The least populated class in y has only 2 members, which is too few. The minimum number of members in any class cannot be less than n_splits=5.\n",
      "  % (min_groups, self.n_splits)), Warning)\n"
     ]
    },
    {
     "name": "stdout",
     "output_type": "stream",
     "text": [
      "score : [0.59861718 0.60997815 0.60276968 0.60845789 0.60007305]\n"
     ]
    }
   ],
   "source": [
    "rf = RandomForestClassifier(n_estimators = 200,\n",
    "                          max_features = 0.8,\n",
    "                          max_depth = 15,\n",
    "                          n_jobs = -1,\n",
    "                          random_state = 0)\n",
    "rf.fit(X, y)\n",
    "print(f'score : {cross_val_score(rf, X, y, cv=skf)}')"
   ]
  },
  {
   "cell_type": "code",
   "execution_count": 156,
   "metadata": {},
   "outputs": [
    {
     "name": "stderr",
     "output_type": "stream",
     "text": [
      "C:\\Users\\rhkdg\\Anaconda3\\lib\\site-packages\\sklearn\\model_selection\\_split.py:657: Warning: The least populated class in y has only 2 members, which is too few. The minimum number of members in any class cannot be less than n_splits=5.\n",
      "  % (min_groups, self.n_splits)), Warning)\n"
     ]
    },
    {
     "name": "stdout",
     "output_type": "stream",
     "text": [
      "score : 0.5904217884807299\n"
     ]
    }
   ],
   "source": [
    "from xgboost import XGBClassifier\n",
    "\n",
    "model=XGBClassifier()\n",
    "model.fit(X,y) # 학습\n",
    "print(f'score : {cross_val_score(model, X, y, cv=skf).mean()}')"
   ]
  },
  {
   "cell_type": "code",
   "execution_count": 155,
   "metadata": {},
   "outputs": [
    {
     "name": "stderr",
     "output_type": "stream",
     "text": [
      "C:\\Users\\rhkdg\\Anaconda3\\lib\\site-packages\\sklearn\\model_selection\\_split.py:657: Warning: The least populated class in y has only 2 members, which is too few. The minimum number of members in any class cannot be less than n_splits=5.\n",
      "  % (min_groups, self.n_splits)), Warning)\n"
     ]
    },
    {
     "name": "stdout",
     "output_type": "stream",
     "text": [
      "score : 0.5774788073196941\n"
     ]
    }
   ],
   "source": [
    "import lightgbm \n",
    "lgb = lightgbm.LGBMClassifier()\n",
    "lgb.fit(X, y)\n",
    "print(f'score : {cross_val_score(lgb, X, y, cv=skf).mean()}')"
   ]
  },
  {
   "cell_type": "code",
   "execution_count": null,
   "metadata": {},
   "outputs": [],
   "source": []
  }
 ],
 "metadata": {
  "kernelspec": {
   "display_name": "Python 3",
   "language": "python",
   "name": "python3"
  },
  "language_info": {
   "codemirror_mode": {
    "name": "ipython",
    "version": 3
   },
   "file_extension": ".py",
   "mimetype": "text/x-python",
   "name": "python",
   "nbconvert_exporter": "python",
   "pygments_lexer": "ipython3",
   "version": "3.7.3"
  }
 },
 "nbformat": 4,
 "nbformat_minor": 2
}
