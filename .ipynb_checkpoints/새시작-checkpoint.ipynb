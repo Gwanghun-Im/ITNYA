{
 "cells": [
  {
   "cell_type": "code",
   "execution_count": 1,
   "metadata": {},
   "outputs": [],
   "source": [
    "import pandas as pd\n",
    "import numpy as np\n",
    "import matplotlib.pyplot as plt\n",
    "%matplotlib inline\n",
    "import seaborn as sns"
   ]
  },
  {
   "cell_type": "code",
   "execution_count": 2,
   "metadata": {},
   "outputs": [],
   "source": [
    "data = pd.read_csv('tra_.csv',index_col='ID')"
   ]
  },
  {
   "cell_type": "code",
   "execution_count": 3,
   "metadata": {},
   "outputs": [],
   "source": [
    "data['total'] = data['A12']+data['A13']+data['A14']\n",
    "data.drop(['A12'], axis=1, inplace= True)\n",
    "data.drop(['A13'], axis=1, inplace= True)\n",
    "data.drop(['A14'], axis=1, inplace= True)"
   ]
  },
  {
   "cell_type": "code",
   "execution_count": 4,
   "metadata": {},
   "outputs": [],
   "source": [
    "data=data[data['D_TRA1_CASE']==1]"
   ]
  },
  {
   "cell_type": "code",
   "execution_count": 5,
   "metadata": {},
   "outputs": [
    {
     "data": {
      "text/plain": [
       "(17867, 71)"
      ]
     },
     "execution_count": 5,
     "metadata": {},
     "output_type": "execute_result"
    }
   ],
   "source": [
    "data.shape"
   ]
  },
  {
   "cell_type": "markdown",
   "metadata": {},
   "source": [
    "# 결측치 처리"
   ]
  },
  {
   "cell_type": "code",
   "execution_count": 6,
   "metadata": {},
   "outputs": [],
   "source": [
    "#A1 예 아니요 매핑\n",
    "data['A1']=data['A1'].map({1:1,2:0})"
   ]
  },
  {
   "cell_type": "code",
   "execution_count": 7,
   "metadata": {},
   "outputs": [],
   "source": [
    "# A3 1,0 으로 변환\n",
    "for i in range(21):\n",
    "    data['A3_{}'.format(i+1)] = data['A3_{}'.format(i+1)].fillna(0)\n",
    "    data['A3_{}'.format(i+1)] = data['A3_{}'.format(i+1)].map({i+1:1,0:0})"
   ]
  },
  {
   "cell_type": "code",
   "execution_count": 8,
   "metadata": {},
   "outputs": [],
   "source": [
    "# A6은 원핫인코딩된 컬럼 -> 결측치 모두 0으로 채움\n",
    "for i in range(1, 15) :\n",
    "    data[f'A6_{i}'] = data[f'A6_{i}'].fillna(value = 0)\n",
    "    data[f'A6_{i}'] = data[f'A6_{i}'].map({i:1,0:0})"
   ]
  },
  {
   "cell_type": "code",
   "execution_count": 9,
   "metadata": {},
   "outputs": [],
   "source": [
    "#A7 컬럼 채우기\n",
    "data['A7A']=data['A7A'].fillna(0)\n",
    "for i in range(7):\n",
    "    data['A7B_{}'.format(i+1)] = data['A7B_{}'.format(i+1)].fillna(0)\n",
    "    data['A7B_{}'.format(i+1)] = data['A7B_{}'.format(i+1)].map({i+1:1,0:0})"
   ]
  },
  {
   "cell_type": "markdown",
   "metadata": {},
   "source": [
    "# 결측치 확인"
   ]
  },
  {
   "cell_type": "code",
   "execution_count": 10,
   "metadata": {
    "scrolled": false
   },
   "outputs": [
    {
     "name": "stdout",
     "output_type": "stream",
     "text": [
      "<class 'pandas.core.frame.DataFrame'>\n",
      "Int64Index: 17867 entries, 1 to 48267\n",
      "Data columns (total 71 columns):\n",
      "Q                 17867 non-null int64\n",
      "D_TRA1_1_SPOT1    17867 non-null float64\n",
      "D_TRA1_SMONTH     17867 non-null float64\n",
      "D_TRA1_S_Day      17867 non-null float64\n",
      "D_TRA1_COST       17867 non-null float64\n",
      "D_TRA1_NUM        17867 non-null float64\n",
      "D_TRA1_CASE       17867 non-null float64\n",
      "A1                17867 non-null int64\n",
      "A2_1              17867 non-null float64\n",
      "A3_1              17867 non-null int64\n",
      "A3_2              17867 non-null int64\n",
      "A3_3              17867 non-null int64\n",
      "A3_4              17867 non-null int64\n",
      "A3_5              17867 non-null int64\n",
      "A3_6              17867 non-null int64\n",
      "A3_7              17867 non-null int64\n",
      "A3_8              17867 non-null int64\n",
      "A3_9              17867 non-null int64\n",
      "A3_10             17867 non-null int64\n",
      "A3_11             17867 non-null int64\n",
      "A3_12             17867 non-null int64\n",
      "A3_13             17867 non-null int64\n",
      "A3_14             17867 non-null int64\n",
      "A3_15             17867 non-null int64\n",
      "A3_16             17867 non-null int64\n",
      "A3_17             17867 non-null int64\n",
      "A3_18             17867 non-null int64\n",
      "A3_19             17867 non-null int64\n",
      "A3_20             17867 non-null int64\n",
      "A3_21             17867 non-null int64\n",
      "A4_1              17867 non-null float64\n",
      "A5_1              17867 non-null float64\n",
      "A6_1              17867 non-null int64\n",
      "A6_2              17867 non-null int64\n",
      "A6_3              17867 non-null int64\n",
      "A6_4              17867 non-null int64\n",
      "A6_5              17867 non-null int64\n",
      "A6_6              17867 non-null int64\n",
      "A6_7              17867 non-null int64\n",
      "A6_8              17867 non-null int64\n",
      "A6_9              17867 non-null int64\n",
      "A6_10             17867 non-null int64\n",
      "A6_11             17867 non-null int64\n",
      "A6_12             17867 non-null int64\n",
      "A6_13             17867 non-null int64\n",
      "A6_14             17867 non-null int64\n",
      "A7                17867 non-null float64\n",
      "A7A               17867 non-null float64\n",
      "A7B_1             17867 non-null int64\n",
      "A7B_2             17867 non-null int64\n",
      "A7B_3             17867 non-null int64\n",
      "A7B_4             17867 non-null int64\n",
      "A7B_5             17867 non-null int64\n",
      "A7B_6             17867 non-null int64\n",
      "A7B_7             17867 non-null int64\n",
      "A10A              17867 non-null float64\n",
      "A10B              17867 non-null float64\n",
      "A10C              17867 non-null float64\n",
      "A10D              17867 non-null float64\n",
      "A10E              17867 non-null float64\n",
      "A10F              17867 non-null float64\n",
      "A10G              17867 non-null float64\n",
      "A10H              17867 non-null float64\n",
      "A10I              17867 non-null float64\n",
      "A10               17867 non-null float64\n",
      "DQ6A              17867 non-null int64\n",
      "BSEX              17867 non-null int64\n",
      "BAGE              17867 non-null int64\n",
      "BJOB              17867 non-null int64\n",
      "BARA              17867 non-null int64\n",
      "total             17867 non-null float64\n",
      "dtypes: float64(22), int64(49)\n",
      "memory usage: 9.8 MB\n"
     ]
    }
   ],
   "source": [
    "data.info()"
   ]
  },
  {
   "cell_type": "markdown",
   "metadata": {},
   "source": [
    "# 이상치 처리"
   ]
  },
  {
   "cell_type": "code",
   "execution_count": 11,
   "metadata": {},
   "outputs": [
    {
     "data": {
      "text/plain": [
       "(14235, 71)"
      ]
     },
     "execution_count": 11,
     "metadata": {},
     "output_type": "execute_result"
    }
   ],
   "source": [
    "data=data[(data['D_TRA1_S_Day']>4)==False]\n",
    "data=data[(data['D_TRA1_COST']>2000000)==False]\n",
    "data=data[(data['A7']>10)==False]\n",
    "data=data[(data['A10A']>500000)==False]\n",
    "data=data[(data['A10B']>200000)==False]\n",
    "data=data[(data['A10C']>200000)==False]\n",
    "data=data[(data['A10D']>500000)==False]\n",
    "data=data[(data['A10E']>250000)==False]\n",
    "data=data[(data['A10F']>100000)==False]\n",
    "data=data[(data['A10G']>100000)==False]\n",
    "data=data[(data['A10H']>20000)==False]\n",
    "data=data[(data['A10I']>20000)==False]\n",
    "data=data[(data['DQ6A']>=10)==False]\n",
    "\n",
    "data.shape"
   ]
  },
  {
   "cell_type": "markdown",
   "metadata": {},
   "source": [
    "# 새로운 특성 추가"
   ]
  },
  {
   "cell_type": "code",
   "execution_count": 12,
   "metadata": {},
   "outputs": [],
   "source": [
    "data['Ncost'] = data['D_TRA1_COST']/data['D_TRA1_NUM']"
   ]
  },
  {
   "cell_type": "code",
   "execution_count": 13,
   "metadata": {},
   "outputs": [],
   "source": [
    "data['DNcost'] = data['Ncost']/(data['D_TRA1_S_Day']+1)"
   ]
  },
  {
   "cell_type": "code",
   "execution_count": 14,
   "metadata": {},
   "outputs": [],
   "source": [
    "data['A3sum'] = data['A3_1']\n",
    "for i in range(1,21):\n",
    "    data['A3sum'] = data['A3sum'] + data['A3_{}'.format(i+1)]"
   ]
  },
  {
   "cell_type": "code",
   "execution_count": 15,
   "metadata": {},
   "outputs": [],
   "source": [
    "# 명목형 변수 인코딩\n",
    "lst = ['D_TRA1_1_SPOT1','D_TRA1_SMONTH','A2_1','A4_1','A5_1','BSEX','BAGE','BJOB','D_TRA1_CASE','BARA','D_TRA1_NUM']\n",
    "for col in lst:\n",
    "    data[col] = data[col].apply(str)"
   ]
  },
  {
   "cell_type": "markdown",
   "metadata": {},
   "source": [
    "#  EDA"
   ]
  },
  {
   "cell_type": "code",
   "execution_count": 16,
   "metadata": {
    "scrolled": true
   },
   "outputs": [
    {
     "data": {
      "text/plain": [
       "<matplotlib.axes._subplots.AxesSubplot at 0x17607f0f518>"
      ]
     },
     "execution_count": 16,
     "metadata": {},
     "output_type": "execute_result"
    },
    {
     "data": {
      "image/png": "[encoded data removed]",
      "text/plain": [
       "<Figure size 432x288 with 1 Axes>"
      ]
     },
     "metadata": {
      "needs_background": "light"
     },
     "output_type": "display_data"
    }
   ],
   "source": [
    "sns.boxenplot(y=data['total'])"
   ]
  },
  {
   "cell_type": "markdown",
   "metadata": {},
   "source": [
    "## 정규화"
   ]
  },
  {
   "cell_type": "code",
   "execution_count": 17,
   "metadata": {},
   "outputs": [],
   "source": [
    "from sklearn.preprocessing import MinMaxScaler\n",
    "scaler = MinMaxScaler()\n",
    "data['N_total'] = scaler.fit_transform(pd.DataFrame(data['total']))"
   ]
  },
  {
   "cell_type": "code",
   "execution_count": 18,
   "metadata": {},
   "outputs": [
    {
     "data": {
      "text/plain": [
       "(array([2.000e+00, 1.400e+01, 2.900e+01, 3.800e+01, 4.330e+02, 5.780e+02,\n",
       "        1.215e+03, 8.011e+03, 2.465e+03, 1.450e+03]),\n",
       " array([0. , 0.1, 0.2, 0.3, 0.4, 0.5, 0.6, 0.7, 0.8, 0.9, 1. ]),\n",
       " <a list of 10 Patch objects>)"
      ]
     },
     "execution_count": 18,
     "metadata": {},
     "output_type": "execute_result"
    },
    {
     "data": {
      "image/png": "[encoded data removed]",
      "text/plain": [
       "<Figure size 432x288 with 1 Axes>"
      ]
     },
     "metadata": {
      "needs_background": "light"
     },
     "output_type": "display_data"
    }
   ],
   "source": [
    "plt.hist(data['N_total'])"
   ]
  },
  {
   "cell_type": "markdown",
   "metadata": {},
   "source": [
    "## 표준화"
   ]
  },
  {
   "cell_type": "code",
   "execution_count": 19,
   "metadata": {},
   "outputs": [],
   "source": [
    "from scipy import stats\n",
    "data['z'] = stats.zscore(data['total'])"
   ]
  },
  {
   "cell_type": "code",
   "execution_count": 20,
   "metadata": {},
   "outputs": [],
   "source": [
    "data = data[data['z'].between(-2,3)]"
   ]
  },
  {
   "cell_type": "code",
   "execution_count": 98,
   "metadata": {},
   "outputs": [
    {
     "data": {
      "text/plain": [
       "0.7    8011\n",
       "0.8    2465\n",
       "0.6    1215\n",
       "0.9     733\n",
       "1.0     717\n",
       "0.5     578\n",
       "Name: N_total, dtype: int64"
      ]
     },
     "execution_count": 98,
     "metadata": {},
     "output_type": "execute_result"
    }
   ],
   "source": [
    "data['N_total'].value_counts()"
   ]
  },
  {
   "cell_type": "markdown",
   "metadata": {},
   "source": [
    "## 변수분석"
   ]
  },
  {
   "cell_type": "code",
   "execution_count": 22,
   "metadata": {},
   "outputs": [
    {
     "data": {
      "text/plain": [
       "3    5135\n",
       "2    4798\n",
       "1    2002\n",
       "4    1352\n",
       "5     344\n",
       "6      67\n",
       "7      19\n",
       "8       2\n",
       "Name: A3sum, dtype: int64"
      ]
     },
     "execution_count": 22,
     "metadata": {},
     "output_type": "execute_result"
    }
   ],
   "source": [
    "data['A3sum'].value_counts()"
   ]
  },
  {
   "cell_type": "code",
   "execution_count": 23,
   "metadata": {},
   "outputs": [
    {
     "data": {
      "text/plain": [
       "(array([ 578.,    0., 1215.,    0., 8011.,    0., 2465.,    0.,  733.,\n",
       "         717.]),\n",
       " array([0.5 , 0.55, 0.6 , 0.65, 0.7 , 0.75, 0.8 , 0.85, 0.9 , 0.95, 1.  ]),\n",
       " <a list of 10 Patch objects>)"
      ]
     },
     "execution_count": 23,
     "metadata": {},
     "output_type": "execute_result"
    },
    {
     "data": {
      "image/png": "[encoded data removed]",
      "text/plain": [
       "<Figure size 432x288 with 1 Axes>"
      ]
     },
     "metadata": {
      "needs_background": "light"
     },
     "output_type": "display_data"
    }
   ],
   "source": [
    "plt.hist(data['N_total'],color='red')"
   ]
  },
  {
   "cell_type": "code",
   "execution_count": 24,
   "metadata": {},
   "outputs": [
    {
     "data": {
      "image/png": "[encoded data removed]",
      "text/plain": [
       "<Figure size 1440x1080 with 1 Axes>"
      ]
     },
     "metadata": {
      "needs_background": "light"
     },
     "output_type": "display_data"
    }
   ],
   "source": [
    "a3df = data.groupby(['A3sum','total'])['total'].count().unstack('total')\n",
    "a3df.plot(kind='bar', figsize=(20,15))\n",
    "plt.title('A3sum')\n",
    "plt.show()"
   ]
  },
  {
   "cell_type": "code",
   "execution_count": 25,
   "metadata": {},
   "outputs": [
    {
     "data": {
      "image/png": "[encoded data removed]",
      "text/plain": [
       "<Figure size 1440x1080 with 1 Axes>"
      ]
     },
     "metadata": {
      "needs_background": "light"
     },
     "output_type": "display_data"
    }
   ],
   "source": [
    "a3df = data.groupby(['A3sum','total'])['total'].count().unstack('total')\n",
    "a3df.plot(kind='bar', figsize=(20,15))\n",
    "plt.title('A3sum')\n",
    "plt.show()"
   ]
  },
  {
   "cell_type": "code",
   "execution_count": 26,
   "metadata": {},
   "outputs": [
    {
     "data": {
      "text/html": [
       "<div>\n",
       "<style scoped>\n",
       "    .dataframe tbody tr th:only-of-type {\n",
       "        vertical-align: middle;\n",
       "    }\n",
       "\n",
       "    .dataframe tbody tr th {\n",
       "        vertical-align: top;\n",
       "    }\n",
       "\n",
       "    .dataframe thead th {\n",
       "        text-align: right;\n",
       "    }\n",
       "</style>\n",
       "<table border=\"1\" class=\"dataframe\">\n",
       "  <thead>\n",
       "    <tr style=\"text-align: right;\">\n",
       "      <th>total</th>\n",
       "      <th>10.0</th>\n",
       "      <th>11.0</th>\n",
       "      <th>12.0</th>\n",
       "      <th>13.0</th>\n",
       "      <th>14.0</th>\n",
       "      <th>15.0</th>\n",
       "    </tr>\n",
       "    <tr>\n",
       "      <th>A3sum</th>\n",
       "      <th></th>\n",
       "      <th></th>\n",
       "      <th></th>\n",
       "      <th></th>\n",
       "      <th></th>\n",
       "      <th></th>\n",
       "    </tr>\n",
       "  </thead>\n",
       "  <tbody>\n",
       "    <tr>\n",
       "      <th>1</th>\n",
       "      <td>96.0</td>\n",
       "      <td>246.0</td>\n",
       "      <td>1149.0</td>\n",
       "      <td>289.0</td>\n",
       "      <td>76.0</td>\n",
       "      <td>146.0</td>\n",
       "    </tr>\n",
       "    <tr>\n",
       "      <th>2</th>\n",
       "      <td>213.0</td>\n",
       "      <td>458.0</td>\n",
       "      <td>2873.0</td>\n",
       "      <td>753.0</td>\n",
       "      <td>238.0</td>\n",
       "      <td>263.0</td>\n",
       "    </tr>\n",
       "    <tr>\n",
       "      <th>3</th>\n",
       "      <td>200.0</td>\n",
       "      <td>389.0</td>\n",
       "      <td>3135.0</td>\n",
       "      <td>968.0</td>\n",
       "      <td>242.0</td>\n",
       "      <td>201.0</td>\n",
       "    </tr>\n",
       "    <tr>\n",
       "      <th>4</th>\n",
       "      <td>58.0</td>\n",
       "      <td>106.0</td>\n",
       "      <td>680.0</td>\n",
       "      <td>317.0</td>\n",
       "      <td>113.0</td>\n",
       "      <td>78.0</td>\n",
       "    </tr>\n",
       "    <tr>\n",
       "      <th>5</th>\n",
       "      <td>9.0</td>\n",
       "      <td>15.0</td>\n",
       "      <td>143.0</td>\n",
       "      <td>108.0</td>\n",
       "      <td>45.0</td>\n",
       "      <td>24.0</td>\n",
       "    </tr>\n",
       "    <tr>\n",
       "      <th>6</th>\n",
       "      <td>1.0</td>\n",
       "      <td>NaN</td>\n",
       "      <td>26.0</td>\n",
       "      <td>20.0</td>\n",
       "      <td>15.0</td>\n",
       "      <td>5.0</td>\n",
       "    </tr>\n",
       "    <tr>\n",
       "      <th>7</th>\n",
       "      <td>1.0</td>\n",
       "      <td>1.0</td>\n",
       "      <td>5.0</td>\n",
       "      <td>9.0</td>\n",
       "      <td>3.0</td>\n",
       "      <td>NaN</td>\n",
       "    </tr>\n",
       "    <tr>\n",
       "      <th>8</th>\n",
       "      <td>NaN</td>\n",
       "      <td>NaN</td>\n",
       "      <td>NaN</td>\n",
       "      <td>1.0</td>\n",
       "      <td>1.0</td>\n",
       "      <td>NaN</td>\n",
       "    </tr>\n",
       "  </tbody>\n",
       "</table>\n",
       "</div>"
      ],
      "text/plain": [
       "total   10.0   11.0    12.0   13.0   14.0   15.0\n",
       "A3sum                                           \n",
       "1       96.0  246.0  1149.0  289.0   76.0  146.0\n",
       "2      213.0  458.0  2873.0  753.0  238.0  263.0\n",
       "3      200.0  389.0  3135.0  968.0  242.0  201.0\n",
       "4       58.0  106.0   680.0  317.0  113.0   78.0\n",
       "5        9.0   15.0   143.0  108.0   45.0   24.0\n",
       "6        1.0    NaN    26.0   20.0   15.0    5.0\n",
       "7        1.0    1.0     5.0    9.0    3.0    NaN\n",
       "8        NaN    NaN     NaN    1.0    1.0    NaN"
      ]
     },
     "execution_count": 26,
     "metadata": {},
     "output_type": "execute_result"
    }
   ],
   "source": [
    "a3df"
   ]
  },
  {
   "cell_type": "markdown",
   "metadata": {},
   "source": [
    "## 변수 타입별 정리"
   ]
  },
  {
   "cell_type": "code",
   "execution_count": 29,
   "metadata": {},
   "outputs": [
    {
     "data": {
      "text/plain": [
       "Index(['Q', 'D_TRA1_S_Day', 'D_TRA1_COST', 'A1', 'A3_1', 'A3_2', 'A3_3',\n",
       "       'A3_4', 'A3_5', 'A3_6', 'A3_7', 'A3_8', 'A3_9', 'A3_10', 'A3_11',\n",
       "       'A3_12', 'A3_13', 'A3_14', 'A3_15', 'A3_16', 'A3_17', 'A3_18', 'A3_19',\n",
       "       'A3_20', 'A3_21', 'A6_1', 'A6_2', 'A6_3', 'A6_4', 'A6_5', 'A6_6',\n",
       "       'A6_7', 'A6_8', 'A6_9', 'A6_10', 'A6_11', 'A6_12', 'A6_13', 'A6_14',\n",
       "       'A7', 'A7A', 'A7B_1', 'A7B_2', 'A7B_3', 'A7B_4', 'A7B_5', 'A7B_6',\n",
       "       'A7B_7', 'A10A', 'A10B', 'A10C', 'A10D', 'A10E', 'A10F', 'A10G', 'A10H',\n",
       "       'A10I', 'A10', 'DQ6A', 'total', 'Ncost', 'DNcost', 'A3sum', 'N_total',\n",
       "       'z'],\n",
       "      dtype='object')"
      ]
     },
     "execution_count": 29,
     "metadata": {},
     "output_type": "execute_result"
    }
   ],
   "source": [
    "n_f = data.dtypes[data.dtypes != 'object'].index\n",
    "n_f"
   ]
  },
  {
   "cell_type": "code",
   "execution_count": 30,
   "metadata": {},
   "outputs": [],
   "source": [
    "n_f=['Q', 'D_TRA1_S_Day', 'D_TRA1_COST', 'A1', 'A3_1', 'A3_2', 'A3_3',\n",
    "       'A3_4', 'A3_5', 'A3_6', 'A3_7', 'A3_8', 'A3_9', 'A3_10', 'A3_11',\n",
    "       'A3_12', 'A3_13', 'A3_14', 'A3_15', 'A3_16', 'A3_17', 'A3_18', 'A3_19',\n",
    "       'A3_20', 'A3_21', 'A6_1', 'A6_2', 'A6_3', 'A6_4', 'A6_5', 'A6_6',\n",
    "       'A6_7', 'A6_8', 'A6_9', 'A6_10', 'A6_11', 'A6_12', 'A6_13', 'A6_14',\n",
    "       'A7', 'A7A', 'A7B_1', 'A7B_2', 'A7B_3', 'A7B_4', 'A7B_5', 'A7B_6',\n",
    "       'A7B_7', 'A10A', 'A10B', 'A10C', 'A10D', 'A10E', 'A10F', 'A10G', 'A10H',\n",
    "       'A10I', 'A10', 'DQ6A', 'total', 'Ncost', 'DNcost', 'A3sum', 'N_total',\n",
    "       'z']"
   ]
  },
  {
   "cell_type": "code",
   "execution_count": 31,
   "metadata": {},
   "outputs": [],
   "source": [
    "b_f = ['A1', 'A3_1', 'A3_2', 'A3_3',\n",
    "       'A3_4', 'A3_5', 'A3_6', 'A3_7', 'A3_8', 'A3_9', 'A3_10', 'A3_11',\n",
    "       'A3_12', 'A3_13', 'A3_14', 'A3_15', 'A3_16', 'A3_17', 'A3_18', 'A3_19',\n",
    "       'A3_20', 'A3_21', 'A6_1', 'A6_2', 'A6_3', 'A6_4', 'A6_5', 'A6_6',\n",
    "       'A6_7', 'A6_8', 'A6_9', 'A6_10', 'A6_11', 'A6_12', 'A6_13', 'A6_14',\n",
    "       'A7B_1', 'A7B_2', 'A7B_3', 'A7B_4', 'A7B_5', 'A7B_6','A7B_7']"
   ]
  },
  {
   "cell_type": "code",
   "execution_count": 32,
   "metadata": {
    "scrolled": false
   },
   "outputs": [
    {
     "data": {
      "text/plain": [
       "['Q',\n",
       " 'D_TRA1_S_Day',\n",
       " 'D_TRA1_COST',\n",
       " 'A7',\n",
       " 'A7A',\n",
       " 'A10A',\n",
       " 'A10B',\n",
       " 'A10C',\n",
       " 'A10D',\n",
       " 'A10E',\n",
       " 'A10F',\n",
       " 'A10G',\n",
       " 'A10H',\n",
       " 'A10I',\n",
       " 'A10',\n",
       " 'DQ6A',\n",
       " 'total',\n",
       " 'Ncost',\n",
       " 'DNcost',\n",
       " 'A3sum',\n",
       " 'N_total',\n",
       " 'z']"
      ]
     },
     "execution_count": 32,
     "metadata": {},
     "output_type": "execute_result"
    }
   ],
   "source": [
    "for i in b_f:\n",
    "    n_f.remove(i)\n",
    "n_f"
   ]
  },
  {
   "cell_type": "code",
   "execution_count": 33,
   "metadata": {},
   "outputs": [
    {
     "data": {
      "text/plain": [
       "D_TRA1_1_SPOT1    object\n",
       "D_TRA1_SMONTH     object\n",
       "D_TRA1_NUM        object\n",
       "D_TRA1_CASE       object\n",
       "A2_1              object\n",
       "A4_1              object\n",
       "A5_1              object\n",
       "BSEX              object\n",
       "BAGE              object\n",
       "BJOB              object\n",
       "BARA              object\n",
       "dtype: object"
      ]
     },
     "execution_count": 33,
     "metadata": {},
     "output_type": "execute_result"
    }
   ],
   "source": [
    "o_f = data.dtypes[data.dtypes=='object']\n",
    "o_f"
   ]
  },
  {
   "cell_type": "code",
   "execution_count": 73,
   "metadata": {},
   "outputs": [],
   "source": [
    "feature=[]"
   ]
  },
  {
   "cell_type": "markdown",
   "metadata": {},
   "source": [
    "## 이진 변수\n",
    "### - 점 양분 상관 계수\n",
    "> 한 변수는 있음/없음, 네/아니오 등으로 이분형(binary) 이고, 다른 한 변수는 연속형인 경우에도 상관계수를 구할 수 있습니다.\n",
    "\n",
    "- p-value가 0.05보다 클 경우 변수간의 상관관계가 존재하지 않음 \n",
    "\n",
    "https://mansoostat.tistory.com/115"
   ]
  },
  {
   "cell_type": "code",
   "execution_count": 74,
   "metadata": {},
   "outputs": [
    {
     "name": "stdout",
     "output_type": "stream",
     "text": [
      "A1 8.661326630834653e-06\n",
      "A3_1 0.17116851165347316\n",
      "A3_2 0.275653613595305\n",
      "A3_3 1.0962879270463821e-05\n",
      "A3_4 0.006321974183314562\n",
      "A3_5 0.0694862530677596\n",
      "A3_6 0.24576503465137042\n",
      "A3_7 0.023942671315250092\n",
      "A3_8 0.0748376905282863\n",
      "A3_9 0.01527898329130679\n",
      "A3_10 0.526644090656788\n",
      "A3_11 7.028117336464174e-23\n",
      "A3_12 0.863194644090025\n",
      "A3_13 0.2433294216775785\n",
      "A3_14 0.6827921893436095\n",
      "A3_15 4.1042781340474824e-22\n",
      "A3_16 0.5446823033565152\n",
      "A3_17 0.006032509971282555\n",
      "A3_18 0.0019656744678031132\n",
      "A3_19 0.01900175218484337\n",
      "A3_20 0.19570867509419182\n",
      "A3_21 1.4723994348933861e-06\n",
      "A6_1 0.2760533248249234\n",
      "A6_2 0.9055632058127474\n",
      "A6_3 0.41163868430949413\n",
      "A6_4 5.9003445928520894e-08\n",
      "A6_5 0.0008744677433902612\n",
      "A6_6 0.8968453645155778\n",
      "A6_7 0.34198859488240624\n",
      "A6_8 0.13365580263490157\n",
      "A6_9 0.017990854632505483\n",
      "A6_10 0.06240651238524485\n",
      "A6_11 0.3593231834239138\n",
      "A6_12 0.15851634911929874\n",
      "A6_13 0.047716540079681895\n",
      "A6_14 0.028244831740993518\n",
      "A7B_1 0.0014069992366341892\n",
      "A7B_2 0.42607981831123104\n",
      "A7B_3 0.021760634151783743\n",
      "A7B_4 0.9699852354071221\n",
      "A7B_5 0.021803497553671454\n",
      "A7B_6 0.34302740137412024\n",
      "A7B_7 0.03319333050996456\n"
     ]
    }
   ],
   "source": [
    "from scipy.stats import pointbiserialr\n",
    "for i in b_f:\n",
    "    corr, pval = pointbiserialr(data[i],data['total'])\n",
    "    print(i,pval)\n",
    "    if pval <0.05:\n",
    "        feature.append(i)"
   ]
  },
  {
   "cell_type": "markdown",
   "metadata": {},
   "source": [
    "## 연속형 변수\n",
    "### - 피어슨 상관 계수\n",
    "- 연속형 변수 2개의 상관 관계를 확인하기 위한 가장 기본적인 방법이다.\n",
    "\n",
    ">정확히 말해서 두개의 수치값들의 집합이 있을 때 이 두개의 수치값들은 각각의 순서쌍에 대해서 연결관계가 있다고 할 때 두 수치값이 서로 관련이 있는지를 확인하는 방법이다.\n",
    "\n",
    ">흔한 예로 있는 것이 고등학생 한 학급에 50명이 있다고 할 때 이 학생들의 수학과목의 성적과 물리과목의 성정이 관련이 있는지 확인하는 것이 있다. 즉 수학과목과 물리과목은 서로 수리적 또는 과학적 능력과 관련이 있어 두 과목은 서로 관련이 있을 것이라는 가설을 어느 정도 두고 있으며 실제로 그런지 확인한다.\n",
    "\n",
    "- p-value가 0.05보다 클 경우 변수간의 상관관계가 존재하지 않음 \n",
    "\n",
    "https://intothedata.com/02.scholar_category/statistics/correlation/\n",
    "\n",
    "https://bskyvision.com/754"
   ]
  },
  {
   "cell_type": "code",
   "execution_count": 75,
   "metadata": {},
   "outputs": [
    {
     "name": "stdout",
     "output_type": "stream",
     "text": [
      "Q 0.3992414832136602\n",
      "D_TRA1_S_Day 3.404954895142887e-07\n",
      "D_TRA1_COST 0.014402485973347095\n",
      "A7 0.22632755594027862\n",
      "A7A 0.01024287848328371\n",
      "A10A 0.02113119031019443\n",
      "A10B 0.4254389184753567\n",
      "A10C 2.2797441414478847e-05\n",
      "A10D 0.028951111642435773\n",
      "A10E 2.0014068842446235e-06\n",
      "A10F 2.3758839231398733e-09\n",
      "A10G 3.984580745527651e-06\n",
      "A10H 0.13559822082891362\n",
      "A10I 0.003687320548950795\n",
      "A10 5.5013251936660954e-09\n",
      "DQ6A 0.6349044949712727\n",
      "total 0.0\n",
      "Ncost 6.810596845563218e-08\n",
      "DNcost 0.008885969192310996\n",
      "A3sum 9.608530381645512e-18\n",
      "N_total 0.0\n",
      "z 0.0\n"
     ]
    }
   ],
   "source": [
    "from scipy import stats\n",
    "for i in n_f:\n",
    "    corr, pval = stats.pearsonr(data[i],data['total'])\n",
    "    print(i,pval)\n",
    "    if pval <0.05:\n",
    "        feature.append(i)"
   ]
  },
  {
   "cell_type": "code",
   "execution_count": 76,
   "metadata": {},
   "outputs": [],
   "source": [
    "# 명목형 변수 인코딩\n",
    "lst = ['D_TRA1_1_SPOT1','D_TRA1_SMONTH','A2_1','A4_1','A5_1','BSEX','BAGE','BJOB','D_TRA1_CASE','BARA','D_TRA1_NUM']\n",
    "for col in lst:\n",
    "    data[col] = data[col].apply(float)"
   ]
  },
  {
   "cell_type": "code",
   "execution_count": 77,
   "metadata": {},
   "outputs": [
    {
     "name": "stdout",
     "output_type": "stream",
     "text": [
      "D_TRA1_1_SPOT1 0.26159956574429855\n",
      "D_TRA1_SMONTH 0.6019132245566202\n",
      "A2_1 0.15312164988806226\n",
      "A4_1 0.00037525738963031194\n",
      "A5_1 0.025694947555936112\n",
      "BSEX 0.5433806255522973\n",
      "BAGE 0.7227551599448332\n",
      "BJOB 0.16202109119774435\n",
      "D_TRA1_CASE nan\n",
      "BARA 3.0687559946525074e-11\n",
      "D_TRA1_NUM 0.039515260414091855\n"
     ]
    },
    {
     "name": "stderr",
     "output_type": "stream",
     "text": [
      "C:\\Users\\rhkdg\\Anaconda3\\lib\\site-packages\\scipy\\stats\\stats.py:3508: PearsonRConstantInputWarning: An input array is constant; the correlation coefficent is not defined.\n",
      "  warnings.warn(PearsonRConstantInputWarning())\n"
     ]
    }
   ],
   "source": [
    "from scipy import stats\n",
    "for i in lst:\n",
    "    corr, pval = stats.pearsonr(data[i],data['total'])\n",
    "    print(i,pval)\n",
    "    if pval <0.05:\n",
    "        feature.append(i)"
   ]
  },
  {
   "cell_type": "code",
   "execution_count": 78,
   "metadata": {},
   "outputs": [
    {
     "data": {
      "text/plain": [
       "['A1',\n",
       " 'A3_3',\n",
       " 'A3_4',\n",
       " 'A3_7',\n",
       " 'A3_9',\n",
       " 'A3_11',\n",
       " 'A3_15',\n",
       " 'A3_17',\n",
       " 'A3_18',\n",
       " 'A3_19',\n",
       " 'A3_21',\n",
       " 'A6_4',\n",
       " 'A6_5',\n",
       " 'A6_9',\n",
       " 'A6_13',\n",
       " 'A6_14',\n",
       " 'A7B_1',\n",
       " 'A7B_3',\n",
       " 'A7B_5',\n",
       " 'A7B_7',\n",
       " 'D_TRA1_S_Day',\n",
       " 'D_TRA1_COST',\n",
       " 'A7A',\n",
       " 'A10A',\n",
       " 'A10C',\n",
       " 'A10D',\n",
       " 'A10E',\n",
       " 'A10F',\n",
       " 'A10G',\n",
       " 'A10I',\n",
       " 'A10',\n",
       " 'Ncost',\n",
       " 'DNcost',\n",
       " 'A3sum',\n",
       " 'A4_1',\n",
       " 'A5_1',\n",
       " 'BARA',\n",
       " 'D_TRA1_NUM']"
      ]
     },
     "execution_count": 78,
     "metadata": {},
     "output_type": "execute_result"
    }
   ],
   "source": [
    "feature.remove('total')\n",
    "feature.remove('N_total')\n",
    "feature.remove('z')\n",
    "feature"
   ]
  },
  {
   "cell_type": "code",
   "execution_count": 127,
   "metadata": {},
   "outputs": [],
   "source": [
    "X=pd.DataFrame()\n",
    "for i in feature:\n",
    "    X[i] = data[i]\n",
    "y = data['N_total']"
   ]
  },
  {
   "cell_type": "code",
   "execution_count": 128,
   "metadata": {},
   "outputs": [],
   "source": [
    "y = y.apply(str)"
   ]
  },
  {
   "cell_type": "code",
   "execution_count": 129,
   "metadata": {
    "scrolled": true
   },
   "outputs": [
    {
     "data": {
      "text/plain": [
       "ID\n",
       "3                       0.8\n",
       "4        0.7000000000000002\n",
       "7                       0.8\n",
       "12       0.7000000000000002\n",
       "13       0.7000000000000002\n",
       "16       0.7000000000000002\n",
       "17       0.7000000000000002\n",
       "18       0.7000000000000002\n",
       "21       0.7000000000000002\n",
       "22       0.7000000000000002\n",
       "23                      0.5\n",
       "24       0.7000000000000002\n",
       "27                      0.5\n",
       "31       0.7000000000000002\n",
       "32       0.7000000000000002\n",
       "33       0.7000000000000002\n",
       "35       0.7000000000000002\n",
       "36                      0.5\n",
       "38                      0.8\n",
       "41       0.7000000000000002\n",
       "47                      0.5\n",
       "49       0.7000000000000002\n",
       "57       0.7000000000000002\n",
       "59       0.6000000000000001\n",
       "60       0.7000000000000002\n",
       "61       0.7000000000000002\n",
       "64       0.7000000000000002\n",
       "65       0.7000000000000002\n",
       "66       0.6000000000000001\n",
       "67       0.6000000000000001\n",
       "                ...        \n",
       "47904    0.7000000000000002\n",
       "47907    0.6000000000000001\n",
       "47917    0.7000000000000002\n",
       "47954    0.6000000000000001\n",
       "47970    0.7000000000000002\n",
       "47974                   1.0\n",
       "47975    0.9000000000000001\n",
       "47978                   0.5\n",
       "47983                   0.5\n",
       "47995    0.7000000000000002\n",
       "47999                   0.5\n",
       "48002    0.7000000000000002\n",
       "48007    0.7000000000000002\n",
       "48011    0.7000000000000002\n",
       "48037    0.6000000000000001\n",
       "48046                   0.5\n",
       "48056                   0.8\n",
       "48068    0.6000000000000001\n",
       "48090    0.7000000000000002\n",
       "48100                   0.5\n",
       "48104    0.6000000000000001\n",
       "48107                   0.8\n",
       "48131                   0.8\n",
       "48134                   0.8\n",
       "48164                   0.8\n",
       "48172    0.6000000000000001\n",
       "48177    0.7000000000000002\n",
       "48180    0.7000000000000002\n",
       "48213    0.6000000000000001\n",
       "48267    0.7000000000000002\n",
       "Name: N_total, Length: 13719, dtype: object"
      ]
     },
     "execution_count": 129,
     "metadata": {},
     "output_type": "execute_result"
    }
   ],
   "source": [
    "y"
   ]
  },
  {
   "cell_type": "code",
   "execution_count": 130,
   "metadata": {},
   "outputs": [],
   "source": [
    "from sklearn.model_selection import train_test_split\n",
    "\n",
    "X_train, X_test, y_train, y_test = train_test_split(X, y,\n",
    "                                                    test_size=0.3,\n",
    "                                                    random_state=1)"
   ]
  },
  {
   "cell_type": "code",
   "execution_count": 131,
   "metadata": {},
   "outputs": [],
   "source": [
    "from sklearn.ensemble import RandomForestClassifier\n",
    "#from tqdm.notebook import tqdm # 밑에 프로그래스바?를 출력\n",
    "from sklearn.model_selection import cross_val_score # 교차검증"
   ]
  },
  {
   "cell_type": "code",
   "execution_count": 132,
   "metadata": {},
   "outputs": [
    {
     "data": {
      "text/plain": [
       "RandomForestClassifier(bootstrap=True, class_weight=None, criterion='gini',\n",
       "                       max_depth=15, max_features=0.8, max_leaf_nodes=None,\n",
       "                       min_impurity_decrease=0.0, min_impurity_split=None,\n",
       "                       min_samples_leaf=1, min_samples_split=2,\n",
       "                       min_weight_fraction_leaf=0.0, n_estimators=200,\n",
       "                       n_jobs=-1, oob_score=False, random_state=0, verbose=0,\n",
       "                       warm_start=False)"
      ]
     },
     "execution_count": 132,
     "metadata": {},
     "output_type": "execute_result"
    }
   ],
   "source": [
    "rf = RandomForestClassifier(n_estimators = 200,\n",
    "                          max_features = 0.8,\n",
    "                          max_depth = 15,\n",
    "                          n_jobs = -1,\n",
    "                          random_state = 0)\n",
    "rf.fit(X_train, y_train)"
   ]
  },
  {
   "cell_type": "code",
   "execution_count": 133,
   "metadata": {
    "scrolled": true
   },
   "outputs": [
    {
     "name": "stdout",
     "output_type": "stream",
     "text": [
      "score : 0.6018964952429341\n"
     ]
    }
   ],
   "source": [
    "print(f'score : {cross_val_score(rf, X_train, y_train, cv=5).mean()}')"
   ]
  },
  {
   "cell_type": "code",
   "execution_count": 115,
   "metadata": {},
   "outputs": [
    {
     "data": {
      "text/plain": [
       "array(['0.7000000000000002', '0.7000000000000002', '0.7000000000000002',\n",
       "       ..., '0.7000000000000002', '0.7000000000000002',\n",
       "       '0.7000000000000002'], dtype=object)"
      ]
     },
     "execution_count": 115,
     "metadata": {},
     "output_type": "execute_result"
    }
   ],
   "source": [
    "rf.predict(X_test)"
   ]
  },
  {
   "cell_type": "code",
   "execution_count": 145,
   "metadata": {},
   "outputs": [
    {
     "data": {
      "text/plain": [
       "Int64Index([34141, 14180, 28422, 37704, 16868,  8454, 13860, 16239, 39901,\n",
       "            39132,\n",
       "            ...\n",
       "            37954, 36366, 29997, 15132, 39925, 16330, 44743, 20679, 39893,\n",
       "            15149],\n",
       "           dtype='int64', name='ID', length=202)"
      ]
     },
     "execution_count": 145,
     "metadata": {},
     "output_type": "execute_result"
    }
   ],
   "source": [
    "df_y_test=pd.DataFrame(y_test)\n",
    "df_y_test[df_y_test['N_total']=='1.0'].index"
   ]
  },
  {
   "cell_type": "code",
   "execution_count": null,
   "metadata": {},
   "outputs": [],
   "source": []
  },
  {
   "cell_type": "code",
   "execution_count": null,
   "metadata": {},
   "outputs": [],
   "source": []
  }
 ],
 "metadata": {
  "kernelspec": {
   "display_name": "Python 3",
   "language": "python",
   "name": "python3"
  },
  "language_info": {
   "codemirror_mode": {
    "name": "ipython",
    "version": 3
   },
   "file_extension": ".py",
   "mimetype": "text/x-python",
   "name": "python",
   "nbconvert_exporter": "python",
   "pygments_lexer": "ipython3",
   "version": "3.7.3"
  }
 },
 "nbformat": 4,
 "nbformat_minor": 2
}
