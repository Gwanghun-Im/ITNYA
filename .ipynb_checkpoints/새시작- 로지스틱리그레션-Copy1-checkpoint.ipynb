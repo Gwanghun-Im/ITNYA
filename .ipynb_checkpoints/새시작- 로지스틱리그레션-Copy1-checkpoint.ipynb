{
 "cells": [
  {
   "cell_type": "code",
   "execution_count": null,
   "metadata": {},
   "outputs": [],
   "source": [
    "import pandas as pd\n",
    "import numpy as np\n",
    "import matplotlib.pyplot as plt\n",
    "%matplotlib inline\n",
    "import seaborn as sns"
   ]
  },
  {
   "cell_type": "code",
   "execution_count": null,
   "metadata": {},
   "outputs": [],
   "source": [
    "from matplotlib import font_manager, rc\n",
    "font_name = font_manager.FontProperties(fname='c:/Windows/Fonts/malgun.ttf').get_name()\n",
    "rc('font',family=font_name)"
   ]
  },
  {
   "cell_type": "code",
   "execution_count": null,
   "metadata": {},
   "outputs": [],
   "source": [
    "data = pd.read_csv('tra_.csv',index_col='ID')"
   ]
  },
  {
   "cell_type": "code",
   "execution_count": null,
   "metadata": {},
   "outputs": [],
   "source": [
    "d12 = data['A12'] >4\n",
    "d13 = data['A13'] >4\n",
    "d14 = data['A14'] >4\n",
    "data['total'] = d12 | d13 |d14\n",
    "data['total'] = data['total'].map({True:1, False:0})\n",
    "\n",
    "data.drop(['A12'], axis=1, inplace= True)\n",
    "data.drop(['A13'], axis=1, inplace= True)\n",
    "data.drop(['A14'], axis=1, inplace= True)"
   ]
  },
  {
   "cell_type": "code",
   "execution_count": null,
   "metadata": {},
   "outputs": [],
   "source": [
    "data=data[data['D_TRA1_CASE']==1]"
   ]
  },
  {
   "cell_type": "code",
   "execution_count": null,
   "metadata": {},
   "outputs": [],
   "source": [
    "spot = data['D_TRA1_1_SPOT1']"
   ]
  },
  {
   "cell_type": "code",
   "execution_count": null,
   "metadata": {},
   "outputs": [],
   "source": [
    "data.shape"
   ]
  },
  {
   "cell_type": "markdown",
   "metadata": {},
   "source": [
    "# 결측치 처리"
   ]
  },
  {
   "cell_type": "code",
   "execution_count": 8,
   "metadata": {},
   "outputs": [],
   "source": [
    "#A1 예 아니요 매핑\n",
    "data['A1']=data['A1'].map({1:1,2:0})"
   ]
  },
  {
   "cell_type": "code",
   "execution_count": 9,
   "metadata": {},
   "outputs": [],
   "source": [
    "# A3 1,0 으로 변환\n",
    "for i in range(21):\n",
    "    data['A3_{}'.format(i+1)] = data['A3_{}'.format(i+1)].fillna(0)\n",
    "    data['A3_{}'.format(i+1)] = data['A3_{}'.format(i+1)].map({i+1:1,0:0})"
   ]
  },
  {
   "cell_type": "code",
   "execution_count": 10,
   "metadata": {},
   "outputs": [],
   "source": [
    "# A6은 원핫인코딩된 컬럼 -> 결측치 모두 0으로 채움\n",
    "for i in range(1, 15) :\n",
    "    data[f'A6_{i}'] = data[f'A6_{i}'].fillna(value = 0)\n",
    "    data[f'A6_{i}'] = data[f'A6_{i}'].map({i:1,0:0})"
   ]
  },
  {
   "cell_type": "code",
   "execution_count": 11,
   "metadata": {},
   "outputs": [],
   "source": [
    "#A7 컬럼 채우기\n",
    "data['A7A']=data['A7A'].fillna(0)\n",
    "for i in range(7):\n",
    "    data['A7B_{}'.format(i+1)] = data['A7B_{}'.format(i+1)].fillna(0)\n",
    "    data['A7B_{}'.format(i+1)] = data['A7B_{}'.format(i+1)].map({i+1:1,0:0})"
   ]
  },
  {
   "cell_type": "markdown",
   "metadata": {},
   "source": [
    "# 결측치 확인"
   ]
  },
  {
   "cell_type": "code",
   "execution_count": 12,
   "metadata": {
    "collapsed": true
   },
   "outputs": [
    {
     "name": "stdout",
     "output_type": "stream",
     "text": [
      "<class 'pandas.core.frame.DataFrame'>\n",
      "Int64Index: 17867 entries, 1 to 48267\n",
      "Data columns (total 71 columns):\n",
      "Q                 17867 non-null int64\n",
      "D_TRA1_1_SPOT1    17867 non-null float64\n",
      "D_TRA1_SMONTH     17867 non-null float64\n",
      "D_TRA1_S_Day      17867 non-null float64\n",
      "D_TRA1_COST       17867 non-null float64\n",
      "D_TRA1_NUM        17867 non-null float64\n",
      "D_TRA1_CASE       17867 non-null float64\n",
      "A1                17867 non-null int64\n",
      "A2_1              17867 non-null float64\n",
      "A3_1              17867 non-null int64\n",
      "A3_2              17867 non-null int64\n",
      "A3_3              17867 non-null int64\n",
      "A3_4              17867 non-null int64\n",
      "A3_5              17867 non-null int64\n",
      "A3_6              17867 non-null int64\n",
      "A3_7              17867 non-null int64\n",
      "A3_8              17867 non-null int64\n",
      "A3_9              17867 non-null int64\n",
      "A3_10             17867 non-null int64\n",
      "A3_11             17867 non-null int64\n",
      "A3_12             17867 non-null int64\n",
      "A3_13             17867 non-null int64\n",
      "A3_14             17867 non-null int64\n",
      "A3_15             17867 non-null int64\n",
      "A3_16             17867 non-null int64\n",
      "A3_17             17867 non-null int64\n",
      "A3_18             17867 non-null int64\n",
      "A3_19             17867 non-null int64\n",
      "A3_20             17867 non-null int64\n",
      "A3_21             17867 non-null int64\n",
      "A4_1              17867 non-null float64\n",
      "A5_1              17867 non-null float64\n",
      "A6_1              17867 non-null int64\n",
      "A6_2              17867 non-null int64\n",
      "A6_3              17867 non-null int64\n",
      "A6_4              17867 non-null int64\n",
      "A6_5              17867 non-null int64\n",
      "A6_6              17867 non-null int64\n",
      "A6_7              17867 non-null int64\n",
      "A6_8              17867 non-null int64\n",
      "A6_9              17867 non-null int64\n",
      "A6_10             17867 non-null int64\n",
      "A6_11             17867 non-null int64\n",
      "A6_12             17867 non-null int64\n",
      "A6_13             17867 non-null int64\n",
      "A6_14             17867 non-null int64\n",
      "A7                17867 non-null float64\n",
      "A7A               17867 non-null float64\n",
      "A7B_1             17867 non-null int64\n",
      "A7B_2             17867 non-null int64\n",
      "A7B_3             17867 non-null int64\n",
      "A7B_4             17867 non-null int64\n",
      "A7B_5             17867 non-null int64\n",
      "A7B_6             17867 non-null int64\n",
      "A7B_7             17867 non-null int64\n",
      "A10A              17867 non-null float64\n",
      "A10B              17867 non-null float64\n",
      "A10C              17867 non-null float64\n",
      "A10D              17867 non-null float64\n",
      "A10E              17867 non-null float64\n",
      "A10F              17867 non-null float64\n",
      "A10G              17867 non-null float64\n",
      "A10H              17867 non-null float64\n",
      "A10I              17867 non-null float64\n",
      "A10               17867 non-null float64\n",
      "DQ6A              17867 non-null int64\n",
      "BSEX              17867 non-null int64\n",
      "BAGE              17867 non-null int64\n",
      "BJOB              17867 non-null int64\n",
      "BARA              17867 non-null int64\n",
      "total             17867 non-null int64\n",
      "dtypes: float64(21), int64(50)\n",
      "memory usage: 9.8 MB\n"
     ]
    }
   ],
   "source": [
    "data.info()"
   ]
  },
  {
   "cell_type": "markdown",
   "metadata": {},
   "source": [
    "# 이상치 처리"
   ]
  },
  {
   "cell_type": "code",
   "execution_count": 13,
   "metadata": {},
   "outputs": [
    {
     "data": {
      "text/plain": [
       "(14235, 71)"
      ]
     },
     "execution_count": 13,
     "metadata": {},
     "output_type": "execute_result"
    }
   ],
   "source": [
    "data=data[(data['D_TRA1_S_Day']>4)==False]\n",
    "data=data[(data['D_TRA1_COST']>2000000)==False]\n",
    "data=data[(data['A7']>10)==False]\n",
    "data=data[(data['A10A']>500000)==False]\n",
    "data=data[(data['A10B']>200000)==False]\n",
    "data=data[(data['A10C']>200000)==False]\n",
    "data=data[(data['A10D']>500000)==False]\n",
    "data=data[(data['A10E']>250000)==False]\n",
    "data=data[(data['A10F']>100000)==False]\n",
    "data=data[(data['A10G']>100000)==False]\n",
    "data=data[(data['A10H']>20000)==False]\n",
    "data=data[(data['A10I']>20000)==False]\n",
    "data=data[(data['DQ6A']>=10)==False]\n",
    "\n",
    "data.shape"
   ]
  },
  {
   "cell_type": "markdown",
   "metadata": {},
   "source": [
    "# 새로운 특성 추가"
   ]
  },
  {
   "cell_type": "code",
   "execution_count": 14,
   "metadata": {},
   "outputs": [],
   "source": [
    "data['Ncost'] = data['D_TRA1_COST']/data['D_TRA1_NUM']"
   ]
  },
  {
   "cell_type": "code",
   "execution_count": 15,
   "metadata": {},
   "outputs": [],
   "source": [
    "data['DNcost'] = data['Ncost']/(data['D_TRA1_S_Day']+1)"
   ]
  },
  {
   "cell_type": "code",
   "execution_count": 16,
   "metadata": {},
   "outputs": [],
   "source": [
    "data['A3sum'] = data['A3_1']\n",
    "for i in range(1,21):\n",
    "    data['A3sum'] = data['A3sum'] + data['A3_{}'.format(i+1)]"
   ]
  },
  {
   "cell_type": "code",
   "execution_count": 17,
   "metadata": {},
   "outputs": [],
   "source": [
    "# 명목형 변수 인코딩\n",
    "lst = ['D_TRA1_SMONTH','A2_1','A4_1','A5_1','BSEX','BAGE','BJOB','D_TRA1_CASE','BARA']\n",
    "for col in lst:\n",
    "    data[col] = data[col].apply(str)"
   ]
  },
  {
   "cell_type": "markdown",
   "metadata": {},
   "source": [
    "#  EDA"
   ]
  },
  {
   "cell_type": "markdown",
   "metadata": {},
   "source": [
    "## 변수분석"
   ]
  },
  {
   "cell_type": "code",
   "execution_count": 18,
   "metadata": {},
   "outputs": [
    {
     "data": {
      "text/plain": [
       "3    5334\n",
       "2    4986\n",
       "1    2092\n",
       "4    1387\n",
       "5     348\n",
       "6      67\n",
       "7      19\n",
       "8       2\n",
       "Name: A3sum, dtype: int64"
      ]
     },
     "execution_count": 18,
     "metadata": {},
     "output_type": "execute_result"
    }
   ],
   "source": [
    "data['A3sum'].value_counts()"
   ]
  },
  {
   "cell_type": "code",
   "execution_count": 19,
   "metadata": {},
   "outputs": [
    {
     "data": {
      "text/plain": [
       "(array([10271.,     0.,     0.,     0.,     0.,     0.,     0.,     0.,\n",
       "            0.,  3964.]),\n",
       " array([0. , 0.1, 0.2, 0.3, 0.4, 0.5, 0.6, 0.7, 0.8, 0.9, 1. ]),\n",
       " <a list of 10 Patch objects>)"
      ]
     },
     "execution_count": 19,
     "metadata": {},
     "output_type": "execute_result"
    },
    {
     "data": {
      "image/png": "[encoded data removed]",
      "text/plain": [
       "<Figure size 432x288 with 1 Axes>"
      ]
     },
     "metadata": {
      "needs_background": "light"
     },
     "output_type": "display_data"
    }
   ],
   "source": [
    "plt.hist(data['total'],color='red')"
   ]
  },
  {
   "cell_type": "code",
   "execution_count": 20,
   "metadata": {},
   "outputs": [
    {
     "data": {
      "image/png": "[encoded data removed]",
      "text/plain": [
       "<Figure size 1440x1080 with 1 Axes>"
      ]
     },
     "metadata": {
      "needs_background": "light"
     },
     "output_type": "display_data"
    }
   ],
   "source": [
    "a3df = data.groupby(['A3sum','total'])['total'].count().unstack('total')\n",
    "a3df.plot(kind='bar', figsize=(20,15))\n",
    "plt.title('A3sum')\n",
    "plt.show()"
   ]
  },
  {
   "cell_type": "markdown",
   "metadata": {},
   "source": [
    "## 변수 타입별 정리"
   ]
  },
  {
   "cell_type": "code",
   "execution_count": 21,
   "metadata": {},
   "outputs": [
    {
     "data": {
      "text/plain": [
       "Index(['Q', 'D_TRA1_1_SPOT1', 'D_TRA1_S_Day', 'D_TRA1_COST', 'D_TRA1_NUM',\n",
       "       'A1', 'A3_1', 'A3_2', 'A3_3', 'A3_4', 'A3_5', 'A3_6', 'A3_7', 'A3_8',\n",
       "       'A3_9', 'A3_10', 'A3_11', 'A3_12', 'A3_13', 'A3_14', 'A3_15', 'A3_16',\n",
       "       'A3_17', 'A3_18', 'A3_19', 'A3_20', 'A3_21', 'A6_1', 'A6_2', 'A6_3',\n",
       "       'A6_4', 'A6_5', 'A6_6', 'A6_7', 'A6_8', 'A6_9', 'A6_10', 'A6_11',\n",
       "       'A6_12', 'A6_13', 'A6_14', 'A7', 'A7A', 'A7B_1', 'A7B_2', 'A7B_3',\n",
       "       'A7B_4', 'A7B_5', 'A7B_6', 'A7B_7', 'A10A', 'A10B', 'A10C', 'A10D',\n",
       "       'A10E', 'A10F', 'A10G', 'A10H', 'A10I', 'A10', 'DQ6A', 'total', 'Ncost',\n",
       "       'DNcost', 'A3sum'],\n",
       "      dtype='object')"
      ]
     },
     "execution_count": 21,
     "metadata": {},
     "output_type": "execute_result"
    }
   ],
   "source": [
    "n_f = data.dtypes[data.dtypes != 'object'].index\n",
    "n_f"
   ]
  },
  {
   "cell_type": "code",
   "execution_count": 22,
   "metadata": {},
   "outputs": [],
   "source": [
    "n_f=['Q', 'D_TRA1_S_Day', 'D_TRA1_COST', 'A1', 'A3_1', 'A3_2', 'A3_3',\n",
    "       'A3_4', 'A3_5', 'A3_6', 'A3_7', 'A3_8', 'A3_9', 'A3_10', 'A3_11',\n",
    "       'A3_12', 'A3_13', 'A3_14', 'A3_15', 'A3_16', 'A3_17', 'A3_18', 'A3_19',\n",
    "       'A3_20', 'A3_21', 'A6_1', 'A6_2', 'A6_3', 'A6_4', 'A6_5', 'A6_6',\n",
    "       'A6_7', 'A6_8', 'A6_9', 'A6_10', 'A6_11', 'A6_12', 'A6_13', 'A6_14',\n",
    "       'A7', 'A7A', 'A7B_1', 'A7B_2', 'A7B_3', 'A7B_4', 'A7B_5', 'A7B_6',\n",
    "       'A7B_7', 'A10A', 'A10B', 'A10C', 'A10D', 'A10E', 'A10F', 'A10G', 'A10H',\n",
    "       'A10I', 'A10', 'DQ6A', 'total', 'Ncost', 'DNcost', 'A3sum']"
   ]
  },
  {
   "cell_type": "code",
   "execution_count": 23,
   "metadata": {},
   "outputs": [],
   "source": [
    "b_f = ['A1', 'A3_1', 'A3_2', 'A3_3',\n",
    "       'A3_4', 'A3_5', 'A3_6', 'A3_7', 'A3_8', 'A3_9', 'A3_10', 'A3_11',\n",
    "       'A3_12', 'A3_13', 'A3_14', 'A3_15', 'A3_16', 'A3_17', 'A3_18', 'A3_19',\n",
    "       'A3_20', 'A3_21', 'A6_1', 'A6_2', 'A6_3', 'A6_4', 'A6_5', 'A6_6',\n",
    "       'A6_7', 'A6_8', 'A6_9', 'A6_10', 'A6_11', 'A6_12', 'A6_13', 'A6_14',\n",
    "       'A7B_1', 'A7B_2', 'A7B_3', 'A7B_4', 'A7B_5', 'A7B_6','A7B_7']"
   ]
  },
  {
   "cell_type": "code",
   "execution_count": 24,
   "metadata": {
    "scrolled": false
   },
   "outputs": [
    {
     "data": {
      "text/plain": [
       "['Q',\n",
       " 'D_TRA1_S_Day',\n",
       " 'D_TRA1_COST',\n",
       " 'A7',\n",
       " 'A7A',\n",
       " 'A10A',\n",
       " 'A10B',\n",
       " 'A10C',\n",
       " 'A10D',\n",
       " 'A10E',\n",
       " 'A10F',\n",
       " 'A10G',\n",
       " 'A10H',\n",
       " 'A10I',\n",
       " 'A10',\n",
       " 'DQ6A',\n",
       " 'total',\n",
       " 'Ncost',\n",
       " 'DNcost',\n",
       " 'A3sum']"
      ]
     },
     "execution_count": 24,
     "metadata": {},
     "output_type": "execute_result"
    }
   ],
   "source": [
    "for i in b_f:\n",
    "    n_f.remove(i)\n",
    "n_f"
   ]
  },
  {
   "cell_type": "code",
   "execution_count": 74,
   "metadata": {},
   "outputs": [],
   "source": [
    "feature=[]"
   ]
  },
  {
   "cell_type": "markdown",
   "metadata": {},
   "source": [
    "## 이진 변수\n",
    "### - 점 양분 상관 계수\n",
    "> 한 변수는 있음/없음, 네/아니오 등으로 이분형(binary) 이고, 다른 한 변수는 연속형인 경우에도 상관계수를 구할 수 있습니다.\n",
    "\n",
    "- p-value가 0.05보다 클 경우 변수간의 상관관계가 존재하지 않음 \n",
    "\n",
    "https://mansoostat.tistory.com/115"
   ]
  },
  {
   "cell_type": "code",
   "execution_count": 75,
   "metadata": {},
   "outputs": [
    {
     "name": "stdout",
     "output_type": "stream",
     "text": [
      "A1 1.5623657188349586e-08\n",
      "A3_1 2.60733294981398e-06\n",
      "A3_2 0.004577964877778838\n",
      "A3_3 1.9683317986841564e-05\n",
      "A3_4 0.022407351012009094\n",
      "A3_6 0.007920701851792767\n",
      "A3_7 0.0325572894946699\n",
      "A3_8 0.021312655312122238\n",
      "A3_9 0.0005313970239934475\n",
      "A3_11 4.4400182992425346e-32\n",
      "A3_15 7.666117172448289e-37\n",
      "A3_17 0.0002980909221368775\n",
      "A3_18 0.023430444055365866\n",
      "A3_19 0.019752427774387765\n",
      "A3_21 5.3191026630041765e-05\n",
      "A6_4 4.2093613537762816e-10\n",
      "A6_5 0.023436781271830527\n",
      "A6_8 0.04718280885540299\n",
      "A6_12 0.02928935684612604\n"
     ]
    }
   ],
   "source": [
    "from scipy.stats import pointbiserialr\n",
    "for i in b_f:\n",
    "    corr, pval = pointbiserialr(data[i],data['total'])\n",
    "    if pval <0.05:\n",
    "        print(i,pval)\n",
    "        feature.append(i)"
   ]
  },
  {
   "cell_type": "markdown",
   "metadata": {},
   "source": [
    "## 연속형 변수\n",
    "### - 피어슨 상관 계수\n",
    "- 연속형 변수 2개의 상관 관계를 확인하기 위한 가장 기본적인 방법이다.\n",
    "\n",
    ">정확히 말해서 두개의 수치값들의 집합이 있을 때 이 두개의 수치값들은 각각의 순서쌍에 대해서 연결관계가 있다고 할 때 두 수치값이 서로 관련이 있는지를 확인하는 방법이다.\n",
    "\n",
    ">흔한 예로 있는 것이 고등학생 한 학급에 50명이 있다고 할 때 이 학생들의 수학과목의 성적과 물리과목의 성정이 관련이 있는지 확인하는 것이 있다. 즉 수학과목과 물리과목은 서로 수리적 또는 과학적 능력과 관련이 있어 두 과목은 서로 관련이 있을 것이라는 가설을 어느 정도 두고 있으며 실제로 그런지 확인한다.\n",
    "\n",
    "- p-value가 0.05보다 클 경우 변수간의 상관관계가 존재하지 않음 \n",
    "\n",
    "https://intothedata.com/02.scholar_category/statistics/correlation/\n",
    "\n",
    "https://bskyvision.com/754"
   ]
  },
  {
   "cell_type": "code",
   "execution_count": 76,
   "metadata": {},
   "outputs": [
    {
     "name": "stdout",
     "output_type": "stream",
     "text": [
      "D_TRA1_S_Day 3.465454546543906e-09\n",
      "D_TRA1_COST 0.00238207834015191\n",
      "A10A 0.03173995964345232\n",
      "A10C 5.100213850250759e-06\n",
      "A10D 0.001836674875057535\n",
      "A10E 5.602769375645371e-10\n",
      "A10F 5.109290981813026e-15\n",
      "A10G 4.38550745158667e-07\n",
      "A10I 0.019504187069290142\n",
      "A10 6.518025672643895e-13\n",
      "DQ6A 0.04961194219083111\n",
      "total 0.0\n",
      "Ncost 6.503539974020018e-08\n",
      "DNcost 0.010040068552205399\n",
      "A3sum 2.615075677356276e-32\n"
     ]
    }
   ],
   "source": [
    "from scipy import stats\n",
    "for i in n_f:\n",
    "    corr, pval = stats.pearsonr(data[i],data['total'])\n",
    "    if pval <0.05:\n",
    "        print(i,pval)\n",
    "        feature.append(i)"
   ]
  },
  {
   "cell_type": "code",
   "execution_count": 77,
   "metadata": {},
   "outputs": [
    {
     "data": {
      "text/plain": [
       "['D_TRA1_SMONTH',\n",
       " 'A2_1',\n",
       " 'A4_1',\n",
       " 'A5_1',\n",
       " 'BSEX',\n",
       " 'BAGE',\n",
       " 'BJOB',\n",
       " 'D_TRA1_CASE',\n",
       " 'BARA']"
      ]
     },
     "execution_count": 77,
     "metadata": {},
     "output_type": "execute_result"
    }
   ],
   "source": [
    "lst"
   ]
  },
  {
   "cell_type": "code",
   "execution_count": 78,
   "metadata": {},
   "outputs": [],
   "source": [
    "obdata=pd.DataFrame()\n",
    "for i in lst:\n",
    "    obdata[i]=data[i]\n",
    "\n",
    "obdata = pd.get_dummies(obdata)"
   ]
  },
  {
   "cell_type": "code",
   "execution_count": 79,
   "metadata": {},
   "outputs": [
    {
     "name": "stdout",
     "output_type": "stream",
     "text": [
      "D_TRA1_SMONTH_8.0 0.004517665679775661\n",
      "D_TRA1_SMONTH_9.0 0.005823975828871947\n",
      "A2_1_1.0 1.45597512699519e-05\n",
      "A2_1_10.0 0.0019323709852428986\n",
      "A2_1_11.0 0.019923279994883147\n",
      "A2_1_14.0 0.0007248881711691983\n",
      "A2_1_3.0 0.0037043318392662064\n",
      "A2_1_4.0 1.6360457190287598e-06\n",
      "A2_1_5.0 0.01842961317678508\n",
      "A2_1_8.0 0.012952209226195058\n",
      "A2_1_9.0 0.0148683431960378\n",
      "A4_1_5.0 0.01634829254610254\n",
      "A4_1_6.0 0.008104238147212091\n",
      "A4_1_7.0 7.599400844415446e-06\n",
      "A4_1_8.0 0.010768014772899367\n",
      "A4_1_9.0 0.028726514436452303\n",
      "A5_1_1.0 0.02222107161218529\n",
      "A5_1_3.0 0.037894452757713096\n",
      "A5_1_4.0 0.01380742873609605\n",
      "A5_1_7.0 0.04994739087036598\n",
      "BAGE_1 0.03881554735954183\n",
      "BARA_11 2.624073073999305e-18\n",
      "BARA_21 7.373046787467986e-13\n",
      "BARA_22 2.7131419781677143e-16\n",
      "BARA_23 0.0007379638452203286\n",
      "BARA_24 7.887995848446961e-47\n",
      "BARA_26 5.428724401153503e-14\n",
      "BARA_29 0.0205208532499616\n",
      "BARA_31 0.005305117018740579\n",
      "BARA_32 1.1857329194599046e-14\n",
      "BARA_33 3.4123236587052336e-05\n",
      "BARA_35 1.6167943206566793e-49\n",
      "BARA_36 1.372889486718396e-23\n",
      "BARA_37 0.012774947357081195\n",
      "BARA_38 0.00013567502818075922\n",
      "BARA_39 0.036880802817650944\n"
     ]
    },
    {
     "name": "stderr",
     "output_type": "stream",
     "text": [
      "C:\\Users\\rhkdg\\Anaconda3\\lib\\site-packages\\scipy\\stats\\stats.py:3508: PearsonRConstantInputWarning: An input array is constant; the correlation coefficent is not defined.\n",
      "  warnings.warn(PearsonRConstantInputWarning())\n"
     ]
    }
   ],
   "source": [
    "obfeature=[]\n",
    "from scipy.stats import pointbiserialr\n",
    "for i in obdata.dtypes.index:\n",
    "    corr, pval = pointbiserialr(obdata[i],data['total'])\n",
    "    if pval <0.05:\n",
    "        print(i,pval)\n",
    "        obfeature.append(i)"
   ]
  },
  {
   "cell_type": "code",
   "execution_count": 80,
   "metadata": {},
   "outputs": [
    {
     "data": {
      "text/plain": [
       "['A1',\n",
       " 'A3_1',\n",
       " 'A3_2',\n",
       " 'A3_3',\n",
       " 'A3_4',\n",
       " 'A3_6',\n",
       " 'A3_7',\n",
       " 'A3_8',\n",
       " 'A3_9',\n",
       " 'A3_11',\n",
       " 'A3_15',\n",
       " 'A3_17',\n",
       " 'A3_18',\n",
       " 'A3_19',\n",
       " 'A3_21',\n",
       " 'A6_4',\n",
       " 'A6_5',\n",
       " 'A6_8',\n",
       " 'A6_12',\n",
       " 'D_TRA1_S_Day',\n",
       " 'D_TRA1_COST',\n",
       " 'A10A',\n",
       " 'A10C',\n",
       " 'A10D',\n",
       " 'A10E',\n",
       " 'A10F',\n",
       " 'A10G',\n",
       " 'A10I',\n",
       " 'A10',\n",
       " 'DQ6A',\n",
       " 'Ncost',\n",
       " 'DNcost',\n",
       " 'A3sum']"
      ]
     },
     "execution_count": 80,
     "metadata": {},
     "output_type": "execute_result"
    }
   ],
   "source": [
    "feature.remove('total')\n",
    "feature"
   ]
  },
  {
   "cell_type": "code",
   "execution_count": 81,
   "metadata": {},
   "outputs": [
    {
     "data": {
      "text/plain": [
       "['D_TRA1_SMONTH_8.0',\n",
       " 'D_TRA1_SMONTH_9.0',\n",
       " 'A2_1_1.0',\n",
       " 'A2_1_10.0',\n",
       " 'A2_1_11.0',\n",
       " 'A2_1_14.0',\n",
       " 'A2_1_3.0',\n",
       " 'A2_1_4.0',\n",
       " 'A2_1_5.0',\n",
       " 'A2_1_8.0',\n",
       " 'A2_1_9.0',\n",
       " 'A4_1_5.0',\n",
       " 'A4_1_6.0',\n",
       " 'A4_1_7.0',\n",
       " 'A4_1_8.0',\n",
       " 'A4_1_9.0',\n",
       " 'A5_1_1.0',\n",
       " 'A5_1_3.0',\n",
       " 'A5_1_4.0',\n",
       " 'A5_1_7.0',\n",
       " 'BAGE_1',\n",
       " 'BARA_11',\n",
       " 'BARA_21',\n",
       " 'BARA_22',\n",
       " 'BARA_23',\n",
       " 'BARA_24',\n",
       " 'BARA_26',\n",
       " 'BARA_29',\n",
       " 'BARA_31',\n",
       " 'BARA_32',\n",
       " 'BARA_33',\n",
       " 'BARA_35',\n",
       " 'BARA_36',\n",
       " 'BARA_37',\n",
       " 'BARA_38',\n",
       " 'BARA_39']"
      ]
     },
     "execution_count": 81,
     "metadata": {},
     "output_type": "execute_result"
    }
   ],
   "source": [
    "obfeature"
   ]
  },
  {
   "cell_type": "markdown",
   "metadata": {},
   "source": [
    "## 변수 추가 제거"
   ]
  },
  {
   "cell_type": "code",
   "execution_count": 82,
   "metadata": {},
   "outputs": [],
   "source": [
    "X=pd.DataFrame()\n",
    "for i in feature:\n",
    "    X[i] = data[i]\n",
    "    \n",
    "for i in obfeature:\n",
    "    X[i] = obdata[i]\n",
    "\n",
    "y = data['total']"
   ]
  },
  {
   "cell_type": "markdown",
   "metadata": {},
   "source": [
    "# 모델 선정"
   ]
  },
  {
   "cell_type": "markdown",
   "metadata": {},
   "source": [
    "### 단순 cross_val_score 하면 안댐\n",
    "https://homeproject.tistory.com/6"
   ]
  },
  {
   "cell_type": "code",
   "execution_count": 84,
   "metadata": {},
   "outputs": [
    {
     "data": {
      "image/png": "[encoded data removed]",
      "text/plain": [
       "<Figure size 1080x1080 with 1 Axes>"
      ]
     },
     "metadata": {
      "needs_background": "light"
     },
     "output_type": "display_data"
    }
   ],
   "source": [
    "plt.figure(figsize=(15,15))\n",
    "plt.scatter(x=data.index,y=data['total'],alpha=0.01)\n",
    "plt.show()"
   ]
  },
  {
   "cell_type": "code",
   "execution_count": 85,
   "metadata": {},
   "outputs": [],
   "source": [
    "from sklearn.model_selection import cross_val_score # 교차검증\n",
    "from sklearn.model_selection import StratifiedKFold"
   ]
  },
  {
   "cell_type": "code",
   "execution_count": 86,
   "metadata": {},
   "outputs": [],
   "source": [
    "skf = StratifiedKFold(n_splits= 5 , shuffle= True, random_state=0)"
   ]
  },
  {
   "cell_type": "code",
   "execution_count": 87,
   "metadata": {
    "scrolled": false
   },
   "outputs": [
    {
     "data": {
      "image/png": "[encoded data removed]",
      "text/plain": [
       "<Figure size 864x360 with 2 Axes>"
      ]
     },
     "metadata": {
      "needs_background": "light"
     },
     "output_type": "display_data"
    }
   ],
   "source": [
    "import mglearn\n",
    "mglearn.plots.plot_stratified_cross_validation()"
   ]
  },
  {
   "cell_type": "code",
   "execution_count": 88,
   "metadata": {
    "scrolled": false
   },
   "outputs": [
    {
     "name": "stderr",
     "output_type": "stream",
     "text": [
      "C:\\Users\\rhkdg\\Anaconda3\\lib\\site-packages\\sklearn\\linear_model\\logistic.py:432: FutureWarning: Default solver will be changed to 'lbfgs' in 0.22. Specify a solver to silence this warning.\n",
      "  FutureWarning)\n",
      "C:\\Users\\rhkdg\\Anaconda3\\lib\\site-packages\\numpy\\core\\fromnumeric.py:2389: FutureWarning: Method .ptp is deprecated and will be removed in a future version. Use numpy.ptp instead.\n",
      "  return ptp(axis=axis, out=out, **kwargs)\n"
     ]
    },
    {
     "name": "stdout",
     "output_type": "stream",
     "text": [
      "                            OLS Regression Results                            \n",
      "==============================================================================\n",
      "Dep. Variable:                  total   R-squared:                       0.101\n",
      "Model:                            OLS   Adj. R-squared:                  0.097\n",
      "Method:                 Least Squares   F-statistic:                     23.07\n",
      "Date:                Tue, 25 Aug 2020   Prob (F-statistic):          2.42e-270\n",
      "Time:                        14:40:01   Log-Likelihood:                -8018.2\n",
      "No. Observations:               14235   AIC:                         1.618e+04\n",
      "Df Residuals:                   14165   BIC:                         1.671e+04\n",
      "Df Model:                          69                                         \n",
      "Covariance Type:            nonrobust                                         \n",
      "=====================================================================================\n",
      "                        coef    std err          t      P>|t|      [0.025      0.975]\n",
      "-------------------------------------------------------------------------------------\n",
      "const                 0.1581      0.023      6.840      0.000       0.113       0.203\n",
      "A1                    0.2272      0.038      5.947      0.000       0.152       0.302\n",
      "A3_1                  0.0358      0.013      2.862      0.004       0.011       0.060\n",
      "A3_2                 -0.0099      0.012     -0.825      0.409      -0.034       0.014\n",
      "A3_3                  0.0374      0.020      1.824      0.068      -0.003       0.078\n",
      "A3_4                 -0.0285      0.015     -1.873      0.061      -0.058       0.001\n",
      "A3_6                 -0.0292      0.012     -2.518      0.012      -0.052      -0.006\n",
      "A3_7                  0.0132      0.023      0.570      0.568      -0.032       0.058\n",
      "A3_8                  0.0182      0.018      0.997      0.319      -0.018       0.054\n",
      "A3_9                  0.0298      0.020      1.485      0.138      -0.010       0.069\n",
      "A3_11                 0.0958      0.018      5.199      0.000       0.060       0.132\n",
      "A3_15                 0.1072      0.020      5.412      0.000       0.068       0.146\n",
      "A3_17                 0.0121      0.023      0.528      0.597      -0.033       0.057\n",
      "A3_18                -0.0128      0.018     -0.702      0.483      -0.049       0.023\n",
      "A3_19                -0.1201      0.058     -2.076      0.038      -0.234      -0.007\n",
      "A3_21                 0.1362      0.029      4.740      0.000       0.080       0.192\n",
      "A6_4                  0.0617      0.018      3.393      0.001       0.026       0.097\n",
      "A6_5                  0.0749      0.045      1.654      0.098      -0.014       0.164\n",
      "A6_8                  0.0660      0.042      1.554      0.120      -0.017       0.149\n",
      "A6_12                -0.0138      0.023     -0.604      0.546      -0.058       0.031\n",
      "D_TRA1_S_Day          0.0305      0.012      2.571      0.010       0.007       0.054\n",
      "D_TRA1_COST       -1.153e-07   2.98e-08     -3.867      0.000   -1.74e-07   -5.69e-08\n",
      "A10A               -7.17e-07      3e-07     -2.391      0.017    -1.3e-06   -1.29e-07\n",
      "A10C               3.437e-08   2.55e-07      0.135      0.893   -4.65e-07    5.34e-07\n",
      "A10D               1.029e-07   2.38e-07      0.432      0.666   -3.64e-07     5.7e-07\n",
      "A10E               4.011e-07   2.57e-07      1.563      0.118   -1.02e-07    9.04e-07\n",
      "A10F               1.077e-06   3.12e-07      3.454      0.001    4.66e-07    1.69e-06\n",
      "A10G               4.108e-07   2.77e-07      1.486      0.137   -1.31e-07    9.53e-07\n",
      "A10I              -3.079e-06   3.96e-06     -0.777      0.437   -1.08e-05    4.68e-06\n",
      "A10               -4.042e-08   2.34e-07     -0.173      0.863   -4.99e-07    4.18e-07\n",
      "DQ6A                 -0.0042      0.002     -1.806      0.071      -0.009       0.000\n",
      "Ncost             -2.242e-08   1.23e-07     -0.182      0.856   -2.64e-07     2.2e-07\n",
      "DNcost             2.031e-07   2.01e-07      1.010      0.312   -1.91e-07    5.97e-07\n",
      "A3sum                 0.0221      0.010      2.249      0.025       0.003       0.041\n",
      "D_TRA1_SMONTH_8.0    -0.0466      0.013     -3.672      0.000      -0.072      -0.022\n",
      "D_TRA1_SMONTH_9.0    -0.0305      0.016     -1.902      0.057      -0.062       0.001\n",
      "A2_1_1.0              0.0409      0.011      3.757      0.000       0.020       0.062\n",
      "A2_1_10.0             0.0948      0.038      2.524      0.012       0.021       0.168\n",
      "A2_1_11.0            -0.0358      0.017     -2.126      0.034      -0.069      -0.003\n",
      "A2_1_14.0             0.0573      0.014      4.182      0.000       0.030       0.084\n",
      "A2_1_3.0             -0.0352      0.017     -2.114      0.035      -0.068      -0.003\n",
      "A2_1_4.0             -0.0172      0.013     -1.328      0.184      -0.043       0.008\n",
      "A2_1_5.0              0.0216      0.013      1.617      0.106      -0.005       0.048\n",
      "A2_1_8.0             -0.0255      0.014     -1.792      0.073      -0.053       0.002\n",
      "A2_1_9.0             -0.0290      0.020     -1.424      0.154      -0.069       0.011\n",
      "A4_1_5.0              0.0088      0.010      0.837      0.402      -0.012       0.029\n",
      "A4_1_6.0              0.0907      0.038      2.365      0.018       0.016       0.166\n",
      "A4_1_7.0              0.0647      0.011      5.761      0.000       0.043       0.087\n",
      "A4_1_8.0             -0.0143      0.014     -1.059      0.289      -0.041       0.012\n",
      "A4_1_9.0              0.4638      0.152      3.061      0.002       0.167       0.761\n",
      "A5_1_1.0             -0.0125      0.012     -1.052      0.293      -0.036       0.011\n",
      "A5_1_3.0              0.0344      0.040      0.868      0.385      -0.043       0.112\n",
      "A5_1_4.0              0.0821      0.063      1.304      0.192      -0.041       0.206\n",
      "A5_1_7.0              0.0296      0.031      0.951      0.342      -0.031       0.091\n",
      "BAGE_1                0.0230      0.018      1.305      0.192      -0.012       0.058\n",
      "BARA_11              -0.0917      0.015     -5.962      0.000      -0.122      -0.062\n",
      "BARA_21              -0.0871      0.018     -4.764      0.000      -0.123      -0.051\n",
      "BARA_22              -0.1139      0.019     -6.053      0.000      -0.151      -0.077\n",
      "BARA_23               0.0378      0.019      2.019      0.043       0.001       0.075\n",
      "BARA_24               0.2209      0.019     11.808      0.000       0.184       0.258\n",
      "BARA_26              -0.1151      0.020     -5.668      0.000      -0.155      -0.075\n",
      "BARA_29              -0.0611      0.027     -2.247      0.025      -0.114      -0.008\n",
      "BARA_31               0.0118      0.015      0.768      0.442      -0.018       0.042\n",
      "BARA_32              -0.1599      0.022     -7.134      0.000      -0.204      -0.116\n",
      "BARA_33              -0.0727      0.019     -3.749      0.000      -0.111      -0.035\n",
      "BARA_35               0.2089      0.018     11.594      0.000       0.174       0.244\n",
      "BARA_36               0.1507      0.018      8.232      0.000       0.115       0.187\n",
      "BARA_37               0.0500      0.019      2.677      0.007       0.013       0.087\n",
      "BARA_38              -0.0307      0.018     -1.743      0.081      -0.065       0.004\n",
      "BARA_39              -0.1152      0.037     -3.130      0.002      -0.187      -0.043\n",
      "==============================================================================\n",
      "Omnibus:                     2226.076   Durbin-Watson:                   1.421\n",
      "Prob(Omnibus):                  0.000   Jarque-Bera (JB):             2171.274\n",
      "Skew:                           0.886   Prob(JB):                         0.00\n",
      "Kurtosis:                       2.280   Cond. No.                     1.85e+07\n",
      "==============================================================================\n",
      "\n",
      "Warnings:\n",
      "[1] Standard Errors assume that the covariance matrix of the errors is correctly specified.\n",
      "[2] The condition number is large, 1.85e+07. This might indicate that there are\n",
      "strong multicollinearity or other numerical problems.\n"
     ]
    },
    {
     "name": "stderr",
     "output_type": "stream",
     "text": [
      "C:\\Users\\rhkdg\\Anaconda3\\lib\\site-packages\\sklearn\\linear_model\\logistic.py:432: FutureWarning: Default solver will be changed to 'lbfgs' in 0.22. Specify a solver to silence this warning.\n",
      "  FutureWarning)\n",
      "C:\\Users\\rhkdg\\Anaconda3\\lib\\site-packages\\sklearn\\linear_model\\logistic.py:432: FutureWarning: Default solver will be changed to 'lbfgs' in 0.22. Specify a solver to silence this warning.\n",
      "  FutureWarning)\n",
      "C:\\Users\\rhkdg\\Anaconda3\\lib\\site-packages\\sklearn\\linear_model\\logistic.py:432: FutureWarning: Default solver will be changed to 'lbfgs' in 0.22. Specify a solver to silence this warning.\n",
      "  FutureWarning)\n",
      "C:\\Users\\rhkdg\\Anaconda3\\lib\\site-packages\\sklearn\\linear_model\\logistic.py:432: FutureWarning: Default solver will be changed to 'lbfgs' in 0.22. Specify a solver to silence this warning.\n",
      "  FutureWarning)\n",
      "C:\\Users\\rhkdg\\Anaconda3\\lib\\site-packages\\sklearn\\linear_model\\logistic.py:432: FutureWarning: Default solver will be changed to 'lbfgs' in 0.22. Specify a solver to silence this warning.\n",
      "  FutureWarning)\n"
     ]
    },
    {
     "name": "stdout",
     "output_type": "stream",
     "text": [
      "score : 0.7200560622926733\n"
     ]
    }
   ],
   "source": [
    "from sklearn.linear_model import LogisticRegression\n",
    "from sklearn import metrics\n",
    "import statsmodels.api as sm\n",
    "'''\n",
    "Statsmodels 패키지는 검정 및 추정(test and estimation), 회귀분석(regression analysis), \n",
    "시계열 분석(time - series analysis) 등의 기능을 제공하는 파이썬 패키지이다.\n",
    "'''\n",
    "\n",
    "log_reg = LogisticRegression()\n",
    "\n",
    "log_reg.fit(X, y)\n",
    "x2 = sm.add_constant(X)\n",
    "model = sm.OLS(y, x2)\n",
    "result = model.fit()\n",
    "print(result.summary())\n",
    "\n",
    "print(f'score : {cross_val_score(log_reg, X, y, cv=skf).mean()}')"
   ]
  },
  {
   "cell_type": "markdown",
   "metadata": {},
   "source": [
    "https://myjamong.tistory.com/80"
   ]
  },
  {
   "cell_type": "code",
   "execution_count": 89,
   "metadata": {},
   "outputs": [],
   "source": [
    "f_ = ['A3_2','A3_3', 'A3_7', 'A3_8', 'A3_9', 'A3_17', 'A3_18', 'A6_5', 'A6_8', 'A6_12', 'D_TRA1_COST','A10C', 'A10D', 'A10E', 'A10G','A10I' ,'A10', 'DQ6A', 'Ncost', 'DNcost']"
   ]
  },
  {
   "cell_type": "code",
   "execution_count": 90,
   "metadata": {},
   "outputs": [],
   "source": [
    "ob_ = ['D_TRA1_SMONTH_9.0', 'A2_1_4.0', 'A2_1_5.0', 'A2_1_9.0', 'A2_1_11.0', 'A4_1_5.0', 'A4_1_8.0', 'A5_1_1.0', 'A5_1_3.0', 'A5_1_4.0', 'A5_1_7.0', 'BAGE_1', 'BARA_31', 'BARA_38']"
   ]
  },
  {
   "cell_type": "code",
   "execution_count": 91,
   "metadata": {},
   "outputs": [
    {
     "data": {
      "text/plain": [
       "['A1',\n",
       " 'A3_1',\n",
       " 'A3_4',\n",
       " 'A3_6',\n",
       " 'A3_11',\n",
       " 'A3_15',\n",
       " 'A3_19',\n",
       " 'A3_21',\n",
       " 'A6_4',\n",
       " 'D_TRA1_S_Day',\n",
       " 'A10A',\n",
       " 'A10F',\n",
       " 'A3sum']"
      ]
     },
     "execution_count": 91,
     "metadata": {},
     "output_type": "execute_result"
    }
   ],
   "source": [
    "for i in f_:\n",
    "    feature.remove(i)\n",
    "feature"
   ]
  },
  {
   "cell_type": "code",
   "execution_count": 92,
   "metadata": {},
   "outputs": [
    {
     "data": {
      "text/plain": [
       "['D_TRA1_SMONTH_8.0',\n",
       " 'A2_1_1.0',\n",
       " 'A2_1_10.0',\n",
       " 'A2_1_14.0',\n",
       " 'A2_1_3.0',\n",
       " 'A2_1_8.0',\n",
       " 'A4_1_6.0',\n",
       " 'A4_1_7.0',\n",
       " 'A4_1_9.0',\n",
       " 'BARA_11',\n",
       " 'BARA_21',\n",
       " 'BARA_22',\n",
       " 'BARA_23',\n",
       " 'BARA_24',\n",
       " 'BARA_26',\n",
       " 'BARA_29',\n",
       " 'BARA_32',\n",
       " 'BARA_33',\n",
       " 'BARA_35',\n",
       " 'BARA_36',\n",
       " 'BARA_37',\n",
       " 'BARA_39']"
      ]
     },
     "execution_count": 92,
     "metadata": {},
     "output_type": "execute_result"
    }
   ],
   "source": [
    "for i in ob_:\n",
    "    obfeature.remove(i)\n",
    "obfeature"
   ]
  },
  {
   "cell_type": "code",
   "execution_count": 93,
   "metadata": {},
   "outputs": [],
   "source": [
    "X=pd.DataFrame()\n",
    "for i in feature:\n",
    "    X[i] = data[i]\n",
    "    \n",
    "for i in obfeature:\n",
    "    X[i] = obdata[i]\n",
    "\n",
    "y = data['total']"
   ]
  },
  {
   "cell_type": "code",
   "execution_count": 72,
   "metadata": {},
   "outputs": [],
   "source": [
    "from sklearn.model_selection import train_test_split\n",
    "\n",
    "X_train, X_test, y_train, y_test = train_test_split(X, y,\n",
    "                                                    random_state=1)"
   ]
  },
  {
   "cell_type": "code",
   "execution_count": 73,
   "metadata": {},
   "outputs": [
    {
     "name": "stderr",
     "output_type": "stream",
     "text": [
      "C:\\Users\\rhkdg\\Anaconda3\\lib\\site-packages\\sklearn\\linear_model\\logistic.py:432: FutureWarning: Default solver will be changed to 'lbfgs' in 0.22. Specify a solver to silence this warning.\n",
      "  FutureWarning)\n",
      "C:\\Users\\rhkdg\\Anaconda3\\lib\\site-packages\\numpy\\core\\fromnumeric.py:2389: FutureWarning: Method .ptp is deprecated and will be removed in a future version. Use numpy.ptp instead.\n",
      "  return ptp(axis=axis, out=out, **kwargs)\n"
     ]
    },
    {
     "name": "stdout",
     "output_type": "stream",
     "text": [
      "                            OLS Regression Results                            \n",
      "==============================================================================\n",
      "Dep. Variable:                  total   R-squared:                       0.096\n",
      "Model:                            OLS   Adj. R-squared:                  0.093\n",
      "Method:                 Least Squares   F-statistic:                     38.56\n",
      "Date:                Tue, 25 Aug 2020   Prob (F-statistic):          3.75e-275\n",
      "Time:                        14:37:09   Log-Likelihood:                -8059.5\n",
      "No. Observations:               14235   AIC:                         1.620e+04\n",
      "Df Residuals:                   14195   BIC:                         1.650e+04\n",
      "Df Model:                          39                                         \n",
      "Covariance Type:            nonrobust                                         \n",
      "=====================================================================================\n",
      "                        coef    std err          t      P>|t|      [0.025      0.975]\n",
      "-------------------------------------------------------------------------------------\n",
      "const                 0.1454      0.013     11.118      0.000       0.120       0.171\n",
      "A1                    0.2472      0.036      6.779      0.000       0.176       0.319\n",
      "A3_1                  0.0336      0.009      3.578      0.000       0.015       0.052\n",
      "A3_3                  0.0335      0.019      1.757      0.079      -0.004       0.071\n",
      "A3_4                 -0.0290      0.013     -2.278      0.023      -0.054      -0.004\n",
      "A3_6                 -0.0307      0.008     -3.688      0.000      -0.047      -0.014\n",
      "A3_11                 0.0973      0.016      5.903      0.000       0.065       0.130\n",
      "A3_15                 0.1156      0.018      6.436      0.000       0.080       0.151\n",
      "A3_19                -0.1251      0.057     -2.188      0.029      -0.237      -0.013\n",
      "A3_21                 0.1371      0.028      4.973      0.000       0.083       0.191\n",
      "A6_4                  0.0604      0.018      3.402      0.001       0.026       0.095\n",
      "D_TRA1_S_Day          0.0331      0.006      5.267      0.000       0.021       0.045\n",
      "D_TRA1_COST       -4.194e-08   2.24e-08     -1.875      0.061   -8.58e-08     1.9e-09\n",
      "A10A              -7.918e-07   1.89e-07     -4.200      0.000   -1.16e-06   -4.22e-07\n",
      "A10F               1.183e-06   2.05e-07      5.777      0.000    7.81e-07    1.58e-06\n",
      "A10I              -2.697e-06   3.95e-06     -0.683      0.495   -1.04e-05    5.05e-06\n",
      "A3sum                 0.0262      0.005      5.264      0.000       0.016       0.036\n",
      "D_TRA1_SMONTH_8.0    -0.0440      0.013     -3.483      0.000      -0.069      -0.019\n",
      "A2_1_1.0              0.0451      0.010      4.552      0.000       0.026       0.065\n",
      "A2_1_10.0             0.0934      0.037      2.510      0.012       0.020       0.166\n",
      "A2_1_11.0            -0.0293      0.016     -1.810      0.070      -0.061       0.002\n",
      "A2_1_14.0             0.0572      0.013      4.432      0.000       0.032       0.083\n",
      "A2_1_3.0             -0.0345      0.016     -2.163      0.031      -0.066      -0.003\n",
      "A2_1_8.0             -0.0283      0.013     -2.128      0.033      -0.054      -0.002\n",
      "A4_1_6.0              0.0919      0.038      2.441      0.015       0.018       0.166\n",
      "A4_1_7.0              0.0630      0.008      7.795      0.000       0.047       0.079\n",
      "A4_1_9.0              0.4497      0.151      2.972      0.003       0.153       0.746\n",
      "BARA_11              -0.0960      0.012     -7.730      0.000      -0.120      -0.072\n",
      "BARA_21              -0.0882      0.016     -5.487      0.000      -0.120      -0.057\n",
      "BARA_22              -0.1084      0.017     -6.463      0.000      -0.141      -0.076\n",
      "BARA_23               0.0410      0.016      2.504      0.012       0.009       0.073\n",
      "BARA_24               0.2123      0.016     12.971      0.000       0.180       0.244\n",
      "BARA_26              -0.1152      0.018     -6.293      0.000      -0.151      -0.079\n",
      "BARA_29              -0.0564      0.026     -2.183      0.029      -0.107      -0.006\n",
      "BARA_32              -0.1638      0.020     -8.014      0.000      -0.204      -0.124\n",
      "BARA_33              -0.0692      0.017     -3.977      0.000      -0.103      -0.035\n",
      "BARA_35               0.2037      0.016     13.117      0.000       0.173       0.234\n",
      "BARA_36               0.1450      0.016      9.163      0.000       0.114       0.176\n",
      "BARA_37               0.0508      0.016      3.082      0.002       0.018       0.083\n",
      "BARA_39              -0.1052      0.034     -3.081      0.002      -0.172      -0.038\n",
      "==============================================================================\n",
      "Omnibus:                     2295.298   Durbin-Watson:                   1.417\n",
      "Prob(Omnibus):                  0.000   Jarque-Bera (JB):             2213.088\n",
      "Skew:                           0.894   Prob(JB):                         0.00\n",
      "Kurtosis:                       2.268   Cond. No.                     1.33e+07\n",
      "==============================================================================\n",
      "\n",
      "Warnings:\n",
      "[1] Standard Errors assume that the covariance matrix of the errors is correctly specified.\n",
      "[2] The condition number is large, 1.33e+07. This might indicate that there are\n",
      "strong multicollinearity or other numerical problems.\n"
     ]
    },
    {
     "name": "stderr",
     "output_type": "stream",
     "text": [
      "C:\\Users\\rhkdg\\Anaconda3\\lib\\site-packages\\sklearn\\linear_model\\logistic.py:432: FutureWarning: Default solver will be changed to 'lbfgs' in 0.22. Specify a solver to silence this warning.\n",
      "  FutureWarning)\n",
      "C:\\Users\\rhkdg\\Anaconda3\\lib\\site-packages\\sklearn\\linear_model\\logistic.py:432: FutureWarning: Default solver will be changed to 'lbfgs' in 0.22. Specify a solver to silence this warning.\n",
      "  FutureWarning)\n",
      "C:\\Users\\rhkdg\\Anaconda3\\lib\\site-packages\\sklearn\\linear_model\\logistic.py:432: FutureWarning: Default solver will be changed to 'lbfgs' in 0.22. Specify a solver to silence this warning.\n",
      "  FutureWarning)\n",
      "C:\\Users\\rhkdg\\Anaconda3\\lib\\site-packages\\sklearn\\linear_model\\logistic.py:432: FutureWarning: Default solver will be changed to 'lbfgs' in 0.22. Specify a solver to silence this warning.\n",
      "  FutureWarning)\n"
     ]
    },
    {
     "name": "stdout",
     "output_type": "stream",
     "text": [
      "score : 0.7210397511555292\n"
     ]
    },
    {
     "name": "stderr",
     "output_type": "stream",
     "text": [
      "C:\\Users\\rhkdg\\Anaconda3\\lib\\site-packages\\sklearn\\linear_model\\logistic.py:432: FutureWarning: Default solver will be changed to 'lbfgs' in 0.22. Specify a solver to silence this warning.\n",
      "  FutureWarning)\n"
     ]
    }
   ],
   "source": [
    "log_reg = LogisticRegression()\n",
    "\n",
    "log_reg.fit(X, y)\n",
    "x2 = sm.add_constant(X)\n",
    "model = sm.OLS(y, x2)\n",
    "result = model.fit()\n",
    "print(result.summary())\n",
    "\n",
    "print(f'score : {cross_val_score(log_reg, X, y, cv=skf).mean()}')"
   ]
  },
  {
   "cell_type": "code",
   "execution_count": null,
   "metadata": {},
   "outputs": [],
   "source": []
  },
  {
   "cell_type": "code",
   "execution_count": null,
   "metadata": {},
   "outputs": [],
   "source": []
  },
  {
   "cell_type": "code",
   "execution_count": null,
   "metadata": {},
   "outputs": [],
   "source": []
  },
  {
   "cell_type": "code",
   "execution_count": 54,
   "metadata": {},
   "outputs": [],
   "source": [
    "sort_spo = spot.value_counts()\n",
    "sort_data = pd.DataFrame({'방문적은 곳' : sort_spo})\n",
    "sort_data.to_csv('방문지.csv',encoding='euc-kr')"
   ]
  },
  {
   "cell_type": "code",
   "execution_count": 56,
   "metadata": {
    "scrolled": false
   },
   "outputs": [],
   "source": [
    "datas = data.groupby('D_TRA1_1_SPOT1').mean()"
   ]
  },
  {
   "cell_type": "code",
   "execution_count": 49,
   "metadata": {},
   "outputs": [],
   "source": [
    "X_spot=pd.DataFrame()\n",
    "for i in feature:\n",
    "    X_spot[i] = datas[i]"
   ]
  },
  {
   "cell_type": "code",
   "execution_count": 57,
   "metadata": {},
   "outputs": [],
   "source": [
    "temp=pd.DataFrame()\n",
    "temp['D_TRA1_1_SPOT1'] = data['D_TRA1_1_SPOT1']\n",
    "for i in lst:\n",
    "    temp[i]=data[i]\n",
    "\n",
    "temp = pd.get_dummies(temp)\n",
    "temp = temp.groupby('D_TRA1_1_SPOT1').mean()\n",
    "\n",
    "obdatas = pd.DataFrame()\n",
    "for i in obfeature:\n",
    "    obdatas[i] = temp[i]"
   ]
  },
  {
   "cell_type": "code",
   "execution_count": 58,
   "metadata": {},
   "outputs": [],
   "source": [
    "X_spot = pd.concat([X_spot,obdatas],axis=1,sort=False)"
   ]
  },
  {
   "cell_type": "code",
   "execution_count": 59,
   "metadata": {},
   "outputs": [],
   "source": [
    "X_spot.to_csv('입력.csv')"
   ]
  },
  {
   "cell_type": "code",
   "execution_count": 60,
   "metadata": {},
   "outputs": [],
   "source": [
    "y_pred = pd.DataFrame(log_reg.predict_proba(X_spot))[1]"
   ]
  },
  {
   "cell_type": "code",
   "execution_count": 61,
   "metadata": {},
   "outputs": [
    {
     "name": "stderr",
     "output_type": "stream",
     "text": [
      "C:\\Users\\rhkdg\\Anaconda3\\lib\\site-packages\\ipykernel_launcher.py:1: FutureWarning: The signature of `Series.to_csv` was aligned to that of `DataFrame.to_csv`, and argument 'header' will change its default value from False to True: please pass an explicit value to suppress this warning.\n",
      "  \"\"\"Entry point for launching an IPython kernel.\n"
     ]
    }
   ],
   "source": [
    "y_pred.to_csv('예측.csv')"
   ]
  },
  {
   "cell_type": "code",
   "execution_count": null,
   "metadata": {},
   "outputs": [],
   "source": []
  },
  {
   "cell_type": "code",
   "execution_count": null,
   "metadata": {},
   "outputs": [],
   "source": []
  },
  {
   "cell_type": "code",
   "execution_count": null,
   "metadata": {},
   "outputs": [],
   "source": []
  },
  {
   "cell_type": "code",
   "execution_count": null,
   "metadata": {},
   "outputs": [],
   "source": []
  },
  {
   "cell_type": "code",
   "execution_count": null,
   "metadata": {},
   "outputs": [],
   "source": [
    "finaldata"
   ]
  },
  {
   "cell_type": "code",
   "execution_count": null,
   "metadata": {},
   "outputs": [],
   "source": [
    "finaldata = pd.read_csv('SatisCount.csv', encoding='euc-kr')"
   ]
  },
  {
   "cell_type": "code",
   "execution_count": null,
   "metadata": {},
   "outputs": [],
   "source": [
    "finaldata = finaldata[(finaldata['count']<30)==False]"
   ]
  },
  {
   "cell_type": "code",
   "execution_count": null,
   "metadata": {},
   "outputs": [],
   "source": [
    "finaldata['dosi']=finaldata['D_TRA1_1_SPOT1']//1000"
   ]
  },
  {
   "cell_type": "code",
   "execution_count": null,
   "metadata": {},
   "outputs": [],
   "source": [
    "finaldata['dosi'] = finaldata['dosi'].map({\n",
    "    11:'서울',\n",
    "    21:'부산',\n",
    "    22:'대구',\n",
    "    23:'인천',\n",
    "    24:'광주',\n",
    "    25:'대전',\n",
    "    26:'울산',\n",
    "    29:'세종',\n",
    "    31:'경기',\n",
    "    32:'강원',\n",
    "    33:'충북',\n",
    "    34:'충남',\n",
    "    35:'전북',\n",
    "    36:'전남',\n",
    "    37:'경북',\n",
    "    38:'경남',\n",
    "    39:'제주'\n",
    "    \n",
    "})"
   ]
  },
  {
   "cell_type": "code",
   "execution_count": null,
   "metadata": {},
   "outputs": [],
   "source": [
    "from sklearn.preprocessing import MinMaxScaler\n",
    "scaler = MinMaxScaler()\n",
    "finaldata['predict'] = scaler.fit_transform(pd.DataFrame(finaldata['predict']))"
   ]
  },
  {
   "cell_type": "code",
   "execution_count": null,
   "metadata": {},
   "outputs": [],
   "source": [
    "plt.figure(figsize=(20,13))\n",
    "sns.scatterplot(x='count',y='predict',hue='dosi',data=finaldata,size_order=10,s=100 )\n",
    "plt.axvline(finaldata['count'].median(), color='r', linewidth=2)\n",
    "plt.axhline(finaldata['predict'].mean(),color='g',linewidth=2)"
   ]
  },
  {
   "cell_type": "code",
   "execution_count": null,
   "metadata": {},
   "outputs": [],
   "source": [
    "finaldata[(finaldata['count'] < finaldata['count'].median())&(finaldata['predict'] < finaldata['predict'].mean())]"
   ]
  },
  {
   "cell_type": "code",
   "execution_count": null,
   "metadata": {},
   "outputs": [],
   "source": [
    "finaldata[(finaldata['count']>finaldata['count'].median())&(finaldata['predict']>finaldata['predict'].mean())]"
   ]
  },
  {
   "cell_type": "code",
   "execution_count": null,
   "metadata": {},
   "outputs": [],
   "source": [
    "finaldata[finaldata['dosi']==36]"
   ]
  },
  {
   "cell_type": "code",
   "execution_count": null,
   "metadata": {},
   "outputs": [],
   "source": []
  }
 ],
 "metadata": {
  "kernelspec": {
   "display_name": "Python 3",
   "language": "python",
   "name": "python3"
  },
  "language_info": {
   "codemirror_mode": {
    "name": "ipython",
    "version": 3
   },
   "file_extension": ".py",
   "mimetype": "text/x-python",
   "name": "python",
   "nbconvert_exporter": "python",
   "pygments_lexer": "ipython3",
   "version": "3.7.3"
  }
 },
 "nbformat": 4,
 "nbformat_minor": 2
}
