{
 "cells": [
  {
   "cell_type": "code",
   "execution_count": 1,
   "metadata": {},
   "outputs": [],
   "source": [
    "import pandas as pd\n",
    "import numpy as np\n",
    "import matplotlib.pyplot as plt\n",
    "%matplotlib inline\n",
    "import seaborn as sns"
   ]
  },
  {
   "cell_type": "code",
   "execution_count": 9,
   "metadata": {},
   "outputs": [],
   "source": [
    "from matplotlib import font_manager, rc\n",
    "font_name = font_manager.FontProperties(fname='c:/Windows/Fonts/malgun.ttf').get_name()\n",
    "rc('font',family=font_name)"
   ]
  },
  {
   "cell_type": "code",
   "execution_count": 3,
   "metadata": {},
   "outputs": [],
   "source": [
    "data = pd.read_csv('tra_.csv',index_col='ID')"
   ]
  },
  {
   "cell_type": "code",
   "execution_count": 4,
   "metadata": {},
   "outputs": [
    {
     "name": "stderr",
     "output_type": "stream",
     "text": [
      "C:\\Users\\rhkdg\\Anaconda3\\lib\\site-packages\\pandas\\core\\computation\\expressions.py:183: UserWarning: evaluating in Python space because the '+' operator is not supported by numexpr for the bool dtype, use '|' instead\n",
      "  .format(op=op_str, alt_op=unsupported[op_str]))\n"
     ]
    }
   ],
   "source": [
    "d12 = data['A12'] >4\n",
    "d13 = data['A13'] >4\n",
    "d14 = data['A14'] >4\n",
    "data['total'] = d12 + d13 +d14\n",
    "data['total'] = data['total'].map({True:1, False:0})\n",
    "\n",
    "data.drop(['A12'], axis=1, inplace= True)\n",
    "data.drop(['A13'], axis=1, inplace= True)\n",
    "data.drop(['A14'], axis=1, inplace= True)\n",
    "data.drop(['BARA'],axis=1, inplace= True)"
   ]
  },
  {
   "cell_type": "code",
   "execution_count": 5,
   "metadata": {},
   "outputs": [],
   "source": [
    "data=data[data['D_TRA1_CASE']==1]"
   ]
  },
  {
   "cell_type": "code",
   "execution_count": 6,
   "metadata": {},
   "outputs": [],
   "source": [
    "spot = data['D_TRA1_1_SPOT1']"
   ]
  },
  {
   "cell_type": "code",
   "execution_count": 7,
   "metadata": {},
   "outputs": [
    {
     "data": {
      "text/plain": [
       "(17867, 70)"
      ]
     },
     "execution_count": 7,
     "metadata": {},
     "output_type": "execute_result"
    }
   ],
   "source": [
    "data.shape"
   ]
  },
  {
   "cell_type": "markdown",
   "metadata": {},
   "source": [
    "# 결측치 처리"
   ]
  },
  {
   "cell_type": "code",
   "execution_count": 8,
   "metadata": {},
   "outputs": [],
   "source": [
    "all_na = (data.isnull().sum() / len(data)) * 100\n",
    "all_na = all_na.drop(all_na[all_na == 0].index).sort_values(ascending=False)\n",
    "missing_data = pd.DataFrame({'Missing Ratio' :all_na})"
   ]
  },
  {
   "cell_type": "code",
   "execution_count": 9,
   "metadata": {
    "scrolled": true
   },
   "outputs": [
    {
     "data": {
      "text/plain": [
       "Text(0.5, 1.0, 'Percent missing data by feature')"
      ]
     },
     "execution_count": 9,
     "metadata": {},
     "output_type": "execute_result"
    },
    {
     "data": {
      "image/png": "[encoded data removed]",
      "text/plain": [
       "<Figure size 1440x504 with 1 Axes>"
      ]
     },
     "metadata": {
      "needs_background": "light"
     },
     "output_type": "display_data"
    }
   ],
   "source": [
    "f, ax = plt.subplots(figsize=(20, 7))\n",
    "plt.xticks(rotation='90')\n",
    "sns.barplot(x=all_na.index, y=all_na)\n",
    "plt.xlabel('Features', fontsize=15)\n",
    "plt.ylabel('Percent of missing values', fontsize=15)\n",
    "plt.title('Percent missing data by feature', fontsize=15)"
   ]
  },
  {
   "cell_type": "code",
   "execution_count": 10,
   "metadata": {},
   "outputs": [],
   "source": [
    "data['A1']=data['A1'].map({1:1,2:0})"
   ]
  },
  {
   "cell_type": "code",
   "execution_count": 11,
   "metadata": {},
   "outputs": [],
   "source": [
    "for i in range(21):\n",
    "    data['A3_{}'.format(i+1)] = data['A3_{}'.format(i+1)].fillna(0)\n",
    "    data['A3_{}'.format(i+1)] = data['A3_{}'.format(i+1)].map({i+1:1,0:0})"
   ]
  },
  {
   "cell_type": "code",
   "execution_count": 12,
   "metadata": {},
   "outputs": [],
   "source": [
    "for i in range(1, 15) :\n",
    "    data[f'A6_{i}'] = data[f'A6_{i}'].fillna(value = 0)\n",
    "    data[f'A6_{i}'] = data[f'A6_{i}'].map({i:1,0:0})"
   ]
  },
  {
   "cell_type": "code",
   "execution_count": 13,
   "metadata": {},
   "outputs": [],
   "source": [
    "data['A7A']=data['A7A'].fillna(0)\n",
    "for i in range(7):\n",
    "    data['A7B_{}'.format(i+1)] = data['A7B_{}'.format(i+1)].fillna(0)\n",
    "    data['A7B_{}'.format(i+1)] = data['A7B_{}'.format(i+1)].map({i+1:1,0:0})"
   ]
  },
  {
   "cell_type": "markdown",
   "metadata": {},
   "source": [
    "# 결측치 확인"
   ]
  },
  {
   "cell_type": "code",
   "execution_count": 14,
   "metadata": {},
   "outputs": [
    {
     "name": "stdout",
     "output_type": "stream",
     "text": [
      "<class 'pandas.core.frame.DataFrame'>\n",
      "Int64Index: 17867 entries, 1 to 48267\n",
      "Data columns (total 70 columns):\n",
      "Q                 17867 non-null int64\n",
      "D_TRA1_1_SPOT1    17867 non-null float64\n",
      "D_TRA1_SMONTH     17867 non-null float64\n",
      "D_TRA1_S_Day      17867 non-null float64\n",
      "D_TRA1_COST       17867 non-null float64\n",
      "D_TRA1_NUM        17867 non-null float64\n",
      "D_TRA1_CASE       17867 non-null float64\n",
      "A1                17867 non-null int64\n",
      "A2_1              17867 non-null float64\n",
      "A3_1              17867 non-null int64\n",
      "A3_2              17867 non-null int64\n",
      "A3_3              17867 non-null int64\n",
      "A3_4              17867 non-null int64\n",
      "A3_5              17867 non-null int64\n",
      "A3_6              17867 non-null int64\n",
      "A3_7              17867 non-null int64\n",
      "A3_8              17867 non-null int64\n",
      "A3_9              17867 non-null int64\n",
      "A3_10             17867 non-null int64\n",
      "A3_11             17867 non-null int64\n",
      "A3_12             17867 non-null int64\n",
      "A3_13             17867 non-null int64\n",
      "A3_14             17867 non-null int64\n",
      "A3_15             17867 non-null int64\n",
      "A3_16             17867 non-null int64\n",
      "A3_17             17867 non-null int64\n",
      "A3_18             17867 non-null int64\n",
      "A3_19             17867 non-null int64\n",
      "A3_20             17867 non-null int64\n",
      "A3_21             17867 non-null int64\n",
      "A4_1              17867 non-null float64\n",
      "A5_1              17867 non-null float64\n",
      "A6_1              17867 non-null int64\n",
      "A6_2              17867 non-null int64\n",
      "A6_3              17867 non-null int64\n",
      "A6_4              17867 non-null int64\n",
      "A6_5              17867 non-null int64\n",
      "A6_6              17867 non-null int64\n",
      "A6_7              17867 non-null int64\n",
      "A6_8              17867 non-null int64\n",
      "A6_9              17867 non-null int64\n",
      "A6_10             17867 non-null int64\n",
      "A6_11             17867 non-null int64\n",
      "A6_12             17867 non-null int64\n",
      "A6_13             17867 non-null int64\n",
      "A6_14             17867 non-null int64\n",
      "A7                17867 non-null float64\n",
      "A7A               17867 non-null float64\n",
      "A7B_1             17867 non-null int64\n",
      "A7B_2             17867 non-null int64\n",
      "A7B_3             17867 non-null int64\n",
      "A7B_4             17867 non-null int64\n",
      "A7B_5             17867 non-null int64\n",
      "A7B_6             17867 non-null int64\n",
      "A7B_7             17867 non-null int64\n",
      "A10A              17867 non-null float64\n",
      "A10B              17867 non-null float64\n",
      "A10C              17867 non-null float64\n",
      "A10D              17867 non-null float64\n",
      "A10E              17867 non-null float64\n",
      "A10F              17867 non-null float64\n",
      "A10G              17867 non-null float64\n",
      "A10H              17867 non-null float64\n",
      "A10I              17867 non-null float64\n",
      "A10               17867 non-null float64\n",
      "DQ6A              17867 non-null int64\n",
      "BSEX              17867 non-null int64\n",
      "BAGE              17867 non-null int64\n",
      "BJOB              17867 non-null int64\n",
      "total             17867 non-null int64\n",
      "dtypes: float64(21), int64(49)\n",
      "memory usage: 9.7 MB\n"
     ]
    }
   ],
   "source": [
    "data.info()"
   ]
  },
  {
   "cell_type": "markdown",
   "metadata": {},
   "source": [
    "## 변수 타입별 정리"
   ]
  },
  {
   "cell_type": "code",
   "execution_count": 15,
   "metadata": {},
   "outputs": [
    {
     "data": {
      "text/plain": [
       "Index(['Q', 'D_TRA1_1_SPOT1', 'D_TRA1_SMONTH', 'D_TRA1_S_Day', 'D_TRA1_COST',\n",
       "       'D_TRA1_NUM', 'D_TRA1_CASE', 'A1', 'A2_1', 'A3_1', 'A3_2', 'A3_3',\n",
       "       'A3_4', 'A3_5', 'A3_6', 'A3_7', 'A3_8', 'A3_9', 'A3_10', 'A3_11',\n",
       "       'A3_12', 'A3_13', 'A3_14', 'A3_15', 'A3_16', 'A3_17', 'A3_18', 'A3_19',\n",
       "       'A3_20', 'A3_21', 'A4_1', 'A5_1', 'A6_1', 'A6_2', 'A6_3', 'A6_4',\n",
       "       'A6_5', 'A6_6', 'A6_7', 'A6_8', 'A6_9', 'A6_10', 'A6_11', 'A6_12',\n",
       "       'A6_13', 'A6_14', 'A7', 'A7A', 'A7B_1', 'A7B_2', 'A7B_3', 'A7B_4',\n",
       "       'A7B_5', 'A7B_6', 'A7B_7', 'A10A', 'A10B', 'A10C', 'A10D', 'A10E',\n",
       "       'A10F', 'A10G', 'A10H', 'A10I', 'A10', 'DQ6A', 'BSEX', 'BAGE', 'BJOB',\n",
       "       'total'],\n",
       "      dtype='object')"
      ]
     },
     "execution_count": 15,
     "metadata": {},
     "output_type": "execute_result"
    }
   ],
   "source": [
    "n_f = data.dtypes[data.dtypes != 'object'].index\n",
    "n_f"
   ]
  },
  {
   "cell_type": "code",
   "execution_count": 16,
   "metadata": {},
   "outputs": [],
   "source": [
    "n_f=['D_TRA1_S_Day', 'D_TRA1_COST', 'A1', 'A3_1', 'A3_2', 'A3_3',\n",
    "       'A3_4', 'A3_5', 'A3_6', 'A3_7', 'A3_8', 'A3_9', 'A3_10', 'A3_11',\n",
    "       'A3_12', 'A3_13', 'A3_14', 'A3_15', 'A3_16', 'A3_17', 'A3_18', 'A3_19',\n",
    "       'A3_20', 'A3_21', 'A6_1', 'A6_2', 'A6_3', 'A6_4', 'A6_5', 'A6_6',\n",
    "       'A6_7', 'A6_8', 'A6_9', 'A6_10', 'A6_11', 'A6_12', 'A6_13', 'A6_14',\n",
    "       'A7', 'A7A', 'A7B_1', 'A7B_2', 'A7B_3', 'A7B_4', 'A7B_5', 'A7B_6',\n",
    "       'A7B_7', 'A10A', 'A10B', 'A10C', 'A10D', 'A10E', 'A10F', 'A10G', 'A10H',\n",
    "       'A10I', 'A10', 'DQ6A','Ncost', 'DNcost', 'A3sum']"
   ]
  },
  {
   "cell_type": "code",
   "execution_count": 17,
   "metadata": {},
   "outputs": [],
   "source": [
    "b_f = ['A1', 'A3_1', 'A3_2', 'A3_3',\n",
    "       'A3_4', 'A3_5', 'A3_6', 'A3_7', 'A3_8', 'A3_9', 'A3_10', 'A3_11',\n",
    "       'A3_12', 'A3_13', 'A3_14', 'A3_15', 'A3_16', 'A3_17', 'A3_18', 'A3_19',\n",
    "       'A3_20', 'A3_21', 'A6_1', 'A6_2', 'A6_3', 'A6_4', 'A6_5', 'A6_6',\n",
    "       'A6_7', 'A6_8', 'A6_9', 'A6_10', 'A6_11', 'A6_12', 'A6_13', 'A6_14',\n",
    "       'A7B_1', 'A7B_2', 'A7B_3', 'A7B_4', 'A7B_5', 'A7B_6','A7B_7']"
   ]
  },
  {
   "cell_type": "code",
   "execution_count": 18,
   "metadata": {},
   "outputs": [],
   "source": [
    "for i in b_f:\n",
    "    n_f.remove(i)"
   ]
  },
  {
   "cell_type": "markdown",
   "metadata": {},
   "source": [
    "# 새로운 특성 추가"
   ]
  },
  {
   "cell_type": "code",
   "execution_count": 19,
   "metadata": {},
   "outputs": [],
   "source": [
    "data['Ncost'] = data['D_TRA1_COST']/data['D_TRA1_NUM']"
   ]
  },
  {
   "cell_type": "code",
   "execution_count": 20,
   "metadata": {},
   "outputs": [],
   "source": [
    "data['DNcost'] = data['Ncost']/(data['D_TRA1_S_Day']+1)"
   ]
  },
  {
   "cell_type": "code",
   "execution_count": 21,
   "metadata": {},
   "outputs": [],
   "source": [
    "data['A3sum'] = data['A3_1']\n",
    "for i in range(1,21):\n",
    "    data['A3sum'] = data['A3sum'] + data['A3_{}'.format(i+1)]"
   ]
  },
  {
   "cell_type": "code",
   "execution_count": 22,
   "metadata": {},
   "outputs": [],
   "source": [
    "# 명목형 변수 인코딩\n",
    "lst = ['A2_1','A4_1','A5_1','BSEX','BJOB','D_TRA1_CASE']\n",
    "for col in lst:\n",
    "    data[col] = data[col].apply(str)"
   ]
  },
  {
   "cell_type": "markdown",
   "metadata": {},
   "source": [
    "# 이상치 처리"
   ]
  },
  {
   "cell_type": "code",
   "execution_count": 23,
   "metadata": {},
   "outputs": [
    {
     "data": {
      "image/png": "[encoded data removed]",
      "text/plain": [
       "<Figure size 1296x648 with 16 Axes>"
      ]
     },
     "metadata": {
      "needs_background": "light"
     },
     "output_type": "display_data"
    }
   ],
   "source": [
    "fig, ax = plt.subplots(figsize=(18,9),ncols=4, nrows=4)\n",
    "for i in range(len(n_f)-2):\n",
    "    sns.boxenplot(data=data, y=n_f[i], ax=ax[i//4,i%4])\n",
    "plt.show()"
   ]
  },
  {
   "cell_type": "code",
   "execution_count": 24,
   "metadata": {},
   "outputs": [
    {
     "data": {
      "text/plain": [
       "(14264, 73)"
      ]
     },
     "execution_count": 24,
     "metadata": {},
     "output_type": "execute_result"
    }
   ],
   "source": [
    "data=data[(data['D_TRA1_S_Day']>4)==False]\n",
    "data=data[(data['D_TRA1_COST']>2000000)==False]\n",
    "data=data[(data['A7']>10)==False]\n",
    "data=data[(data['A10A']>500000)==False]\n",
    "data=data[(data['A10B']>200000)==False]\n",
    "data=data[(data['A10C']>200000)==False]\n",
    "data=data[(data['A10D']>500000)==False]\n",
    "data=data[(data['A10E']>250000)==False]\n",
    "data=data[(data['A10F']>100000)==False]\n",
    "data=data[(data['A10G']>100000)==False]\n",
    "data=data[(data['A10H']>20000)==False]\n",
    "data=data[(data['A10I']>20000)==False]\n",
    "\n",
    "data.shape"
   ]
  },
  {
   "cell_type": "markdown",
   "metadata": {},
   "source": [
    "#  EDA"
   ]
  },
  {
   "cell_type": "markdown",
   "metadata": {},
   "source": [
    "## 변수분석"
   ]
  },
  {
   "cell_type": "code",
   "execution_count": 25,
   "metadata": {},
   "outputs": [
    {
     "data": {
      "text/plain": [
       "Text(0, 0.5, 'count')"
      ]
     },
     "execution_count": 25,
     "metadata": {},
     "output_type": "execute_result"
    },
    {
     "data": {
      "image/png": "[encoded data removed]",
      "text/plain": [
       "<Figure size 720x360 with 1 Axes>"
      ]
     },
     "metadata": {
      "needs_background": "light"
     },
     "output_type": "display_data"
    }
   ],
   "source": [
    "plt.figure(figsize=(10,5))\n",
    "plt.hist(data['total'],color='red')\n",
    "plt.xlabel('total')\n",
    "plt.ylabel('count')"
   ]
  },
  {
   "cell_type": "code",
   "execution_count": 26,
   "metadata": {},
   "outputs": [
    {
     "data": {
      "text/plain": [
       "A3_6    -0.022303\n",
       "A3_19   -0.020007\n",
       "A10I    -0.019532\n",
       "A3_4    -0.019367\n",
       "DQ6A    -0.018392\n",
       "Name: total, dtype: float64"
      ]
     },
     "execution_count": 26,
     "metadata": {},
     "output_type": "execute_result"
    }
   ],
   "source": [
    "data.corr()['total'].sort_values().head(5)"
   ]
  },
  {
   "cell_type": "code",
   "execution_count": 27,
   "metadata": {},
   "outputs": [
    {
     "data": {
      "image/png": "[encoded data removed]",
      "text/plain": [
       "<Figure size 1080x576 with 1 Axes>"
      ]
     },
     "metadata": {
      "needs_background": "light"
     },
     "output_type": "display_data"
    }
   ],
   "source": [
    "a3df = data.groupby(['A3sum','total'])['total'].count().unstack('total')\n",
    "a3df.plot(kind='bar', figsize=(15,8))\n",
    "plt.title('A3sum')\n",
    "plt.show()"
   ]
  },
  {
   "cell_type": "markdown",
   "metadata": {},
   "source": [
    "## 변수 타입별 정리"
   ]
  },
  {
   "cell_type": "code",
   "execution_count": 28,
   "metadata": {},
   "outputs": [
    {
     "data": {
      "text/plain": [
       "Index(['Q', 'D_TRA1_1_SPOT1', 'D_TRA1_SMONTH', 'D_TRA1_S_Day', 'D_TRA1_COST',\n",
       "       'D_TRA1_NUM', 'A1', 'A3_1', 'A3_2', 'A3_3', 'A3_4', 'A3_5', 'A3_6',\n",
       "       'A3_7', 'A3_8', 'A3_9', 'A3_10', 'A3_11', 'A3_12', 'A3_13', 'A3_14',\n",
       "       'A3_15', 'A3_16', 'A3_17', 'A3_18', 'A3_19', 'A3_20', 'A3_21', 'A6_1',\n",
       "       'A6_2', 'A6_3', 'A6_4', 'A6_5', 'A6_6', 'A6_7', 'A6_8', 'A6_9', 'A6_10',\n",
       "       'A6_11', 'A6_12', 'A6_13', 'A6_14', 'A7', 'A7A', 'A7B_1', 'A7B_2',\n",
       "       'A7B_3', 'A7B_4', 'A7B_5', 'A7B_6', 'A7B_7', 'A10A', 'A10B', 'A10C',\n",
       "       'A10D', 'A10E', 'A10F', 'A10G', 'A10H', 'A10I', 'A10', 'DQ6A', 'BAGE',\n",
       "       'total', 'Ncost', 'DNcost', 'A3sum'],\n",
       "      dtype='object')"
      ]
     },
     "execution_count": 28,
     "metadata": {},
     "output_type": "execute_result"
    }
   ],
   "source": [
    "n_f = data.dtypes[data.dtypes != 'object'].index\n",
    "n_f"
   ]
  },
  {
   "cell_type": "code",
   "execution_count": 29,
   "metadata": {},
   "outputs": [],
   "source": [
    "n_f=['D_TRA1_S_Day', 'D_TRA1_COST', 'A1', 'A3_1', 'A3_2', 'A3_3',\n",
    "       'A3_4', 'A3_5', 'A3_6', 'A3_7', 'A3_8', 'A3_9', 'A3_10', 'A3_11',\n",
    "       'A3_12', 'A3_13', 'A3_14', 'A3_15', 'A3_16', 'A3_17', 'A3_18', 'A3_19',\n",
    "       'A3_20', 'A3_21', 'A6_1', 'A6_2', 'A6_3', 'A6_4', 'A6_5', 'A6_6',\n",
    "       'A6_7', 'A6_8', 'A6_9', 'A6_10', 'A6_11', 'A6_12', 'A6_13', 'A6_14',\n",
    "       'A7', 'A7A', 'A7B_1', 'A7B_2', 'A7B_3', 'A7B_4', 'A7B_5', 'A7B_6',\n",
    "       'A7B_7', 'A10A', 'A10B', 'A10C', 'A10D', 'A10E', 'A10F', 'A10G', 'A10H',\n",
    "       'A10I', 'A10', 'DQ6A','Ncost', 'DNcost', 'A3sum']"
   ]
  },
  {
   "cell_type": "code",
   "execution_count": 30,
   "metadata": {},
   "outputs": [],
   "source": [
    "b_f = ['A1', 'A3_1', 'A3_2', 'A3_3',\n",
    "       'A3_4', 'A3_5', 'A3_6', 'A3_7', 'A3_8', 'A3_9', 'A3_10', 'A3_11',\n",
    "       'A3_12', 'A3_13', 'A3_14', 'A3_15', 'A3_16', 'A3_17', 'A3_18', 'A3_19',\n",
    "       'A3_20', 'A3_21', 'A6_1', 'A6_2', 'A6_3', 'A6_4', 'A6_5', 'A6_6',\n",
    "       'A6_7', 'A6_8', 'A6_9', 'A6_10', 'A6_11', 'A6_12', 'A6_13', 'A6_14',\n",
    "       'A7B_1', 'A7B_2', 'A7B_3', 'A7B_4', 'A7B_5', 'A7B_6','A7B_7']"
   ]
  },
  {
   "cell_type": "code",
   "execution_count": 31,
   "metadata": {
    "scrolled": false
   },
   "outputs": [],
   "source": [
    "for i in b_f:\n",
    "    n_f.remove(i)"
   ]
  },
  {
   "cell_type": "code",
   "execution_count": 32,
   "metadata": {},
   "outputs": [],
   "source": [
    "feature=[]"
   ]
  },
  {
   "cell_type": "markdown",
   "metadata": {},
   "source": [
    "## 이진 변수\n",
    "### - 점 양분 상관 계수\n",
    "> 한 변수는 있음/없음, 네/아니오 등으로 이분형(binary) 이고, 다른 한 변수는 연속형인 경우에도 상관계수를 구할 수 있습니다.\n",
    "\n",
    "- p-value가 0.05보다 클 경우 변수간의 상관관계가 존재하지 않음 \n",
    "\n",
    "https://mansoostat.tistory.com/115"
   ]
  },
  {
   "cell_type": "code",
   "execution_count": 33,
   "metadata": {},
   "outputs": [
    {
     "name": "stdout",
     "output_type": "stream",
     "text": [
      "A1 2.2870626236182395e-08\n",
      "A3_1 2.259981769550903e-06\n",
      "A3_2 0.005070640996469748\n",
      "A3_3 1.818127772199553e-05\n",
      "A3_4 0.020721386904102992\n",
      "A3_6 0.007727836846003201\n",
      "A3_7 0.03171838820236732\n",
      "A3_8 0.02172815843769476\n",
      "A3_9 0.0004933473225843737\n",
      "A3_11 5.234441864090876e-32\n",
      "A3_15 3.3956135917268714e-36\n",
      "A3_17 0.0003709178224353249\n",
      "A3_18 0.021974833603606813\n",
      "A3_19 0.01686874086643154\n",
      "A3_21 5.1280653148808866e-05\n",
      "A6_4 3.166963697473499e-10\n",
      "A6_5 0.03419596697619582\n",
      "A6_8 0.046586712464743905\n",
      "A6_9 0.04996307028079554\n",
      "A6_12 0.030755675861788682\n"
     ]
    }
   ],
   "source": [
    "from scipy.stats import pointbiserialr\n",
    "for i in b_f:\n",
    "    corr, pval = pointbiserialr(data[i],data['total'])\n",
    "    if pval <0.05:\n",
    "        print(i,pval)\n",
    "        feature.append(i)"
   ]
  },
  {
   "cell_type": "markdown",
   "metadata": {},
   "source": [
    "## 연속형 변수\n",
    "### - 피어슨 상관 계수\n",
    "- 연속형 변수 2개의 상관 관계를 확인하기 위한 가장 기본적인 방법이다.\n",
    "\n",
    ">정확히 말해서 두개의 수치값들의 집합이 있을 때 이 두개의 수치값들은 각각의 순서쌍에 대해서 연결관계가 있다고 할 때 두 수치값이 서로 관련이 있는지를 확인하는 방법이다.\n",
    "\n",
    ">흔한 예로 있는 것이 고등학생 한 학급에 50명이 있다고 할 때 이 학생들의 수학과목의 성적과 물리과목의 성정이 관련이 있는지 확인하는 것이 있다. 즉 수학과목과 물리과목은 서로 수리적 또는 과학적 능력과 관련이 있어 두 과목은 서로 관련이 있을 것이라는 가설을 어느 정도 두고 있으며 실제로 그런지 확인한다.\n",
    "\n",
    "- p-value가 0.05보다 클 경우 변수간의 상관관계가 존재하지 않음 \n",
    "\n",
    "https://intothedata.com/02.scholar_category/statistics/correlation/\n",
    "\n",
    "https://bskyvision.com/754"
   ]
  },
  {
   "cell_type": "code",
   "execution_count": 34,
   "metadata": {},
   "outputs": [
    {
     "name": "stdout",
     "output_type": "stream",
     "text": [
      "D_TRA1_S_Day 5.56558609253701e-09\n",
      "D_TRA1_COST 0.0021065327882162153\n",
      "A10A 0.031999653263354765\n",
      "A10C 6.09370038228843e-06\n",
      "A10D 0.0017384911821455736\n",
      "A10E 4.728566967041035e-10\n",
      "A10F 4.318470766211121e-15\n",
      "A10G 4.3438824440318964e-07\n",
      "A10I 0.019660344193188316\n",
      "A10 6.341070831465333e-13\n",
      "DQ6A 0.028050230753400848\n",
      "Ncost 6.816354094243468e-08\n",
      "DNcost 0.008862467714145868\n",
      "A3sum 4.685031844839223e-32\n"
     ]
    }
   ],
   "source": [
    "from scipy import stats\n",
    "for i in n_f:\n",
    "    corr, pval = stats.pearsonr(data[i],data['total'])\n",
    "    if pval <0.05:\n",
    "        print(i,pval)\n",
    "        feature.append(i)"
   ]
  },
  {
   "cell_type": "code",
   "execution_count": 35,
   "metadata": {},
   "outputs": [
    {
     "data": {
      "text/plain": [
       "['A2_1', 'A4_1', 'A5_1', 'BSEX', 'BJOB', 'D_TRA1_CASE']"
      ]
     },
     "execution_count": 35,
     "metadata": {},
     "output_type": "execute_result"
    }
   ],
   "source": [
    "lst"
   ]
  },
  {
   "cell_type": "code",
   "execution_count": 36,
   "metadata": {},
   "outputs": [],
   "source": [
    "# 명목형 변수 인코딩\n",
    "lst = ['D_TRA1_SMONTH','A2_1','A4_1','A5_1','BSEX','BAGE','BJOB','D_TRA1_CASE']\n",
    "for col in lst:\n",
    "    data[col] = data[col].apply(str)"
   ]
  },
  {
   "cell_type": "code",
   "execution_count": 37,
   "metadata": {},
   "outputs": [],
   "source": [
    "obdata=pd.DataFrame()\n",
    "for i in lst:\n",
    "    obdata[i]=data[i]\n",
    "\n",
    "obdata = pd.get_dummies(obdata)"
   ]
  },
  {
   "cell_type": "code",
   "execution_count": 38,
   "metadata": {},
   "outputs": [
    {
     "name": "stdout",
     "output_type": "stream",
     "text": [
      "D_TRA1_SMONTH_8.0 0.0040601396403184085\n",
      "D_TRA1_SMONTH_9.0 0.005678567025955426\n",
      "A2_1_1.0 1.5256415165717032e-05\n",
      "A2_1_10.0 0.0018913604921662612\n",
      "A2_1_11.0 0.018391161813960052\n",
      "A2_1_14.0 0.0007591636377409268\n",
      "A2_1_3.0 0.0031615057796021986\n",
      "A2_1_4.0 1.3255270656406784e-06\n",
      "A2_1_5.0 0.019322386422030362\n",
      "A2_1_8.0 0.011706080951503732\n",
      "A2_1_9.0 0.018801693895758077\n",
      "A4_1_5.0 0.016158403438768235\n",
      "A4_1_6.0 0.009610295227629566\n",
      "A4_1_7.0 6.82534530214056e-06\n",
      "A4_1_8.0 0.010197558375953455\n",
      "A4_1_9.0 0.028589564590388878\n",
      "A5_1_1.0 0.019252819941976983\n",
      "A5_1_3.0 0.026829845805874216\n",
      "A5_1_4.0 0.013657338535708484\n",
      "A5_1_7.0 0.04900454747620907\n",
      "BAGE_1 0.037560897755762136\n"
     ]
    },
    {
     "name": "stderr",
     "output_type": "stream",
     "text": [
      "C:\\Users\\rhkdg\\Anaconda3\\lib\\site-packages\\scipy\\stats\\stats.py:3508: PearsonRConstantInputWarning: An input array is constant; the correlation coefficent is not defined.\n",
      "  warnings.warn(PearsonRConstantInputWarning())\n"
     ]
    }
   ],
   "source": [
    "obfeature=[]\n",
    "from scipy.stats import pointbiserialr\n",
    "for i in obdata.dtypes.index:\n",
    "    corr, pval = pointbiserialr(obdata[i],data['total'])\n",
    "    if pval <0.05:\n",
    "        print(i,pval)\n",
    "        obfeature.append(i)"
   ]
  },
  {
   "cell_type": "code",
   "execution_count": 39,
   "metadata": {},
   "outputs": [
    {
     "data": {
      "text/plain": [
       "['A1',\n",
       " 'A3_1',\n",
       " 'A3_2',\n",
       " 'A3_3',\n",
       " 'A3_4',\n",
       " 'A3_6',\n",
       " 'A3_7',\n",
       " 'A3_8',\n",
       " 'A3_9',\n",
       " 'A3_11',\n",
       " 'A3_15',\n",
       " 'A3_17',\n",
       " 'A3_18',\n",
       " 'A3_19',\n",
       " 'A3_21',\n",
       " 'A6_4',\n",
       " 'A6_5',\n",
       " 'A6_8',\n",
       " 'A6_9',\n",
       " 'A6_12',\n",
       " 'D_TRA1_S_Day',\n",
       " 'D_TRA1_COST',\n",
       " 'A10A',\n",
       " 'A10C',\n",
       " 'A10D',\n",
       " 'A10E',\n",
       " 'A10F',\n",
       " 'A10G',\n",
       " 'A10I',\n",
       " 'A10',\n",
       " 'DQ6A',\n",
       " 'Ncost',\n",
       " 'DNcost',\n",
       " 'A3sum']"
      ]
     },
     "execution_count": 39,
     "metadata": {},
     "output_type": "execute_result"
    }
   ],
   "source": [
    "feature"
   ]
  },
  {
   "cell_type": "code",
   "execution_count": 40,
   "metadata": {},
   "outputs": [
    {
     "data": {
      "text/plain": [
       "['D_TRA1_SMONTH_8.0',\n",
       " 'D_TRA1_SMONTH_9.0',\n",
       " 'A2_1_1.0',\n",
       " 'A2_1_10.0',\n",
       " 'A2_1_11.0',\n",
       " 'A2_1_14.0',\n",
       " 'A2_1_3.0',\n",
       " 'A2_1_4.0',\n",
       " 'A2_1_5.0',\n",
       " 'A2_1_8.0',\n",
       " 'A2_1_9.0',\n",
       " 'A4_1_5.0',\n",
       " 'A4_1_6.0',\n",
       " 'A4_1_7.0',\n",
       " 'A4_1_8.0',\n",
       " 'A4_1_9.0',\n",
       " 'A5_1_1.0',\n",
       " 'A5_1_3.0',\n",
       " 'A5_1_4.0',\n",
       " 'A5_1_7.0',\n",
       " 'BAGE_1']"
      ]
     },
     "execution_count": 40,
     "metadata": {},
     "output_type": "execute_result"
    }
   ],
   "source": [
    "obfeature"
   ]
  },
  {
   "cell_type": "markdown",
   "metadata": {},
   "source": [
    "## 변수 추가 제거"
   ]
  },
  {
   "cell_type": "code",
   "execution_count": 41,
   "metadata": {},
   "outputs": [],
   "source": [
    "X=pd.DataFrame()\n",
    "for i in feature:\n",
    "    X[i] = data[i]\n",
    "    \n",
    "for i in obfeature:\n",
    "    X[i] = obdata[i]\n",
    "\n",
    "y = data['total']"
   ]
  },
  {
   "cell_type": "code",
   "execution_count": 42,
   "metadata": {},
   "outputs": [
    {
     "data": {
      "text/plain": [
       "Int64Index([    3,     4,     7,    12,    13,    16,    17,    18,    21,\n",
       "               22,\n",
       "            ...\n",
       "            48134, 48140, 48164, 48172, 48177, 48180, 48192, 48201, 48213,\n",
       "            48267],\n",
       "           dtype='int64', name='ID', length=14264)"
      ]
     },
     "execution_count": 42,
     "metadata": {},
     "output_type": "execute_result"
    }
   ],
   "source": [
    "X.index"
   ]
  },
  {
   "cell_type": "code",
   "execution_count": 43,
   "metadata": {},
   "outputs": [],
   "source": [
    "from sklearn.preprocessing import StandardScaler\n",
    "scaler = StandardScaler()\n",
    "for i in X.dtypes.index:\n",
    "    X[i] = scaler.fit_transform(pd.DataFrame(X[i]))"
   ]
  },
  {
   "cell_type": "markdown",
   "metadata": {},
   "source": [
    "### 단순 cross_val_score 하면 안댐\n",
    "https://homeproject.tistory.com/6"
   ]
  },
  {
   "cell_type": "code",
   "execution_count": 44,
   "metadata": {},
   "outputs": [
    {
     "data": {
      "image/png": "[encoded data removed]",
      "text/plain": [
       "<Figure size 1080x360 with 1 Axes>"
      ]
     },
     "metadata": {
      "needs_background": "light"
     },
     "output_type": "display_data"
    }
   ],
   "source": [
    "plt.figure(figsize=(15,5))\n",
    "plt.scatter(x=data.index,y=data['total'],alpha=0.01, color='g')\n",
    "plt.show()"
   ]
  },
  {
   "cell_type": "code",
   "execution_count": 45,
   "metadata": {},
   "outputs": [],
   "source": [
    "from sklearn.model_selection import cross_val_score # 교차검증\n",
    "from sklearn.model_selection import StratifiedKFold"
   ]
  },
  {
   "cell_type": "code",
   "execution_count": 46,
   "metadata": {},
   "outputs": [],
   "source": [
    "skf = StratifiedKFold(n_splits= 5 , shuffle= True, random_state=0)"
   ]
  },
  {
   "cell_type": "code",
   "execution_count": 47,
   "metadata": {
    "scrolled": false
   },
   "outputs": [
    {
     "data": {
      "image/png": "[encoded data removed]",
      "text/plain": [
       "<Figure size 864x360 with 2 Axes>"
      ]
     },
     "metadata": {
      "needs_background": "light"
     },
     "output_type": "display_data"
    }
   ],
   "source": [
    "import mglearn\n",
    "mglearn.plots.plot_stratified_cross_validation()"
   ]
  },
  {
   "cell_type": "code",
   "execution_count": 48,
   "metadata": {
    "scrolled": false
   },
   "outputs": [
    {
     "name": "stderr",
     "output_type": "stream",
     "text": [
      "C:\\Users\\rhkdg\\Anaconda3\\lib\\site-packages\\sklearn\\linear_model\\logistic.py:432: FutureWarning: Default solver will be changed to 'lbfgs' in 0.22. Specify a solver to silence this warning.\n",
      "  FutureWarning)\n",
      "C:\\Users\\rhkdg\\Anaconda3\\lib\\site-packages\\numpy\\core\\fromnumeric.py:2389: FutureWarning: Method .ptp is deprecated and will be removed in a future version. Use numpy.ptp instead.\n",
      "  return ptp(axis=axis, out=out, **kwargs)\n",
      "C:\\Users\\rhkdg\\Anaconda3\\lib\\site-packages\\sklearn\\linear_model\\logistic.py:432: FutureWarning: Default solver will be changed to 'lbfgs' in 0.22. Specify a solver to silence this warning.\n",
      "  FutureWarning)\n"
     ]
    },
    {
     "name": "stdout",
     "output_type": "stream",
     "text": [
      "                            OLS Regression Results                            \n",
      "==============================================================================\n",
      "Dep. Variable:                  total   R-squared:                       0.049\n",
      "Model:                            OLS   Adj. R-squared:                  0.045\n",
      "Method:                 Least Squares   F-statistic:                     13.24\n",
      "Date:                Wed, 26 Aug 2020   Prob (F-statistic):          7.02e-115\n",
      "Time:                        16:41:14   Log-Likelihood:                -8434.3\n",
      "No. Observations:               14264   AIC:                         1.698e+04\n",
      "Df Residuals:                   14208   BIC:                         1.740e+04\n",
      "Df Model:                          55                                         \n",
      "Covariance Type:            nonrobust                                         \n",
      "=====================================================================================\n",
      "                        coef    std err          t      P>|t|      [0.025      0.975]\n",
      "-------------------------------------------------------------------------------------\n",
      "const                 0.2783      0.004     75.883      0.000       0.271       0.285\n",
      "A1                    0.0349      0.006      5.413      0.000       0.022       0.047\n",
      "A3_1                  0.0201      0.005      3.669      0.000       0.009       0.031\n",
      "A3_2                  0.0019      0.006      0.318      0.751      -0.010       0.014\n",
      "A3_3                  0.0100      0.004      2.413      0.016       0.002       0.018\n",
      "A3_4                 -0.0127      0.005     -2.668      0.008      -0.022      -0.003\n",
      "A3_6                 -0.0133      0.006     -2.265      0.024      -0.025      -0.002\n",
      "A3_7                  0.0045      0.004      1.131      0.258      -0.003       0.012\n",
      "A3_8                  0.0021      0.005      0.467      0.641      -0.007       0.011\n",
      "A3_9                  0.0098      0.004      2.350      0.019       0.002       0.018\n",
      "A3_11                 0.0379      0.004      8.857      0.000       0.030       0.046\n",
      "A3_15                 0.0364      0.004      8.410      0.000       0.028       0.045\n",
      "A3_17                 0.0069      0.004      1.701      0.089      -0.001       0.015\n",
      "A3_18                 0.0089      0.005      1.965      0.049     2.4e-05       0.018\n",
      "A3_19                -0.0078      0.004     -2.088      0.037      -0.015      -0.000\n",
      "A3_21                 0.0181      0.004      4.678      0.000       0.011       0.026\n",
      "A6_4                  0.0150      0.004      3.842      0.000       0.007       0.023\n",
      "A6_5                  0.0052      0.004      1.409      0.159      -0.002       0.012\n",
      "A6_8                  0.0063      0.004      1.696      0.090      -0.001       0.014\n",
      "A6_9                  0.0028      0.004      0.741      0.459      -0.005       0.010\n",
      "A6_12                -0.0009      0.004     -0.221      0.825      -0.009       0.007\n",
      "D_TRA1_S_Day          0.0105      0.008      1.248      0.212      -0.006       0.027\n",
      "D_TRA1_COST          -0.0192      0.006     -3.336      0.001      -0.030      -0.008\n",
      "A10A                 -0.0250      0.010     -2.541      0.011      -0.044      -0.006\n",
      "A10C                 -0.0051      0.013     -0.383      0.702      -0.031       0.021\n",
      "A10D                 -0.0097      0.017     -0.555      0.579      -0.044       0.024\n",
      "A10E                  0.0092      0.011      0.855      0.392      -0.012       0.030\n",
      "A10F                  0.0202      0.006      3.312      0.001       0.008       0.032\n",
      "A10G                  0.0102      0.007      1.450      0.147      -0.004       0.024\n",
      "A10I                 -0.0097      0.004     -2.625      0.009      -0.017      -0.002\n",
      "A10                   0.0161      0.035      0.459      0.646      -0.053       0.085\n",
      "DQ6A                 -0.0086      0.004     -2.185      0.029      -0.016      -0.001\n",
      "Ncost                -0.0019      0.011     -0.182      0.855      -0.023       0.019\n",
      "DNcost                0.0061      0.009      0.712      0.477      -0.011       0.023\n",
      "A3sum                 0.0149      0.010      1.498      0.134      -0.005       0.034\n",
      "D_TRA1_SMONTH_8.0    -0.0124      0.004     -3.323      0.001      -0.020      -0.005\n",
      "D_TRA1_SMONTH_9.0    -0.0086      0.004     -2.322      0.020      -0.016      -0.001\n",
      "A2_1_1.0              0.0126      0.004      2.966      0.003       0.004       0.021\n",
      "A2_1_10.0             0.0082      0.004      2.184      0.029       0.001       0.016\n",
      "A2_1_11.0            -0.0089      0.004     -2.271      0.023      -0.017      -0.001\n",
      "A2_1_14.0             0.0113      0.004      2.794      0.005       0.003       0.019\n",
      "A2_1_3.0             -0.0081      0.004     -2.067      0.039      -0.016      -0.000\n",
      "A2_1_4.0             -0.0130      0.004     -3.161      0.002      -0.021      -0.005\n",
      "A2_1_5.0              0.0063      0.004      1.550      0.121      -0.002       0.014\n",
      "A2_1_8.0             -0.0052      0.004     -1.282      0.200      -0.013       0.003\n",
      "A2_1_9.0             -0.0076      0.004     -1.982      0.048      -0.015    -8.3e-05\n",
      "A4_1_5.0              0.0073      0.005      1.398      0.162      -0.003       0.017\n",
      "A4_1_6.0              0.0116      0.004      3.086      0.002       0.004       0.019\n",
      "A4_1_7.0              0.0302      0.005      5.882      0.000       0.020       0.040\n",
      "A4_1_8.0              0.0111      0.005      2.304      0.021       0.002       0.021\n",
      "A4_1_9.0              0.0094      0.004      2.566      0.010       0.002       0.017\n",
      "A5_1_1.0              0.0035      0.004      0.798      0.425      -0.005       0.012\n",
      "A5_1_3.0              0.0015      0.004      0.373      0.709      -0.006       0.009\n",
      "A5_1_4.0              0.0060      0.004      1.609      0.108      -0.001       0.013\n",
      "A5_1_7.0              0.0022      0.004      0.534      0.594      -0.006       0.010\n",
      "BAGE_1                0.0062      0.004      1.593      0.111      -0.001       0.014\n",
      "==============================================================================\n",
      "Omnibus:                     3257.254   Durbin-Watson:                   1.356\n",
      "Prob(Omnibus):                  0.000   Jarque-Bera (JB):             2569.638\n",
      "Skew:                           0.944   Prob(JB):                         0.00\n",
      "Kurtosis:                       2.128   Cond. No.                         26.5\n",
      "==============================================================================\n",
      "\n",
      "Warnings:\n",
      "[1] Standard Errors assume that the covariance matrix of the errors is correctly specified.\n"
     ]
    },
    {
     "name": "stderr",
     "output_type": "stream",
     "text": [
      "C:\\Users\\rhkdg\\Anaconda3\\lib\\site-packages\\sklearn\\linear_model\\logistic.py:432: FutureWarning: Default solver will be changed to 'lbfgs' in 0.22. Specify a solver to silence this warning.\n",
      "  FutureWarning)\n",
      "C:\\Users\\rhkdg\\Anaconda3\\lib\\site-packages\\sklearn\\linear_model\\logistic.py:432: FutureWarning: Default solver will be changed to 'lbfgs' in 0.22. Specify a solver to silence this warning.\n",
      "  FutureWarning)\n",
      "C:\\Users\\rhkdg\\Anaconda3\\lib\\site-packages\\sklearn\\linear_model\\logistic.py:432: FutureWarning: Default solver will be changed to 'lbfgs' in 0.22. Specify a solver to silence this warning.\n",
      "  FutureWarning)\n",
      "C:\\Users\\rhkdg\\Anaconda3\\lib\\site-packages\\sklearn\\linear_model\\logistic.py:432: FutureWarning: Default solver will be changed to 'lbfgs' in 0.22. Specify a solver to silence this warning.\n",
      "  FutureWarning)\n"
     ]
    },
    {
     "name": "stdout",
     "output_type": "stream",
     "text": [
      "score : 0.7260937897117722\n"
     ]
    }
   ],
   "source": [
    "from sklearn.linear_model import LogisticRegression\n",
    "from sklearn import metrics\n",
    "import statsmodels.api as sm\n",
    "'''\n",
    "Statsmodels 패키지는 검정 및 추정(test and estimation), 회귀분석(regression analysis), \n",
    "시계열 분석(time - series analysis) 등의 기능을 제공하는 파이썬 패키지이다.\n",
    "'''\n",
    "\n",
    "log_reg = LogisticRegression()\n",
    "\n",
    "log_reg.fit(X, y)\n",
    "x2 = sm.add_constant(X)\n",
    "model = sm.OLS(y, x2)\n",
    "result = model.fit()\n",
    "print(result.summary())\n",
    "\n",
    "print(f'score : {cross_val_score(log_reg, X, y, cv=skf).mean()}')\n",
    "\n"
   ]
  },
  {
   "cell_type": "markdown",
   "metadata": {},
   "source": [
    "https://myjamong.tistory.com/80"
   ]
  },
  {
   "cell_type": "code",
   "execution_count": 49,
   "metadata": {},
   "outputs": [],
   "source": [
    "f_ = ['A3_7', 'A3_8', 'A3_21','A6_5', 'A6_9', 'A6_12', 'D_TRA1_COST','A10C', 'A10D', 'A10E', 'A10G', 'A10I' ,'A10', 'DQ6A', 'Ncost', 'DNcost']"
   ]
  },
  {
   "cell_type": "code",
   "execution_count": 50,
   "metadata": {},
   "outputs": [],
   "source": [
    "ob_ = ['A2_1_3.0', 'A2_1_5.0', 'A2_1_8.0', 'A4_1_5.0', 'A5_1_1.0', 'A5_1_3.0', 'A5_1_4.0', 'A5_1_7.0']"
   ]
  },
  {
   "cell_type": "code",
   "execution_count": 51,
   "metadata": {},
   "outputs": [
    {
     "data": {
      "text/plain": [
       "['A1',\n",
       " 'A3_1',\n",
       " 'A3_2',\n",
       " 'A3_3',\n",
       " 'A3_4',\n",
       " 'A3_6',\n",
       " 'A3_7',\n",
       " 'A3_8',\n",
       " 'A3_9',\n",
       " 'A3_11',\n",
       " 'A3_15',\n",
       " 'A3_17',\n",
       " 'A3_18',\n",
       " 'A3_19',\n",
       " 'A3_21',\n",
       " 'A6_4',\n",
       " 'A6_5',\n",
       " 'A6_8',\n",
       " 'A6_9',\n",
       " 'A6_12',\n",
       " 'D_TRA1_S_Day',\n",
       " 'D_TRA1_COST',\n",
       " 'A10A',\n",
       " 'A10C',\n",
       " 'A10D',\n",
       " 'A10E',\n",
       " 'A10F',\n",
       " 'A10G',\n",
       " 'A10I',\n",
       " 'A10',\n",
       " 'DQ6A',\n",
       " 'Ncost',\n",
       " 'DNcost',\n",
       " 'A3sum']"
      ]
     },
     "execution_count": 51,
     "metadata": {},
     "output_type": "execute_result"
    }
   ],
   "source": [
    "feature"
   ]
  },
  {
   "cell_type": "code",
   "execution_count": 52,
   "metadata": {},
   "outputs": [
    {
     "data": {
      "text/plain": [
       "['A1',\n",
       " 'A3_1',\n",
       " 'A3_2',\n",
       " 'A3_3',\n",
       " 'A3_4',\n",
       " 'A3_6',\n",
       " 'A3_9',\n",
       " 'A3_11',\n",
       " 'A3_15',\n",
       " 'A3_17',\n",
       " 'A3_18',\n",
       " 'A3_19',\n",
       " 'A6_4',\n",
       " 'A6_8',\n",
       " 'D_TRA1_S_Day',\n",
       " 'A10A',\n",
       " 'A10F',\n",
       " 'A3sum']"
      ]
     },
     "execution_count": 52,
     "metadata": {},
     "output_type": "execute_result"
    }
   ],
   "source": [
    "for i in f_:\n",
    "    feature.remove(i)\n",
    "feature"
   ]
  },
  {
   "cell_type": "code",
   "execution_count": 53,
   "metadata": {},
   "outputs": [
    {
     "data": {
      "text/plain": [
       "['D_TRA1_SMONTH_8.0',\n",
       " 'D_TRA1_SMONTH_9.0',\n",
       " 'A2_1_1.0',\n",
       " 'A2_1_10.0',\n",
       " 'A2_1_11.0',\n",
       " 'A2_1_14.0',\n",
       " 'A2_1_4.0',\n",
       " 'A2_1_9.0',\n",
       " 'A4_1_6.0',\n",
       " 'A4_1_7.0',\n",
       " 'A4_1_8.0',\n",
       " 'A4_1_9.0',\n",
       " 'BAGE_1']"
      ]
     },
     "execution_count": 53,
     "metadata": {},
     "output_type": "execute_result"
    }
   ],
   "source": [
    "for i in ob_:\n",
    "    obfeature.remove(i)\n",
    "obfeature"
   ]
  },
  {
   "cell_type": "code",
   "execution_count": 54,
   "metadata": {},
   "outputs": [],
   "source": [
    "feature.remove('A3_9')\n",
    "feature.remove('A3_2')\n",
    "feature.remove('A3_17')\n",
    "feature.remove('A3_18')\n",
    "feature.remove('D_TRA1_S_Day')"
   ]
  },
  {
   "cell_type": "code",
   "execution_count": 55,
   "metadata": {},
   "outputs": [],
   "source": [
    "X=pd.DataFrame()\n",
    "for i in feature:\n",
    "    X[i] = data[i]\n",
    "    \n",
    "for i in obfeature:\n",
    "    X[i] = obdata[i]\n",
    "\n",
    "y = data['total']"
   ]
  },
  {
   "cell_type": "code",
   "execution_count": 56,
   "metadata": {},
   "outputs": [],
   "source": [
    "from sklearn.preprocessing import StandardScaler\n",
    "scaler = StandardScaler()\n",
    "for i in X.dtypes.index:\n",
    "    X[i] = scaler.fit_transform(pd.DataFrame(X[i]))"
   ]
  },
  {
   "cell_type": "code",
   "execution_count": 57,
   "metadata": {},
   "outputs": [],
   "source": [
    "from sklearn.model_selection import train_test_split\n",
    "\n",
    "X_train, X_test, y_train, y_test = train_test_split(X, y,\n",
    "                                                    random_state=1)"
   ]
  },
  {
   "cell_type": "code",
   "execution_count": 58,
   "metadata": {
    "scrolled": false
   },
   "outputs": [
    {
     "name": "stderr",
     "output_type": "stream",
     "text": [
      "C:\\Users\\rhkdg\\Anaconda3\\lib\\site-packages\\sklearn\\linear_model\\logistic.py:432: FutureWarning: Default solver will be changed to 'lbfgs' in 0.22. Specify a solver to silence this warning.\n",
      "  FutureWarning)\n",
      "C:\\Users\\rhkdg\\Anaconda3\\lib\\site-packages\\numpy\\core\\fromnumeric.py:2389: FutureWarning: Method .ptp is deprecated and will be removed in a future version. Use numpy.ptp instead.\n",
      "  return ptp(axis=axis, out=out, **kwargs)\n"
     ]
    },
    {
     "name": "stdout",
     "output_type": "stream",
     "text": [
      "                            OLS Regression Results                            \n",
      "==============================================================================\n",
      "Dep. Variable:                  total   R-squared:                       0.042\n",
      "Model:                            OLS   Adj. R-squared:                  0.041\n",
      "Method:                 Least Squares   F-statistic:                     24.28\n",
      "Date:                Wed, 26 Aug 2020   Prob (F-statistic):          9.79e-114\n",
      "Time:                        16:41:19   Log-Likelihood:                -8481.3\n",
      "No. Observations:               14264   AIC:                         1.702e+04\n",
      "Df Residuals:                   14237   BIC:                         1.722e+04\n",
      "Df Model:                          26                                         \n",
      "Covariance Type:            nonrobust                                         \n",
      "=====================================================================================\n",
      "                        coef    std err          t      P>|t|      [0.025      0.975]\n",
      "-------------------------------------------------------------------------------------\n",
      "const                 0.2783      0.004     75.711      0.000       0.271       0.285\n",
      "A1                    0.0357      0.006      5.814      0.000       0.024       0.048\n",
      "A3_1                  0.0125      0.004      3.059      0.002       0.004       0.021\n",
      "A3_3                  0.0074      0.004      1.921      0.055      -0.000       0.015\n",
      "A3_4                 -0.0178      0.004     -4.488      0.000      -0.026      -0.010\n",
      "A3_6                 -0.0196      0.004     -4.685      0.000      -0.028      -0.011\n",
      "A3_11                 0.0343      0.004      8.957      0.000       0.027       0.042\n",
      "A3_15                 0.0342      0.004      8.732      0.000       0.027       0.042\n",
      "A3_19                -0.0086      0.004     -2.340      0.019      -0.016      -0.001\n",
      "A6_4                  0.0158      0.004      4.235      0.000       0.008       0.023\n",
      "A6_8                  0.0063      0.004      1.719      0.086      -0.001       0.014\n",
      "A10A                 -0.0226      0.006     -3.688      0.000      -0.035      -0.011\n",
      "A10F                  0.0206      0.004      5.258      0.000       0.013       0.028\n",
      "A3sum                 0.0316      0.005      6.329      0.000       0.022       0.041\n",
      "D_TRA1_SMONTH_8.0    -0.0110      0.004     -2.967      0.003      -0.018      -0.004\n",
      "D_TRA1_SMONTH_9.0    -0.0079      0.004     -2.132      0.033      -0.015      -0.001\n",
      "A2_1_1.0              0.0143      0.004      3.699      0.000       0.007       0.022\n",
      "A2_1_10.0             0.0077      0.004      2.081      0.037       0.000       0.015\n",
      "A2_1_11.0            -0.0074      0.004     -1.973      0.049      -0.015   -4.73e-05\n",
      "A2_1_14.0             0.0123      0.004      3.231      0.001       0.005       0.020\n",
      "A2_1_4.0             -0.0133      0.004     -3.484      0.000      -0.021      -0.006\n",
      "A2_1_9.0             -0.0069      0.004     -1.850      0.064      -0.014       0.000\n",
      "A4_1_6.0              0.0106      0.004      2.860      0.004       0.003       0.018\n",
      "A4_1_7.0              0.0258      0.004      6.700      0.000       0.018       0.033\n",
      "A4_1_8.0              0.0071      0.004      1.807      0.071      -0.001       0.015\n",
      "A4_1_9.0              0.0089      0.004      2.414      0.016       0.002       0.016\n",
      "BAGE_1                0.0079      0.004      2.149      0.032       0.001       0.015\n",
      "==============================================================================\n",
      "Omnibus:                     3390.853   Durbin-Watson:                   1.351\n",
      "Prob(Omnibus):                  0.000   Jarque-Bera (JB):             2621.229\n",
      "Skew:                           0.952   Prob(JB):                         0.00\n",
      "Kurtosis:                       2.114   Cond. No.                         3.12\n",
      "==============================================================================\n",
      "\n",
      "Warnings:\n",
      "[1] Standard Errors assume that the covariance matrix of the errors is correctly specified.\n"
     ]
    },
    {
     "name": "stderr",
     "output_type": "stream",
     "text": [
      "C:\\Users\\rhkdg\\Anaconda3\\lib\\site-packages\\sklearn\\linear_model\\logistic.py:432: FutureWarning: Default solver will be changed to 'lbfgs' in 0.22. Specify a solver to silence this warning.\n",
      "  FutureWarning)\n",
      "C:\\Users\\rhkdg\\Anaconda3\\lib\\site-packages\\sklearn\\linear_model\\logistic.py:432: FutureWarning: Default solver will be changed to 'lbfgs' in 0.22. Specify a solver to silence this warning.\n",
      "  FutureWarning)\n",
      "C:\\Users\\rhkdg\\Anaconda3\\lib\\site-packages\\sklearn\\linear_model\\logistic.py:432: FutureWarning: Default solver will be changed to 'lbfgs' in 0.22. Specify a solver to silence this warning.\n",
      "  FutureWarning)\n",
      "C:\\Users\\rhkdg\\Anaconda3\\lib\\site-packages\\sklearn\\linear_model\\logistic.py:432: FutureWarning: Default solver will be changed to 'lbfgs' in 0.22. Specify a solver to silence this warning.\n",
      "  FutureWarning)\n",
      "C:\\Users\\rhkdg\\Anaconda3\\lib\\site-packages\\sklearn\\linear_model\\logistic.py:432: FutureWarning: Default solver will be changed to 'lbfgs' in 0.22. Specify a solver to silence this warning.\n",
      "  FutureWarning)\n"
     ]
    },
    {
     "name": "stdout",
     "output_type": "stream",
     "text": [
      "score : 0.7265842308654703\n"
     ]
    }
   ],
   "source": [
    "log_reg = LogisticRegression(C=100)\n",
    "\n",
    "log_reg.fit(X, y)\n",
    "x2 = sm.add_constant(X)\n",
    "model = sm.OLS(y, x2)\n",
    "result = model.fit()\n",
    "print(result.summary())\n",
    "\n",
    "print(f'score : {cross_val_score(log_reg, X, y, cv=skf).mean()}')"
   ]
  },
  {
   "cell_type": "code",
   "execution_count": 59,
   "metadata": {},
   "outputs": [
    {
     "name": "stdout",
     "output_type": "stream",
     "text": [
      "              precision    recall  f1-score   support\n",
      "\n",
      "           0       0.73      0.98      0.84     10295\n",
      "           1       0.59      0.07      0.12      3969\n",
      "\n",
      "    accuracy                           0.73     14264\n",
      "   macro avg       0.66      0.52      0.48     14264\n",
      "weighted avg       0.69      0.73      0.64     14264\n",
      "\n"
     ]
    }
   ],
   "source": [
    "from sklearn.metrics import classification_report\n",
    "y_pred=log_reg.predict(X)\n",
    "print(classification_report(y, y_pred))"
   ]
  },
  {
   "cell_type": "markdown",
   "metadata": {},
   "source": [
    "https://no17.tistory.com/202"
   ]
  },
  {
   "cell_type": "code",
   "execution_count": null,
   "metadata": {},
   "outputs": [],
   "source": []
  },
  {
   "cell_type": "code",
   "execution_count": null,
   "metadata": {},
   "outputs": [],
   "source": [
    "from sklearn.ensemble import RandomForestClassifier\n",
    "from sklearn.model_selection import train_test_split\n",
    "import matplotlib.pyplot as plt\n",
    "import mglearn\n",
    "import numpy as np\n",
    "\n",
    "\n",
    "# 훈련/테스트 세트로 나누기\n",
    "\n",
    "forest = RandomForestClassifier(n_estimators=100,                          \n",
    "                                max_features = 0.8,\n",
    "                                max_depth = 15,\n",
    "                                n_jobs = -1,\n",
    "                                random_state = 0)\n",
    "forest.fit(X_train,y_train)\n",
    "\n",
    "\n",
    "\n",
    "print(\"훈련 세트 정확도 : {:.3f}\".format(forest.score(X_train,y_train)))\n",
    "print(\"테스트 세트 정확도 : {:.3f}\".format(forest.score(X_test,y_test)))\n",
    "print(f'score : {cross_val_score(forest, X, y, cv=skf).mean()}')\n",
    "\n",
    "\n",
    "# 특성 중요도\n",
    "print(\"특성 중요도 : \\n{}\".format(forest.feature_importances_))\n",
    "\n",
    "# 특성 중요도 시각화 하기\n",
    "\n",
    "def plot_feature_importances_cancer(model):\n",
    "    n_features = X.shape[1]\n",
    "    plt.figure(figsize=(15,10))\n",
    "    plt.barh(range(n_features), model.feature_importances_, align='center')\n",
    "    plt.yticks(np.arange(n_features), X.dtypes.index)\n",
    "    plt.xlabel(\"attr importances\")\n",
    "    plt.ylabel(\"attr\")\n",
    "    plt.ylim(-1, n_features)\n",
    "plt.show()\n",
    "\n",
    "\n",
    "\n",
    "plot_feature_importances_cancer(forest)"
   ]
  },
  {
   "cell_type": "code",
   "execution_count": null,
   "metadata": {},
   "outputs": [],
   "source": []
  },
  {
   "cell_type": "code",
   "execution_count": null,
   "metadata": {},
   "outputs": [],
   "source": [
    "sort_spo = spot.value_counts()\n",
    "sort_data = pd.DataFrame({'count' : sort_spo})\n",
    "sort_data.to_csv('방문지.csv',encoding='euc-kr')"
   ]
  },
  {
   "cell_type": "code",
   "execution_count": null,
   "metadata": {},
   "outputs": [],
   "source": [
    "satis = data.groupby('D_TRA1_1_SPOT1').mean()['total']\n",
    "sort_satis = pd.DataFrame({'satisfaction' : satis})\n",
    "sort_satis.to_csv('만족도.csv',encoding='euc-kr')"
   ]
  },
  {
   "cell_type": "code",
   "execution_count": null,
   "metadata": {
    "scrolled": false
   },
   "outputs": [],
   "source": [
    "datas = data.groupby('D_TRA1_1_SPOT1').mean()"
   ]
  },
  {
   "cell_type": "code",
   "execution_count": null,
   "metadata": {},
   "outputs": [],
   "source": [
    "X_spot=pd.DataFrame()\n",
    "for i in feature:\n",
    "    X_spot[i] = datas[i]"
   ]
  },
  {
   "cell_type": "code",
   "execution_count": null,
   "metadata": {},
   "outputs": [],
   "source": [
    "temp=pd.DataFrame()\n",
    "temp['D_TRA1_1_SPOT1'] = data['D_TRA1_1_SPOT1']\n",
    "for i in lst:\n",
    "    temp[i]=data[i]\n",
    "\n",
    "temp = pd.get_dummies(temp)\n",
    "temp = temp.groupby('D_TRA1_1_SPOT1').mean()\n",
    "\n",
    "obdatas = pd.DataFrame()\n",
    "for i in obfeature:\n",
    "    obdatas[i] = temp[i]"
   ]
  },
  {
   "cell_type": "code",
   "execution_count": null,
   "metadata": {},
   "outputs": [],
   "source": [
    "X_spot = pd.concat([X_spot,obdatas],axis=1,sort=False)"
   ]
  },
  {
   "cell_type": "code",
   "execution_count": null,
   "metadata": {},
   "outputs": [],
   "source": [
    "X_spot.to_csv('입력.csv')"
   ]
  },
  {
   "cell_type": "code",
   "execution_count": null,
   "metadata": {},
   "outputs": [],
   "source": [
    "y_pred = pd.DataFrame(log_reg.predict_proba(X_spot))[1]"
   ]
  },
  {
   "cell_type": "code",
   "execution_count": null,
   "metadata": {},
   "outputs": [],
   "source": [
    "y_pred.to_csv('예측.csv')"
   ]
  },
  {
   "cell_type": "code",
   "execution_count": null,
   "metadata": {},
   "outputs": [],
   "source": []
  },
  {
   "cell_type": "code",
   "execution_count": null,
   "metadata": {},
   "outputs": [],
   "source": []
  },
  {
   "cell_type": "code",
   "execution_count": null,
   "metadata": {},
   "outputs": [],
   "source": []
  },
  {
   "cell_type": "markdown",
   "metadata": {},
   "source": [
    "# 결과 분석"
   ]
  },
  {
   "cell_type": "code",
   "execution_count": 2,
   "metadata": {},
   "outputs": [],
   "source": [
    "finaldata = pd.read_csv('SatisCount.csv', encoding='euc-kr')"
   ]
  },
  {
   "cell_type": "code",
   "execution_count": 3,
   "metadata": {},
   "outputs": [],
   "source": [
    "finaldata = finaldata[(finaldata['count']<30)==False]"
   ]
  },
  {
   "cell_type": "code",
   "execution_count": 4,
   "metadata": {},
   "outputs": [],
   "source": [
    "finaldata['dosi']=finaldata['spot']//1000"
   ]
  },
  {
   "cell_type": "code",
   "execution_count": 5,
   "metadata": {},
   "outputs": [],
   "source": [
    "finaldata['dosi'] = finaldata['dosi'].map({\n",
    "    11:'서울',\n",
    "    21:'부산',\n",
    "    22:'대구',\n",
    "    23:'인천',\n",
    "    24:'광주',\n",
    "    25:'대전',\n",
    "    26:'울산',\n",
    "    29:'세종',\n",
    "    31:'경기',\n",
    "    32:'강원',\n",
    "    33:'충북',\n",
    "    34:'충남',\n",
    "    35:'전북',\n",
    "    36:'전남',\n",
    "    37:'경북',\n",
    "    38:'경남',\n",
    "    39:'제주'\n",
    "    \n",
    "})"
   ]
  },
  {
   "cell_type": "code",
   "execution_count": 6,
   "metadata": {},
   "outputs": [
    {
     "data": {
      "text/html": [
       "<div>\n",
       "<style scoped>\n",
       "    .dataframe tbody tr th:only-of-type {\n",
       "        vertical-align: middle;\n",
       "    }\n",
       "\n",
       "    .dataframe tbody tr th {\n",
       "        vertical-align: top;\n",
       "    }\n",
       "\n",
       "    .dataframe thead th {\n",
       "        text-align: right;\n",
       "    }\n",
       "</style>\n",
       "<table border=\"1\" class=\"dataframe\">\n",
       "  <thead>\n",
       "    <tr style=\"text-align: right;\">\n",
       "      <th></th>\n",
       "      <th>spot</th>\n",
       "      <th>count</th>\n",
       "      <th>satis</th>\n",
       "    </tr>\n",
       "  </thead>\n",
       "  <tbody>\n",
       "    <tr>\n",
       "      <th>spot</th>\n",
       "      <td>1.000000</td>\n",
       "      <td>0.166646</td>\n",
       "      <td>-0.095659</td>\n",
       "    </tr>\n",
       "    <tr>\n",
       "      <th>count</th>\n",
       "      <td>0.166646</td>\n",
       "      <td>1.000000</td>\n",
       "      <td>0.000093</td>\n",
       "    </tr>\n",
       "    <tr>\n",
       "      <th>satis</th>\n",
       "      <td>-0.095659</td>\n",
       "      <td>0.000093</td>\n",
       "      <td>1.000000</td>\n",
       "    </tr>\n",
       "  </tbody>\n",
       "</table>\n",
       "</div>"
      ],
      "text/plain": [
       "           spot     count     satis\n",
       "spot   1.000000  0.166646 -0.095659\n",
       "count  0.166646  1.000000  0.000093\n",
       "satis -0.095659  0.000093  1.000000"
      ]
     },
     "execution_count": 6,
     "metadata": {},
     "output_type": "execute_result"
    }
   ],
   "source": [
    "finaldata.corr()"
   ]
  },
  {
   "cell_type": "code",
   "execution_count": 7,
   "metadata": {},
   "outputs": [],
   "source": [
    "from sklearn.preprocessing import StandardScaler\n",
    "scaler = StandardScaler()\n",
    "finaldata['satis'] = scaler.fit_transform(pd.DataFrame(finaldata['satis']))"
   ]
  },
  {
   "cell_type": "code",
   "execution_count": 10,
   "metadata": {},
   "outputs": [
    {
     "data": {
      "text/plain": [
       "<matplotlib.lines.Line2D at 0x27d04b2ab00>"
      ]
     },
     "execution_count": 10,
     "metadata": {},
     "output_type": "execute_result"
    },
    {
     "name": "stderr",
     "output_type": "stream",
     "text": [
      "C:\\Users\\rhkdg\\Anaconda3\\lib\\site-packages\\matplotlib\\backends\\backend_agg.py:211: RuntimeWarning: Glyph 8722 missing from current font.\n",
      "  font.set_text(s, 0.0, flags=flags)\n",
      "C:\\Users\\rhkdg\\Anaconda3\\lib\\site-packages\\matplotlib\\backends\\backend_agg.py:180: RuntimeWarning: Glyph 8722 missing from current font.\n",
      "  font.set_text(s, 0, flags=flags)\n"
     ]
    },
    {
     "data": {
      "image/png": "[encoded data removed]",
      "text/plain": [
       "<Figure size 1440x936 with 1 Axes>"
      ]
     },
     "metadata": {
      "needs_background": "light"
     },
     "output_type": "display_data"
    }
   ],
   "source": [
    "plt.figure(figsize=(20,13))\n",
    "sns.scatterplot(x='count',y='satis',hue='dosi',data=finaldata,size_order=10,s=100 )\n",
    "plt.axvline(finaldata['count'].quantile(0.75), color='g', linewidth=1)\n",
    "\n",
    "plt.axhline(finaldata['satis'].quantile(0.75),color='g',linewidth=1)"
   ]
  },
  {
   "cell_type": "code",
   "execution_count": 67,
   "metadata": {},
   "outputs": [
    {
     "data": {
      "text/html": [
       "<div>\n",
       "<style scoped>\n",
       "    .dataframe tbody tr th:only-of-type {\n",
       "        vertical-align: middle;\n",
       "    }\n",
       "\n",
       "    .dataframe tbody tr th {\n",
       "        vertical-align: top;\n",
       "    }\n",
       "\n",
       "    .dataframe thead th {\n",
       "        text-align: right;\n",
       "    }\n",
       "</style>\n",
       "<table border=\"1\" class=\"dataframe\">\n",
       "  <thead>\n",
       "    <tr style=\"text-align: right;\">\n",
       "      <th></th>\n",
       "      <th>spot</th>\n",
       "      <th>count</th>\n",
       "      <th>satis</th>\n",
       "      <th>urban</th>\n",
       "      <th>dosi</th>\n",
       "    </tr>\n",
       "  </thead>\n",
       "  <tbody>\n",
       "    <tr>\n",
       "      <th>2</th>\n",
       "      <td>39020</td>\n",
       "      <td>590</td>\n",
       "      <td>0.173230</td>\n",
       "      <td>제주특별자치도서귀포시</td>\n",
       "      <td>제주</td>\n",
       "    </tr>\n",
       "    <tr>\n",
       "      <th>3</th>\n",
       "      <td>32060</td>\n",
       "      <td>573</td>\n",
       "      <td>-0.029162</td>\n",
       "      <td>강원도속초시</td>\n",
       "      <td>강원</td>\n",
       "    </tr>\n",
       "    <tr>\n",
       "      <th>4</th>\n",
       "      <td>36020</td>\n",
       "      <td>530</td>\n",
       "      <td>1.067804</td>\n",
       "      <td>전라남도여수시</td>\n",
       "      <td>전남</td>\n",
       "    </tr>\n",
       "    <tr>\n",
       "      <th>5</th>\n",
       "      <td>32030</td>\n",
       "      <td>491</td>\n",
       "      <td>-0.090541</td>\n",
       "      <td>강원도강릉시</td>\n",
       "      <td>강원</td>\n",
       "    </tr>\n",
       "    <tr>\n",
       "      <th>7</th>\n",
       "      <td>31370</td>\n",
       "      <td>349</td>\n",
       "      <td>0.039555</td>\n",
       "      <td>경기도가평군</td>\n",
       "      <td>경기</td>\n",
       "    </tr>\n",
       "    <tr>\n",
       "      <th>9</th>\n",
       "      <td>35010</td>\n",
       "      <td>342</td>\n",
       "      <td>0.003704</td>\n",
       "      <td>전라북도전주시</td>\n",
       "      <td>전북</td>\n",
       "    </tr>\n",
       "    <tr>\n",
       "      <th>10</th>\n",
       "      <td>38090</td>\n",
       "      <td>331</td>\n",
       "      <td>-0.074879</td>\n",
       "      <td>경상남도거제시</td>\n",
       "      <td>경남</td>\n",
       "    </tr>\n",
       "    <tr>\n",
       "      <th>12</th>\n",
       "      <td>38050</td>\n",
       "      <td>280</td>\n",
       "      <td>0.144940</td>\n",
       "      <td>경상남도통영시</td>\n",
       "      <td>경남</td>\n",
       "    </tr>\n",
       "    <tr>\n",
       "      <th>13</th>\n",
       "      <td>34380</td>\n",
       "      <td>279</td>\n",
       "      <td>0.543063</td>\n",
       "      <td>충청남도태안군</td>\n",
       "      <td>충남</td>\n",
       "    </tr>\n",
       "    <tr>\n",
       "      <th>14</th>\n",
       "      <td>38350</td>\n",
       "      <td>258</td>\n",
       "      <td>-0.032719</td>\n",
       "      <td>경상남도남해군</td>\n",
       "      <td>경남</td>\n",
       "    </tr>\n",
       "    <tr>\n",
       "      <th>17</th>\n",
       "      <td>36030</td>\n",
       "      <td>235</td>\n",
       "      <td>0.639892</td>\n",
       "      <td>전라남도순천시</td>\n",
       "      <td>전남</td>\n",
       "    </tr>\n",
       "    <tr>\n",
       "      <th>18</th>\n",
       "      <td>31190</td>\n",
       "      <td>208</td>\n",
       "      <td>0.438461</td>\n",
       "      <td>경기도용인시</td>\n",
       "      <td>경기</td>\n",
       "    </tr>\n",
       "    <tr>\n",
       "      <th>19</th>\n",
       "      <td>23310</td>\n",
       "      <td>183</td>\n",
       "      <td>-0.079949</td>\n",
       "      <td>인천광역시강화군</td>\n",
       "      <td>인천</td>\n",
       "    </tr>\n",
       "    <tr>\n",
       "      <th>20</th>\n",
       "      <td>35020</td>\n",
       "      <td>183</td>\n",
       "      <td>0.304559</td>\n",
       "      <td>전라북도군산시</td>\n",
       "      <td>전북</td>\n",
       "    </tr>\n",
       "    <tr>\n",
       "      <th>21</th>\n",
       "      <td>34020</td>\n",
       "      <td>169</td>\n",
       "      <td>0.597131</td>\n",
       "      <td>충청남도공주시</td>\n",
       "      <td>충남</td>\n",
       "    </tr>\n",
       "    <tr>\n",
       "      <th>22</th>\n",
       "      <td>36310</td>\n",
       "      <td>162</td>\n",
       "      <td>1.553371</td>\n",
       "      <td>전라남도담양군</td>\n",
       "      <td>전남</td>\n",
       "    </tr>\n",
       "    <tr>\n",
       "      <th>24</th>\n",
       "      <td>35380</td>\n",
       "      <td>158</td>\n",
       "      <td>1.803607</td>\n",
       "      <td>전라북도부안군</td>\n",
       "      <td>전북</td>\n",
       "    </tr>\n",
       "    <tr>\n",
       "      <th>25</th>\n",
       "      <td>35040</td>\n",
       "      <td>156</td>\n",
       "      <td>1.497079</td>\n",
       "      <td>전라북도정읍시</td>\n",
       "      <td>전북</td>\n",
       "    </tr>\n",
       "    <tr>\n",
       "      <th>26</th>\n",
       "      <td>36010</td>\n",
       "      <td>152</td>\n",
       "      <td>0.039555</td>\n",
       "      <td>전라남도목포시</td>\n",
       "      <td>전남</td>\n",
       "    </tr>\n",
       "    <tr>\n",
       "      <th>27</th>\n",
       "      <td>35330</td>\n",
       "      <td>151</td>\n",
       "      <td>0.304559</td>\n",
       "      <td>전라북도무주군</td>\n",
       "      <td>전북</td>\n",
       "    </tr>\n",
       "    <tr>\n",
       "      <th>31</th>\n",
       "      <td>36480</td>\n",
       "      <td>129</td>\n",
       "      <td>1.159746</td>\n",
       "      <td>전라남도신안군</td>\n",
       "      <td>전남</td>\n",
       "    </tr>\n",
       "    <tr>\n",
       "      <th>33</th>\n",
       "      <td>34370</td>\n",
       "      <td>126</td>\n",
       "      <td>0.165432</td>\n",
       "      <td>충청남도예산군</td>\n",
       "      <td>충남</td>\n",
       "    </tr>\n",
       "    <tr>\n",
       "      <th>35</th>\n",
       "      <td>11240</td>\n",
       "      <td>123</td>\n",
       "      <td>1.139323</td>\n",
       "      <td>서울특별시송파구</td>\n",
       "      <td>서울</td>\n",
       "    </tr>\n",
       "    <tr>\n",
       "      <th>37</th>\n",
       "      <td>35370</td>\n",
       "      <td>120</td>\n",
       "      <td>1.409394</td>\n",
       "      <td>전라북도고창군</td>\n",
       "      <td>전북</td>\n",
       "    </tr>\n",
       "    <tr>\n",
       "      <th>38</th>\n",
       "      <td>36360</td>\n",
       "      <td>119</td>\n",
       "      <td>0.486595</td>\n",
       "      <td>전라남도보성군</td>\n",
       "      <td>전남</td>\n",
       "    </tr>\n",
       "    <tr>\n",
       "      <th>45</th>\n",
       "      <td>34040</td>\n",
       "      <td>107</td>\n",
       "      <td>0.395295</td>\n",
       "      <td>충청남도아산시</td>\n",
       "      <td>충남</td>\n",
       "    </tr>\n",
       "    <tr>\n",
       "      <th>46</th>\n",
       "      <td>11230</td>\n",
       "      <td>107</td>\n",
       "      <td>0.983633</td>\n",
       "      <td>서울특별시강남구</td>\n",
       "      <td>서울</td>\n",
       "    </tr>\n",
       "    <tr>\n",
       "      <th>48</th>\n",
       "      <td>32070</td>\n",
       "      <td>105</td>\n",
       "      <td>0.076041</td>\n",
       "      <td>강원도삼척시</td>\n",
       "      <td>강원</td>\n",
       "    </tr>\n",
       "    <tr>\n",
       "      <th>49</th>\n",
       "      <td>32410</td>\n",
       "      <td>102</td>\n",
       "      <td>0.459145</td>\n",
       "      <td>강원도양양군</td>\n",
       "      <td>강원</td>\n",
       "    </tr>\n",
       "    <tr>\n",
       "      <th>50</th>\n",
       "      <td>38110</td>\n",
       "      <td>102</td>\n",
       "      <td>-0.074879</td>\n",
       "      <td>경상남도창원시</td>\n",
       "      <td>경남</td>\n",
       "    </tr>\n",
       "    <tr>\n",
       "      <th>52</th>\n",
       "      <td>34080</td>\n",
       "      <td>98</td>\n",
       "      <td>0.294138</td>\n",
       "      <td>충청남도당진시</td>\n",
       "      <td>충남</td>\n",
       "    </tr>\n",
       "    <tr>\n",
       "      <th>54</th>\n",
       "      <td>11010</td>\n",
       "      <td>97</td>\n",
       "      <td>0.346179</td>\n",
       "      <td>서울특별시종로구</td>\n",
       "      <td>서울</td>\n",
       "    </tr>\n",
       "    <tr>\n",
       "      <th>55</th>\n",
       "      <td>32020</td>\n",
       "      <td>95</td>\n",
       "      <td>-0.054853</td>\n",
       "      <td>강원도원주시</td>\n",
       "      <td>강원</td>\n",
       "    </tr>\n",
       "    <tr>\n",
       "      <th>60</th>\n",
       "      <td>36460</td>\n",
       "      <td>84</td>\n",
       "      <td>1.020656</td>\n",
       "      <td>전라남도완도군</td>\n",
       "      <td>전남</td>\n",
       "    </tr>\n",
       "    <tr>\n",
       "      <th>63</th>\n",
       "      <td>33320</td>\n",
       "      <td>83</td>\n",
       "      <td>0.504332</td>\n",
       "      <td>충청북도보은군</td>\n",
       "      <td>충북</td>\n",
       "    </tr>\n",
       "    <tr>\n",
       "      <th>65</th>\n",
       "      <td>34310</td>\n",
       "      <td>79</td>\n",
       "      <td>0.809848</td>\n",
       "      <td>충청남도금산군</td>\n",
       "      <td>충남</td>\n",
       "    </tr>\n",
       "    <tr>\n",
       "      <th>68</th>\n",
       "      <td>37360</td>\n",
       "      <td>77</td>\n",
       "      <td>0.076041</td>\n",
       "      <td>경상북도청도군</td>\n",
       "      <td>경북</td>\n",
       "    </tr>\n",
       "    <tr>\n",
       "      <th>70</th>\n",
       "      <td>24010</td>\n",
       "      <td>73</td>\n",
       "      <td>2.651035</td>\n",
       "      <td>광주광역시동구</td>\n",
       "      <td>광주</td>\n",
       "    </tr>\n",
       "    <tr>\n",
       "      <th>71</th>\n",
       "      <td>36320</td>\n",
       "      <td>72</td>\n",
       "      <td>1.335901</td>\n",
       "      <td>전라남도곡성군</td>\n",
       "      <td>전남</td>\n",
       "    </tr>\n",
       "    <tr>\n",
       "      <th>74</th>\n",
       "      <td>31250</td>\n",
       "      <td>68</td>\n",
       "      <td>-0.100308</td>\n",
       "      <td>경기도광주시</td>\n",
       "      <td>경기</td>\n",
       "    </tr>\n",
       "    <tr>\n",
       "      <th>76</th>\n",
       "      <td>38360</td>\n",
       "      <td>67</td>\n",
       "      <td>0.039555</td>\n",
       "      <td>경상남도하동군</td>\n",
       "      <td>경남</td>\n",
       "    </tr>\n",
       "    <tr>\n",
       "      <th>77</th>\n",
       "      <td>35050</td>\n",
       "      <td>67</td>\n",
       "      <td>0.359582</td>\n",
       "      <td>전라북도남원시</td>\n",
       "      <td>전북</td>\n",
       "    </tr>\n",
       "    <tr>\n",
       "      <th>82</th>\n",
       "      <td>36400</td>\n",
       "      <td>64</td>\n",
       "      <td>0.275575</td>\n",
       "      <td>전라남도해남군</td>\n",
       "      <td>전남</td>\n",
       "    </tr>\n",
       "    <tr>\n",
       "      <th>86</th>\n",
       "      <td>31110</td>\n",
       "      <td>62</td>\n",
       "      <td>0.132797</td>\n",
       "      <td>경기도과천시</td>\n",
       "      <td>경기</td>\n",
       "    </tr>\n",
       "    <tr>\n",
       "      <th>87</th>\n",
       "      <td>21010</td>\n",
       "      <td>62</td>\n",
       "      <td>0.530783</td>\n",
       "      <td>부산광역시중구</td>\n",
       "      <td>부산</td>\n",
       "    </tr>\n",
       "    <tr>\n",
       "      <th>89</th>\n",
       "      <td>31090</td>\n",
       "      <td>56</td>\n",
       "      <td>0.245536</td>\n",
       "      <td>경기도안산시</td>\n",
       "      <td>경기</td>\n",
       "    </tr>\n",
       "    <tr>\n",
       "      <th>92</th>\n",
       "      <td>36350</td>\n",
       "      <td>54</td>\n",
       "      <td>0.586847</td>\n",
       "      <td>전라남도고흥군</td>\n",
       "      <td>전남</td>\n",
       "    </tr>\n",
       "    <tr>\n",
       "      <th>94</th>\n",
       "      <td>35320</td>\n",
       "      <td>53</td>\n",
       "      <td>0.325639</td>\n",
       "      <td>전라북도진안군</td>\n",
       "      <td>전북</td>\n",
       "    </tr>\n",
       "    <tr>\n",
       "      <th>97</th>\n",
       "      <td>24050</td>\n",
       "      <td>52</td>\n",
       "      <td>2.693920</td>\n",
       "      <td>광주광역시광산구</td>\n",
       "      <td>광주</td>\n",
       "    </tr>\n",
       "    <tr>\n",
       "      <th>98</th>\n",
       "      <td>22070</td>\n",
       "      <td>51</td>\n",
       "      <td>0.214384</td>\n",
       "      <td>대구광역시달서구</td>\n",
       "      <td>대구</td>\n",
       "    </tr>\n",
       "    <tr>\n",
       "      <th>99</th>\n",
       "      <td>36440</td>\n",
       "      <td>51</td>\n",
       "      <td>0.334161</td>\n",
       "      <td>전라남도영광군</td>\n",
       "      <td>전남</td>\n",
       "    </tr>\n",
       "    <tr>\n",
       "      <th>102</th>\n",
       "      <td>36370</td>\n",
       "      <td>49</td>\n",
       "      <td>2.021450</td>\n",
       "      <td>전라남도화순군</td>\n",
       "      <td>전남</td>\n",
       "    </tr>\n",
       "  </tbody>\n",
       "</table>\n",
       "</div>"
      ],
      "text/plain": [
       "      spot  count     satis        urban dosi\n",
       "2    39020    590  0.173230  제주특별자치도서귀포시   제주\n",
       "3    32060    573 -0.029162       강원도속초시   강원\n",
       "4    36020    530  1.067804      전라남도여수시   전남\n",
       "5    32030    491 -0.090541       강원도강릉시   강원\n",
       "7    31370    349  0.039555       경기도가평군   경기\n",
       "9    35010    342  0.003704      전라북도전주시   전북\n",
       "10   38090    331 -0.074879      경상남도거제시   경남\n",
       "12   38050    280  0.144940      경상남도통영시   경남\n",
       "13   34380    279  0.543063      충청남도태안군   충남\n",
       "14   38350    258 -0.032719      경상남도남해군   경남\n",
       "17   36030    235  0.639892      전라남도순천시   전남\n",
       "18   31190    208  0.438461       경기도용인시   경기\n",
       "19   23310    183 -0.079949     인천광역시강화군   인천\n",
       "20   35020    183  0.304559      전라북도군산시   전북\n",
       "21   34020    169  0.597131      충청남도공주시   충남\n",
       "22   36310    162  1.553371      전라남도담양군   전남\n",
       "24   35380    158  1.803607      전라북도부안군   전북\n",
       "25   35040    156  1.497079      전라북도정읍시   전북\n",
       "26   36010    152  0.039555      전라남도목포시   전남\n",
       "27   35330    151  0.304559      전라북도무주군   전북\n",
       "31   36480    129  1.159746      전라남도신안군   전남\n",
       "33   34370    126  0.165432      충청남도예산군   충남\n",
       "35   11240    123  1.139323     서울특별시송파구   서울\n",
       "37   35370    120  1.409394      전라북도고창군   전북\n",
       "38   36360    119  0.486595      전라남도보성군   전남\n",
       "45   34040    107  0.395295      충청남도아산시   충남\n",
       "46   11230    107  0.983633     서울특별시강남구   서울\n",
       "48   32070    105  0.076041       강원도삼척시   강원\n",
       "49   32410    102  0.459145       강원도양양군   강원\n",
       "50   38110    102 -0.074879      경상남도창원시   경남\n",
       "52   34080     98  0.294138      충청남도당진시   충남\n",
       "54   11010     97  0.346179     서울특별시종로구   서울\n",
       "55   32020     95 -0.054853       강원도원주시   강원\n",
       "60   36460     84  1.020656      전라남도완도군   전남\n",
       "63   33320     83  0.504332      충청북도보은군   충북\n",
       "65   34310     79  0.809848      충청남도금산군   충남\n",
       "68   37360     77  0.076041      경상북도청도군   경북\n",
       "70   24010     73  2.651035      광주광역시동구   광주\n",
       "71   36320     72  1.335901      전라남도곡성군   전남\n",
       "74   31250     68 -0.100308       경기도광주시   경기\n",
       "76   38360     67  0.039555      경상남도하동군   경남\n",
       "77   35050     67  0.359582      전라북도남원시   전북\n",
       "82   36400     64  0.275575      전라남도해남군   전남\n",
       "86   31110     62  0.132797       경기도과천시   경기\n",
       "87   21010     62  0.530783      부산광역시중구   부산\n",
       "89   31090     56  0.245536       경기도안산시   경기\n",
       "92   36350     54  0.586847      전라남도고흥군   전남\n",
       "94   35320     53  0.325639      전라북도진안군   전북\n",
       "97   24050     52  2.693920     광주광역시광산구   광주\n",
       "98   22070     51  0.214384     대구광역시달서구   대구\n",
       "99   36440     51  0.334161      전라남도영광군   전남\n",
       "102  36370     49  2.021450      전라남도화순군   전남"
      ]
     },
     "execution_count": 67,
     "metadata": {},
     "output_type": "execute_result"
    }
   ],
   "source": [
    "finaldata[(finaldata['count'] > finaldata['count'].quantile(0.25))&(finaldata['satis'] > finaldata['satis'].quantile(0.5))]"
   ]
  },
  {
   "cell_type": "code",
   "execution_count": 68,
   "metadata": {},
   "outputs": [
    {
     "data": {
      "text/plain": [
       "(32330, 38330, 37070, 34360, 38340)"
      ]
     },
     "execution_count": 68,
     "metadata": {},
     "output_type": "execute_result"
    }
   ],
   "source": [
    "32330,38330,37070,34360,38340"
   ]
  },
  {
   "cell_type": "code",
   "execution_count": 69,
   "metadata": {},
   "outputs": [],
   "source": [
    "satis_spot = finaldata[(finaldata['satis'] > finaldata['satis'].quantile(0.8))]"
   ]
  },
  {
   "cell_type": "code",
   "execution_count": 70,
   "metadata": {},
   "outputs": [],
   "source": [
    "dis_satis_spot = finaldata[(finaldata['count'] < finaldata['count'].quantile(0.25))&(finaldata['satis'] < finaldata['satis'].quantile(0.25))]"
   ]
  },
  {
   "cell_type": "code",
   "execution_count": 71,
   "metadata": {},
   "outputs": [],
   "source": [
    "temp=pd.DataFrame()\n",
    "temp['D_TRA1_1_SPOT1'] = data['D_TRA1_1_SPOT1']\n",
    "for i in lst:\n",
    "    temp[i]=data[i]\n",
    "\n",
    "temp = pd.get_dummies(temp)\n",
    "temp = temp.groupby('D_TRA1_1_SPOT1').mean()\n",
    "\n",
    "obdatas = pd.DataFrame()\n",
    "for i in obfeature:\n",
    "    obdatas[i] = temp[i]\n",
    "    \n",
    "D=pd.DataFrame()\n",
    "for i in feature:\n",
    "    D[i] = data[i]\n",
    "    \n",
    "for i in obfeature:\n",
    "    D[i] = obdata[i]\n",
    "    \n",
    "D['spot']=data['D_TRA1_1_SPOT1']\n",
    "D_avg = D.groupby('spot').mean()"
   ]
  },
  {
   "cell_type": "code",
   "execution_count": 72,
   "metadata": {},
   "outputs": [],
   "source": [
    "satis_avg = pd.DataFrame(D_avg[D_avg.index ==21090])\n",
    "for i in satis_spot.spot:\n",
    "    satis_avg += D_avg[D_avg.index == i]"
   ]
  },
  {
   "cell_type": "code",
   "execution_count": 73,
   "metadata": {},
   "outputs": [],
   "source": [
    "u=pd.DataFrame()\n",
    "for i in satis_spot.spot:\n",
    "    j = D_avg[D_avg.index == i]\n",
    "    u = pd.concat([u,j])\n",
    "u1 = pd.DataFrame(u.mean())"
   ]
  },
  {
   "cell_type": "code",
   "execution_count": 74,
   "metadata": {},
   "outputs": [],
   "source": [
    "n=pd.DataFrame()\n",
    "for i in dis_satis_spot.spot:\n",
    "    j = D_avg[D_avg.index == i]\n",
    "    n = pd.concat([n,j])\n",
    "n1 = pd.DataFrame(n.mean())"
   ]
  },
  {
   "cell_type": "code",
   "execution_count": 75,
   "metadata": {},
   "outputs": [],
   "source": [
    "q = D_avg[D_avg.index == 32330].T\n",
    "w = D_avg[D_avg.index == 38330].T\n",
    "e = D_avg[D_avg.index == 37070].T\n",
    "r = D_avg[D_avg.index == 34360].T\n",
    "t = D_avg[D_avg.index == 38340].T"
   ]
  },
  {
   "cell_type": "code",
   "execution_count": 76,
   "metadata": {},
   "outputs": [],
   "source": [
    "kj= D_avg[D_avg.index == 34020].T\n",
    "sc= D_avg[D_avg.index == 36360].T\n",
    "dy= D_avg[D_avg.index == 36310].T"
   ]
  },
  {
   "cell_type": "code",
   "execution_count": 77,
   "metadata": {},
   "outputs": [],
   "source": [
    "last = pd.concat({'a만족':u1,'영월':q, '창녕':w, '영천':e,'홍성':r ,'고성':t},axis=1)"
   ]
  },
  {
   "cell_type": "code",
   "execution_count": 78,
   "metadata": {},
   "outputs": [
    {
     "data": {
      "text/html": [
       "<div>\n",
       "<style scoped>\n",
       "    .dataframe tbody tr th:only-of-type {\n",
       "        vertical-align: middle;\n",
       "    }\n",
       "\n",
       "    .dataframe tbody tr th {\n",
       "        vertical-align: top;\n",
       "    }\n",
       "\n",
       "    .dataframe thead tr th {\n",
       "        text-align: left;\n",
       "    }\n",
       "</style>\n",
       "<table border=\"1\" class=\"dataframe\">\n",
       "  <thead>\n",
       "    <tr>\n",
       "      <th></th>\n",
       "      <th>담양</th>\n",
       "      <th>영천</th>\n",
       "    </tr>\n",
       "    <tr>\n",
       "      <th>spot</th>\n",
       "      <th>36310.0</th>\n",
       "      <th>37070.0</th>\n",
       "    </tr>\n",
       "  </thead>\n",
       "  <tbody>\n",
       "    <tr>\n",
       "      <th>A1</th>\n",
       "      <td>0.006536</td>\n",
       "      <td>0.032258</td>\n",
       "    </tr>\n",
       "    <tr>\n",
       "      <th>A3_1</th>\n",
       "      <td>0.771242</td>\n",
       "      <td>0.709677</td>\n",
       "    </tr>\n",
       "    <tr>\n",
       "      <th>A3_3</th>\n",
       "      <td>0.013072</td>\n",
       "      <td>0.000000</td>\n",
       "    </tr>\n",
       "    <tr>\n",
       "      <th>A3_4</th>\n",
       "      <td>0.052288</td>\n",
       "      <td>0.129032</td>\n",
       "    </tr>\n",
       "    <tr>\n",
       "      <th>A3_6</th>\n",
       "      <td>0.549020</td>\n",
       "      <td>0.645161</td>\n",
       "    </tr>\n",
       "    <tr>\n",
       "      <th>A3_11</th>\n",
       "      <td>0.130719</td>\n",
       "      <td>0.000000</td>\n",
       "    </tr>\n",
       "    <tr>\n",
       "      <th>A3_15</th>\n",
       "      <td>0.084967</td>\n",
       "      <td>0.032258</td>\n",
       "    </tr>\n",
       "    <tr>\n",
       "      <th>A3_19</th>\n",
       "      <td>0.000000</td>\n",
       "      <td>0.000000</td>\n",
       "    </tr>\n",
       "    <tr>\n",
       "      <th>A6_4</th>\n",
       "      <td>0.039216</td>\n",
       "      <td>0.000000</td>\n",
       "    </tr>\n",
       "    <tr>\n",
       "      <th>A6_8</th>\n",
       "      <td>0.000000</td>\n",
       "      <td>0.000000</td>\n",
       "    </tr>\n",
       "    <tr>\n",
       "      <th>A10A</th>\n",
       "      <td>457.516340</td>\n",
       "      <td>9677.419355</td>\n",
       "    </tr>\n",
       "    <tr>\n",
       "      <th>A10F</th>\n",
       "      <td>6823.660131</td>\n",
       "      <td>4741.935484</td>\n",
       "    </tr>\n",
       "    <tr>\n",
       "      <th>A3sum</th>\n",
       "      <td>2.666667</td>\n",
       "      <td>2.096774</td>\n",
       "    </tr>\n",
       "    <tr>\n",
       "      <th>D_TRA1_SMONTH_8.0</th>\n",
       "      <td>0.071895</td>\n",
       "      <td>0.161290</td>\n",
       "    </tr>\n",
       "    <tr>\n",
       "      <th>D_TRA1_SMONTH_9.0</th>\n",
       "      <td>0.058824</td>\n",
       "      <td>0.096774</td>\n",
       "    </tr>\n",
       "    <tr>\n",
       "      <th>A2_1_1.0</th>\n",
       "      <td>0.117647</td>\n",
       "      <td>0.161290</td>\n",
       "    </tr>\n",
       "    <tr>\n",
       "      <th>A2_1_10.0</th>\n",
       "      <td>0.006536</td>\n",
       "      <td>0.000000</td>\n",
       "    </tr>\n",
       "    <tr>\n",
       "      <th>A2_1_11.0</th>\n",
       "      <td>0.032680</td>\n",
       "      <td>0.129032</td>\n",
       "    </tr>\n",
       "    <tr>\n",
       "      <th>A2_1_14.0</th>\n",
       "      <td>0.111111</td>\n",
       "      <td>0.096774</td>\n",
       "    </tr>\n",
       "    <tr>\n",
       "      <th>A2_1_4.0</th>\n",
       "      <td>0.071895</td>\n",
       "      <td>0.161290</td>\n",
       "    </tr>\n",
       "    <tr>\n",
       "      <th>A2_1_9.0</th>\n",
       "      <td>0.039216</td>\n",
       "      <td>0.032258</td>\n",
       "    </tr>\n",
       "    <tr>\n",
       "      <th>A4_1_6.0</th>\n",
       "      <td>0.000000</td>\n",
       "      <td>0.000000</td>\n",
       "    </tr>\n",
       "    <tr>\n",
       "      <th>A4_1_7.0</th>\n",
       "      <td>0.189542</td>\n",
       "      <td>0.290323</td>\n",
       "    </tr>\n",
       "    <tr>\n",
       "      <th>A4_1_8.0</th>\n",
       "      <td>0.281046</td>\n",
       "      <td>0.096774</td>\n",
       "    </tr>\n",
       "    <tr>\n",
       "      <th>A4_1_9.0</th>\n",
       "      <td>0.000000</td>\n",
       "      <td>0.000000</td>\n",
       "    </tr>\n",
       "    <tr>\n",
       "      <th>BAGE_1</th>\n",
       "      <td>0.091503</td>\n",
       "      <td>0.032258</td>\n",
       "    </tr>\n",
       "  </tbody>\n",
       "</table>\n",
       "</div>"
      ],
      "text/plain": [
       "                            담양           영천\n",
       "spot                   36310.0      37070.0\n",
       "A1                    0.006536     0.032258\n",
       "A3_1                  0.771242     0.709677\n",
       "A3_3                  0.013072     0.000000\n",
       "A3_4                  0.052288     0.129032\n",
       "A3_6                  0.549020     0.645161\n",
       "A3_11                 0.130719     0.000000\n",
       "A3_15                 0.084967     0.032258\n",
       "A3_19                 0.000000     0.000000\n",
       "A6_4                  0.039216     0.000000\n",
       "A6_8                  0.000000     0.000000\n",
       "A10A                457.516340  9677.419355\n",
       "A10F               6823.660131  4741.935484\n",
       "A3sum                 2.666667     2.096774\n",
       "D_TRA1_SMONTH_8.0     0.071895     0.161290\n",
       "D_TRA1_SMONTH_9.0     0.058824     0.096774\n",
       "A2_1_1.0              0.117647     0.161290\n",
       "A2_1_10.0             0.006536     0.000000\n",
       "A2_1_11.0             0.032680     0.129032\n",
       "A2_1_14.0             0.111111     0.096774\n",
       "A2_1_4.0              0.071895     0.161290\n",
       "A2_1_9.0              0.039216     0.032258\n",
       "A4_1_6.0              0.000000     0.000000\n",
       "A4_1_7.0              0.189542     0.290323\n",
       "A4_1_8.0              0.281046     0.096774\n",
       "A4_1_9.0              0.000000     0.000000\n",
       "BAGE_1                0.091503     0.032258"
      ]
     },
     "execution_count": 78,
     "metadata": {},
     "output_type": "execute_result"
    }
   ],
   "source": [
    "pd.concat({'담양':dy,'영천':e},axis=1)"
   ]
  },
  {
   "cell_type": "code",
   "execution_count": 79,
   "metadata": {},
   "outputs": [
    {
     "data": {
      "text/html": [
       "<div>\n",
       "<style scoped>\n",
       "    .dataframe tbody tr th:only-of-type {\n",
       "        vertical-align: middle;\n",
       "    }\n",
       "\n",
       "    .dataframe tbody tr th {\n",
       "        vertical-align: top;\n",
       "    }\n",
       "\n",
       "    .dataframe thead tr th {\n",
       "        text-align: left;\n",
       "    }\n",
       "</style>\n",
       "<table border=\"1\" class=\"dataframe\">\n",
       "  <thead>\n",
       "    <tr>\n",
       "      <th></th>\n",
       "      <th>순천</th>\n",
       "      <th>창녕</th>\n",
       "    </tr>\n",
       "    <tr>\n",
       "      <th>spot</th>\n",
       "      <th>36360.0</th>\n",
       "      <th>38330.0</th>\n",
       "    </tr>\n",
       "  </thead>\n",
       "  <tbody>\n",
       "    <tr>\n",
       "      <th>A1</th>\n",
       "      <td>0.018692</td>\n",
       "      <td>0.000000</td>\n",
       "    </tr>\n",
       "    <tr>\n",
       "      <th>A3_1</th>\n",
       "      <td>0.785047</td>\n",
       "      <td>0.774194</td>\n",
       "    </tr>\n",
       "    <tr>\n",
       "      <th>A3_3</th>\n",
       "      <td>0.000000</td>\n",
       "      <td>0.064516</td>\n",
       "    </tr>\n",
       "    <tr>\n",
       "      <th>A3_4</th>\n",
       "      <td>0.018692</td>\n",
       "      <td>0.096774</td>\n",
       "    </tr>\n",
       "    <tr>\n",
       "      <th>A3_6</th>\n",
       "      <td>0.523364</td>\n",
       "      <td>0.774194</td>\n",
       "    </tr>\n",
       "    <tr>\n",
       "      <th>A3_11</th>\n",
       "      <td>0.093458</td>\n",
       "      <td>0.032258</td>\n",
       "    </tr>\n",
       "    <tr>\n",
       "      <th>A3_15</th>\n",
       "      <td>0.018692</td>\n",
       "      <td>0.000000</td>\n",
       "    </tr>\n",
       "    <tr>\n",
       "      <th>A3_19</th>\n",
       "      <td>0.009346</td>\n",
       "      <td>0.000000</td>\n",
       "    </tr>\n",
       "    <tr>\n",
       "      <th>A6_4</th>\n",
       "      <td>0.028037</td>\n",
       "      <td>0.032258</td>\n",
       "    </tr>\n",
       "    <tr>\n",
       "      <th>A6_8</th>\n",
       "      <td>0.000000</td>\n",
       "      <td>0.000000</td>\n",
       "    </tr>\n",
       "    <tr>\n",
       "      <th>A10A</th>\n",
       "      <td>607.476636</td>\n",
       "      <td>0.000000</td>\n",
       "    </tr>\n",
       "    <tr>\n",
       "      <th>A10F</th>\n",
       "      <td>7897.570093</td>\n",
       "      <td>3774.516129</td>\n",
       "    </tr>\n",
       "    <tr>\n",
       "      <th>A3sum</th>\n",
       "      <td>2.271028</td>\n",
       "      <td>2.387097</td>\n",
       "    </tr>\n",
       "    <tr>\n",
       "      <th>D_TRA1_SMONTH_8.0</th>\n",
       "      <td>0.102804</td>\n",
       "      <td>0.064516</td>\n",
       "    </tr>\n",
       "    <tr>\n",
       "      <th>D_TRA1_SMONTH_9.0</th>\n",
       "      <td>0.046729</td>\n",
       "      <td>0.129032</td>\n",
       "    </tr>\n",
       "    <tr>\n",
       "      <th>A2_1_1.0</th>\n",
       "      <td>0.102804</td>\n",
       "      <td>0.129032</td>\n",
       "    </tr>\n",
       "    <tr>\n",
       "      <th>A2_1_10.0</th>\n",
       "      <td>0.009346</td>\n",
       "      <td>0.064516</td>\n",
       "    </tr>\n",
       "    <tr>\n",
       "      <th>A2_1_11.0</th>\n",
       "      <td>0.037383</td>\n",
       "      <td>0.032258</td>\n",
       "    </tr>\n",
       "    <tr>\n",
       "      <th>A2_1_14.0</th>\n",
       "      <td>0.121495</td>\n",
       "      <td>0.258065</td>\n",
       "    </tr>\n",
       "    <tr>\n",
       "      <th>A2_1_4.0</th>\n",
       "      <td>0.056075</td>\n",
       "      <td>0.096774</td>\n",
       "    </tr>\n",
       "    <tr>\n",
       "      <th>A2_1_9.0</th>\n",
       "      <td>0.037383</td>\n",
       "      <td>0.064516</td>\n",
       "    </tr>\n",
       "    <tr>\n",
       "      <th>A4_1_6.0</th>\n",
       "      <td>0.018692</td>\n",
       "      <td>0.000000</td>\n",
       "    </tr>\n",
       "    <tr>\n",
       "      <th>A4_1_7.0</th>\n",
       "      <td>0.168224</td>\n",
       "      <td>0.354839</td>\n",
       "    </tr>\n",
       "    <tr>\n",
       "      <th>A4_1_8.0</th>\n",
       "      <td>0.383178</td>\n",
       "      <td>0.096774</td>\n",
       "    </tr>\n",
       "    <tr>\n",
       "      <th>A4_1_9.0</th>\n",
       "      <td>0.000000</td>\n",
       "      <td>0.000000</td>\n",
       "    </tr>\n",
       "    <tr>\n",
       "      <th>BAGE_1</th>\n",
       "      <td>0.046729</td>\n",
       "      <td>0.032258</td>\n",
       "    </tr>\n",
       "  </tbody>\n",
       "</table>\n",
       "</div>"
      ],
      "text/plain": [
       "                            순천           창녕\n",
       "spot                   36360.0      38330.0\n",
       "A1                    0.018692     0.000000\n",
       "A3_1                  0.785047     0.774194\n",
       "A3_3                  0.000000     0.064516\n",
       "A3_4                  0.018692     0.096774\n",
       "A3_6                  0.523364     0.774194\n",
       "A3_11                 0.093458     0.032258\n",
       "A3_15                 0.018692     0.000000\n",
       "A3_19                 0.009346     0.000000\n",
       "A6_4                  0.028037     0.032258\n",
       "A6_8                  0.000000     0.000000\n",
       "A10A                607.476636     0.000000\n",
       "A10F               7897.570093  3774.516129\n",
       "A3sum                 2.271028     2.387097\n",
       "D_TRA1_SMONTH_8.0     0.102804     0.064516\n",
       "D_TRA1_SMONTH_9.0     0.046729     0.129032\n",
       "A2_1_1.0              0.102804     0.129032\n",
       "A2_1_10.0             0.009346     0.064516\n",
       "A2_1_11.0             0.037383     0.032258\n",
       "A2_1_14.0             0.121495     0.258065\n",
       "A2_1_4.0              0.056075     0.096774\n",
       "A2_1_9.0              0.037383     0.064516\n",
       "A4_1_6.0              0.018692     0.000000\n",
       "A4_1_7.0              0.168224     0.354839\n",
       "A4_1_8.0              0.383178     0.096774\n",
       "A4_1_9.0              0.000000     0.000000\n",
       "BAGE_1                0.046729     0.032258"
      ]
     },
     "execution_count": 79,
     "metadata": {},
     "output_type": "execute_result"
    }
   ],
   "source": [
    "pd.concat({'순천':sc,'창녕':w},axis=1)"
   ]
  },
  {
   "cell_type": "code",
   "execution_count": 80,
   "metadata": {},
   "outputs": [
    {
     "data": {
      "text/html": [
       "<div>\n",
       "<style scoped>\n",
       "    .dataframe tbody tr th:only-of-type {\n",
       "        vertical-align: middle;\n",
       "    }\n",
       "\n",
       "    .dataframe tbody tr th {\n",
       "        vertical-align: top;\n",
       "    }\n",
       "\n",
       "    .dataframe thead tr th {\n",
       "        text-align: left;\n",
       "    }\n",
       "</style>\n",
       "<table border=\"1\" class=\"dataframe\">\n",
       "  <thead>\n",
       "    <tr>\n",
       "      <th></th>\n",
       "      <th>공주</th>\n",
       "      <th>홍성</th>\n",
       "    </tr>\n",
       "    <tr>\n",
       "      <th>spot</th>\n",
       "      <th>34020.0</th>\n",
       "      <th>34360.0</th>\n",
       "    </tr>\n",
       "  </thead>\n",
       "  <tbody>\n",
       "    <tr>\n",
       "      <th>A1</th>\n",
       "      <td>0.020134</td>\n",
       "      <td>0.00</td>\n",
       "    </tr>\n",
       "    <tr>\n",
       "      <th>A3_1</th>\n",
       "      <td>0.852349</td>\n",
       "      <td>0.80</td>\n",
       "    </tr>\n",
       "    <tr>\n",
       "      <th>A3_3</th>\n",
       "      <td>0.006711</td>\n",
       "      <td>0.00</td>\n",
       "    </tr>\n",
       "    <tr>\n",
       "      <th>A3_4</th>\n",
       "      <td>0.275168</td>\n",
       "      <td>0.12</td>\n",
       "    </tr>\n",
       "    <tr>\n",
       "      <th>A3_6</th>\n",
       "      <td>0.416107</td>\n",
       "      <td>0.44</td>\n",
       "    </tr>\n",
       "    <tr>\n",
       "      <th>A3_11</th>\n",
       "      <td>0.046980</td>\n",
       "      <td>0.04</td>\n",
       "    </tr>\n",
       "    <tr>\n",
       "      <th>A3_15</th>\n",
       "      <td>0.026846</td>\n",
       "      <td>0.08</td>\n",
       "    </tr>\n",
       "    <tr>\n",
       "      <th>A3_19</th>\n",
       "      <td>0.000000</td>\n",
       "      <td>0.04</td>\n",
       "    </tr>\n",
       "    <tr>\n",
       "      <th>A6_4</th>\n",
       "      <td>0.000000</td>\n",
       "      <td>0.04</td>\n",
       "    </tr>\n",
       "    <tr>\n",
       "      <th>A6_8</th>\n",
       "      <td>0.006711</td>\n",
       "      <td>0.00</td>\n",
       "    </tr>\n",
       "    <tr>\n",
       "      <th>A10A</th>\n",
       "      <td>3731.677852</td>\n",
       "      <td>0.00</td>\n",
       "    </tr>\n",
       "    <tr>\n",
       "      <th>A10F</th>\n",
       "      <td>4618.255034</td>\n",
       "      <td>6280.40</td>\n",
       "    </tr>\n",
       "    <tr>\n",
       "      <th>A3sum</th>\n",
       "      <td>2.409396</td>\n",
       "      <td>2.56</td>\n",
       "    </tr>\n",
       "    <tr>\n",
       "      <th>D_TRA1_SMONTH_8.0</th>\n",
       "      <td>0.046980</td>\n",
       "      <td>0.04</td>\n",
       "    </tr>\n",
       "    <tr>\n",
       "      <th>D_TRA1_SMONTH_9.0</th>\n",
       "      <td>0.033557</td>\n",
       "      <td>0.04</td>\n",
       "    </tr>\n",
       "    <tr>\n",
       "      <th>A2_1_1.0</th>\n",
       "      <td>0.221477</td>\n",
       "      <td>0.28</td>\n",
       "    </tr>\n",
       "    <tr>\n",
       "      <th>A2_1_10.0</th>\n",
       "      <td>0.006711</td>\n",
       "      <td>0.00</td>\n",
       "    </tr>\n",
       "    <tr>\n",
       "      <th>A2_1_11.0</th>\n",
       "      <td>0.026846</td>\n",
       "      <td>0.08</td>\n",
       "    </tr>\n",
       "    <tr>\n",
       "      <th>A2_1_14.0</th>\n",
       "      <td>0.060403</td>\n",
       "      <td>0.00</td>\n",
       "    </tr>\n",
       "    <tr>\n",
       "      <th>A2_1_4.0</th>\n",
       "      <td>0.147651</td>\n",
       "      <td>0.08</td>\n",
       "    </tr>\n",
       "    <tr>\n",
       "      <th>A2_1_9.0</th>\n",
       "      <td>0.040268</td>\n",
       "      <td>0.08</td>\n",
       "    </tr>\n",
       "    <tr>\n",
       "      <th>A4_1_6.0</th>\n",
       "      <td>0.006711</td>\n",
       "      <td>0.00</td>\n",
       "    </tr>\n",
       "    <tr>\n",
       "      <th>A4_1_7.0</th>\n",
       "      <td>0.382550</td>\n",
       "      <td>0.36</td>\n",
       "    </tr>\n",
       "    <tr>\n",
       "      <th>A4_1_8.0</th>\n",
       "      <td>0.080537</td>\n",
       "      <td>0.00</td>\n",
       "    </tr>\n",
       "    <tr>\n",
       "      <th>A4_1_9.0</th>\n",
       "      <td>0.000000</td>\n",
       "      <td>0.00</td>\n",
       "    </tr>\n",
       "    <tr>\n",
       "      <th>BAGE_1</th>\n",
       "      <td>0.053691</td>\n",
       "      <td>0.00</td>\n",
       "    </tr>\n",
       "  </tbody>\n",
       "</table>\n",
       "</div>"
      ],
      "text/plain": [
       "                            공주       홍성\n",
       "spot                   34020.0  34360.0\n",
       "A1                    0.020134     0.00\n",
       "A3_1                  0.852349     0.80\n",
       "A3_3                  0.006711     0.00\n",
       "A3_4                  0.275168     0.12\n",
       "A3_6                  0.416107     0.44\n",
       "A3_11                 0.046980     0.04\n",
       "A3_15                 0.026846     0.08\n",
       "A3_19                 0.000000     0.04\n",
       "A6_4                  0.000000     0.04\n",
       "A6_8                  0.006711     0.00\n",
       "A10A               3731.677852     0.00\n",
       "A10F               4618.255034  6280.40\n",
       "A3sum                 2.409396     2.56\n",
       "D_TRA1_SMONTH_8.0     0.046980     0.04\n",
       "D_TRA1_SMONTH_9.0     0.033557     0.04\n",
       "A2_1_1.0              0.221477     0.28\n",
       "A2_1_10.0             0.006711     0.00\n",
       "A2_1_11.0             0.026846     0.08\n",
       "A2_1_14.0             0.060403     0.00\n",
       "A2_1_4.0              0.147651     0.08\n",
       "A2_1_9.0              0.040268     0.08\n",
       "A4_1_6.0              0.006711     0.00\n",
       "A4_1_7.0              0.382550     0.36\n",
       "A4_1_8.0              0.080537     0.00\n",
       "A4_1_9.0              0.000000     0.00\n",
       "BAGE_1                0.053691     0.00"
      ]
     },
     "execution_count": 80,
     "metadata": {},
     "output_type": "execute_result"
    }
   ],
   "source": [
    "pd.concat({'공주':kj,'홍성':r},axis=1)"
   ]
  },
  {
   "cell_type": "code",
   "execution_count": 82,
   "metadata": {},
   "outputs": [],
   "source": [
    "#last.to_csv('찐막.csv',encoding='euc-kr')"
   ]
  }
 ],
 "metadata": {
  "kernelspec": {
   "display_name": "Python 3",
   "language": "python",
   "name": "python3"
  },
  "language_info": {
   "codemirror_mode": {
    "name": "ipython",
    "version": 3
   },
   "file_extension": ".py",
   "mimetype": "text/x-python",
   "name": "python",
   "nbconvert_exporter": "python",
   "pygments_lexer": "ipython3",
   "version": "3.7.3"
  }
 },
 "nbformat": 4,
 "nbformat_minor": 2
}
